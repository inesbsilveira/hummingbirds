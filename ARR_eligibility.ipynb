{
  "nbformat": 4,
  "nbformat_minor": 0,
  "metadata": {
    "colab": {
      "provenance": [],
      "authorship_tag": "ABX9TyMfp2ZgH6ldB2xyrugYZfM1",
      "include_colab_link": true
    },
    "kernelspec": {
      "name": "python3",
      "display_name": "Python 3"
    },
    "language_info": {
      "name": "python"
    }
  },
  "cells": [
    {
      "cell_type": "markdown",
      "metadata": {
        "id": "view-in-github",
        "colab_type": "text"
      },
      "source": [
        "<a href=\"https://colab.research.google.com/github/inesbsilveira/hummingbirds/blob/main/ARR_eligibility.ipynb\" target=\"_parent\"><img src=\"https://colab.research.google.com/assets/colab-badge.svg\" alt=\"Open In Colab\"/></a>"
      ]
    },
    {
      "cell_type": "markdown",
      "source": [
        "#### Imports"
      ],
      "metadata": {
        "id": "F0XrdDNPH_5e"
      }
    },
    {
      "cell_type": "code",
      "execution_count": null,
      "metadata": {
        "id": "siet8RrIERB3"
      },
      "outputs": [],
      "source": [
        "!pip install geemap\n",
        "!pip install geojson"
      ]
    },
    {
      "cell_type": "code",
      "source": [
        "import os\n",
        "import csv\n",
        "import pandas as pd\n",
        "import geopandas as gpd\n",
        "from shapely.geometry import Polygon, MultiPolygon\n",
        "from shapely.validation import make_valid\n",
        "import geojson\n",
        "import zipfile\n",
        "import ee\n",
        "import geemap"
      ],
      "metadata": {
        "id": "prT91HmCEV-y"
      },
      "execution_count": null,
      "outputs": []
    },
    {
      "cell_type": "markdown",
      "source": [
        "#### connect to GEE"
      ],
      "metadata": {
        "id": "hW_71UXTIOc0"
      }
    },
    {
      "cell_type": "code",
      "source": [
        "my_project = 'ee-ineshummingbirds'\n",
        "ee.Authenticate()\n",
        "ee.Initialize(project= my_project)"
      ],
      "metadata": {
        "id": "sVZYnzHBEz8N",
        "outputId": "bac56c51-cd69-414c-afab-4620e12df5bb",
        "colab": {
          "base_uri": "https://localhost:8080/",
          "height": 17
        }
      },
      "execution_count": null,
      "outputs": [
        {
          "output_type": "display_data",
          "data": {
            "text/plain": [
              "<IPython.core.display.HTML object>"
            ],
            "text/html": [
              "\n",
              "            <style>\n",
              "                .geemap-dark {\n",
              "                    --jp-widgets-color: white;\n",
              "                    --jp-widgets-label-color: white;\n",
              "                    --jp-ui-font-color1: white;\n",
              "                    --jp-layout-color2: #454545;\n",
              "                    background-color: #383838;\n",
              "                }\n",
              "\n",
              "                .geemap-dark .jupyter-button {\n",
              "                    --jp-layout-color3: #383838;\n",
              "                }\n",
              "\n",
              "                .geemap-colab {\n",
              "                    background-color: var(--colab-primary-surface-color, white);\n",
              "                }\n",
              "\n",
              "                .geemap-colab .jupyter-button {\n",
              "                    --jp-layout-color3: var(--colab-primary-surface-color, white);\n",
              "                }\n",
              "            </style>\n",
              "            "
            ]
          },
          "metadata": {}
        }
      ]
    },
    {
      "cell_type": "markdown",
      "source": [
        "#### Variables"
      ],
      "metadata": {
        "id": "QTXV1k5SISf_"
      }
    },
    {
      "cell_type": "markdown",
      "source": [
        "##### Input files -load only one file"
      ],
      "metadata": {
        "id": "jXy2vZnaIoek"
      }
    },
    {
      "cell_type": "code",
      "source": [
        "# if th einput is a shapefile\n",
        "input_shp = \"calao_for_eligibility.shp\"\n",
        "gdf = gpd.read_file(input_shp).to_crs('EPSG:4326')\n",
        "# if the input is a geojson\n",
        "#input_geojson = \"NSVK_cleaned_17_35.geojson\"\n",
        "#gdf = gpd.read_file(input_geojson).to_crs('EPSG:4326')\n",
        "File = geemap.geopandas_to_ee(gdf)"
      ],
      "metadata": {
        "colab": {
          "base_uri": "https://localhost:8080/",
          "height": 17
        },
        "id": "-zoWGTkqFDIU",
        "outputId": "36c5e713-e3b5-4bfb-ec0a-186eb1b1e7e2"
      },
      "execution_count": 49,
      "outputs": [
        {
          "output_type": "display_data",
          "data": {
            "text/plain": [
              "<IPython.core.display.HTML object>"
            ],
            "text/html": [
              "\n",
              "            <style>\n",
              "                .geemap-dark {\n",
              "                    --jp-widgets-color: white;\n",
              "                    --jp-widgets-label-color: white;\n",
              "                    --jp-ui-font-color1: white;\n",
              "                    --jp-layout-color2: #454545;\n",
              "                    background-color: #383838;\n",
              "                }\n",
              "\n",
              "                .geemap-dark .jupyter-button {\n",
              "                    --jp-layout-color3: #383838;\n",
              "                }\n",
              "\n",
              "                .geemap-colab {\n",
              "                    background-color: var(--colab-primary-surface-color, white);\n",
              "                }\n",
              "\n",
              "                .geemap-colab .jupyter-button {\n",
              "                    --jp-layout-color3: var(--colab-primary-surface-color, white);\n",
              "                }\n",
              "            </style>\n",
              "            "
            ]
          },
          "metadata": {}
        }
      ]
    },
    {
      "cell_type": "code",
      "source": [
        "cover_threshold = 10  # Change the forest cover\n",
        "height_threshold = 2   # change the forest height\n",
        "#dates for landsat images\n",
        "year_0 = 2014    # start year\n",
        "year_10 = 2024  # end year\n",
        "#dates for landsat for 2020\n",
        "year_0_2020 = 2019\n",
        "year_1_2020 = 2020\n",
        "start_date_2020 = '-12-01'\n",
        "end_date_2020 = '02-01'\n",
        "start_date = '-01-01'   # mm-dd format\n",
        "end_date = '-03-30'     # mm-dd format\n",
        "#forest size (1ha = 11 pixels) // change according to the forest definition of each country\n",
        "forest_size_ha = 0.1  #common values are 0.1, 0.3, 0.5 and 1\n",
        "forest_size_pixels = forest_size_ha * 11\n",
        "#slope\n",
        "slope_percentage = 30\n",
        "#minimum forest size for eligibility\n",
        "min_forest_pixels_list = [11, 55, 110]"
      ],
      "metadata": {
        "colab": {
          "base_uri": "https://localhost:8080/",
          "height": 17
        },
        "id": "jpDrrjYeIUq4",
        "outputId": "a460ab6b-17a0-49c0-ece5-738933a3cf05"
      },
      "execution_count": 50,
      "outputs": [
        {
          "output_type": "display_data",
          "data": {
            "text/plain": [
              "<IPython.core.display.HTML object>"
            ],
            "text/html": [
              "\n",
              "            <style>\n",
              "                .geemap-dark {\n",
              "                    --jp-widgets-color: white;\n",
              "                    --jp-widgets-label-color: white;\n",
              "                    --jp-ui-font-color1: white;\n",
              "                    --jp-layout-color2: #454545;\n",
              "                    background-color: #383838;\n",
              "                }\n",
              "\n",
              "                .geemap-dark .jupyter-button {\n",
              "                    --jp-layout-color3: #383838;\n",
              "                }\n",
              "\n",
              "                .geemap-colab {\n",
              "                    background-color: var(--colab-primary-surface-color, white);\n",
              "                }\n",
              "\n",
              "                .geemap-colab .jupyter-button {\n",
              "                    --jp-layout-color3: var(--colab-primary-surface-color, white);\n",
              "                }\n",
              "            </style>\n",
              "            "
            ]
          },
          "metadata": {}
        }
      ]
    },
    {
      "cell_type": "code",
      "source": [
        "gfc = ee.Image('UMD/hansen/global_forest_change_2023_v1_11').clip(File);\n",
        "canopyCover = gfc.select(['treecover2000']).clip(File).gte(cover_threshold)\n",
        "\n",
        "# Tree height\n",
        "tree_height = ee.Image('users/nlang/ETH_GlobalCanopyHeight_2020_10m_v1').clip(File.geometry()).gte(height_threshold)\n",
        "\n",
        "# Overlay tree cover and tree height to have a layer presenting the threshold\n",
        "forest_mask = tree_height.multiply(canopyCover)  # Overlay the two layers\n",
        "\n",
        "#Load the ESA WorldCover and clip the area of interest ##IF NOT HAVING FOREST DEFINITION BY THE COUNTRY and small project area <100.000 ha\n",
        "esa = ee.ImageCollection('ESA/WorldCover/v200').first().clip(File.geometry())\n",
        "#Create a binary image from ESA just for tree (10)\n",
        "esa_10 = esa.eq(10)\n",
        "#Overlay ESA forest image and tree cover greater than 30%\n",
        "result = esa_10.multiply(forest_mask)"
      ],
      "metadata": {
        "colab": {
          "base_uri": "https://localhost:8080/",
          "height": 17
        },
        "id": "3owISgUkKAMp",
        "outputId": "051873e5-81a4-4fc3-d04c-d12f3367cef7"
      },
      "execution_count": 51,
      "outputs": [
        {
          "output_type": "display_data",
          "data": {
            "text/plain": [
              "<IPython.core.display.HTML object>"
            ],
            "text/html": [
              "\n",
              "            <style>\n",
              "                .geemap-dark {\n",
              "                    --jp-widgets-color: white;\n",
              "                    --jp-widgets-label-color: white;\n",
              "                    --jp-ui-font-color1: white;\n",
              "                    --jp-layout-color2: #454545;\n",
              "                    background-color: #383838;\n",
              "                }\n",
              "\n",
              "                .geemap-dark .jupyter-button {\n",
              "                    --jp-layout-color3: #383838;\n",
              "                }\n",
              "\n",
              "                .geemap-colab {\n",
              "                    background-color: var(--colab-primary-surface-color, white);\n",
              "                }\n",
              "\n",
              "                .geemap-colab .jupyter-button {\n",
              "                    --jp-layout-color3: var(--colab-primary-surface-color, white);\n",
              "                }\n",
              "            </style>\n",
              "            "
            ]
          },
          "metadata": {}
        }
      ]
    },
    {
      "cell_type": "code",
      "source": [
        "reclassify_map = reclassify(esa)\n",
        "# Reclassify the reference land-use map\n",
        "forest = reclassify_map.eq(1).selfMask().multiply(1)\n",
        "non_forest = reclassify_map.eq(0).Or(reclassify_map.eq(20)).Or(reclassify_map.eq(30)).Or(reclassify_map.eq(40)).selfMask().multiply(2)\n",
        "built_up = reclassify_map.eq(50).selfMask().multiply(3)\n",
        "water = reclassify_map.eq(80).selfMask().multiply(4)\n",
        "other_land = reclassify_map.eq(60).Or(reclassify_map.eq(70)).Or(reclassify_map.eq(90)).Or(reclassify_map.eq(95)).Or(reclassify_map.eq(100)).selfMask().multiply(5)\n",
        "\n",
        "new_esa = forest.blend(non_forest).blend(built_up).blend(water).blend(other_land)"
      ],
      "metadata": {
        "colab": {
          "base_uri": "https://localhost:8080/",
          "height": 17
        },
        "id": "OIlwawdzLfNN",
        "outputId": "e0dd0ae5-ad02-422d-e5ab-ca2e951adf45"
      },
      "execution_count": 52,
      "outputs": [
        {
          "output_type": "display_data",
          "data": {
            "text/plain": [
              "<IPython.core.display.HTML object>"
            ],
            "text/html": [
              "\n",
              "            <style>\n",
              "                .geemap-dark {\n",
              "                    --jp-widgets-color: white;\n",
              "                    --jp-widgets-label-color: white;\n",
              "                    --jp-ui-font-color1: white;\n",
              "                    --jp-layout-color2: #454545;\n",
              "                    background-color: #383838;\n",
              "                }\n",
              "\n",
              "                .geemap-dark .jupyter-button {\n",
              "                    --jp-layout-color3: #383838;\n",
              "                }\n",
              "\n",
              "                .geemap-colab {\n",
              "                    background-color: var(--colab-primary-surface-color, white);\n",
              "                }\n",
              "\n",
              "                .geemap-colab .jupyter-button {\n",
              "                    --jp-layout-color3: var(--colab-primary-surface-color, white);\n",
              "                }\n",
              "            </style>\n",
              "            "
            ]
          },
          "metadata": {}
        }
      ]
    },
    {
      "cell_type": "code",
      "source": [
        "###If runing only ESA the code is:\n",
        "Map=geemap.Map()\n",
        "Map.add_basemap('HYBRID')\n",
        "Map.centerObject(File, 10)\n",
        "#Map.addLayer(new_esa, {'min':1, 'max': 5,'palette': ['006400', 'ffff4c', 'fa0000', '0064c8', '0096a0']}, 'ESA') #### check here what its needed - ESA or ESA_new. why do we want esa_new??\n",
        "#Map.add_legend(title='Land Cover', legend_dict = legend_dict)\n",
        "Map.addLayer(esa, {'bands':['Map']}, 'ESA')\n",
        "Map"
      ],
      "metadata": {
        "id": "OJ0HzMybMRYa"
      },
      "execution_count": null,
      "outputs": []
    },
    {
      "cell_type": "code",
      "source": [
        "#get sample points for training and validation\n",
        "#Change according to the sampling method\n",
        "points = esa.sample(\n",
        "    **{\n",
        "        \"region\": File.geometry(),\n",
        "        \"scale\": 30,\n",
        "        \"numPixels\": 10000,\n",
        "        \"seed\": 0,\n",
        "        \"geometries\": True,\n",
        "    })"
      ],
      "metadata": {
        "colab": {
          "base_uri": "https://localhost:8080/",
          "height": 17
        },
        "id": "z2AW1lxDNtIT",
        "outputId": "f0d5781b-0f61-4650-d062-8af3d2c29dec"
      },
      "execution_count": 53,
      "outputs": [
        {
          "output_type": "display_data",
          "data": {
            "text/plain": [
              "<IPython.core.display.HTML object>"
            ],
            "text/html": [
              "\n",
              "            <style>\n",
              "                .geemap-dark {\n",
              "                    --jp-widgets-color: white;\n",
              "                    --jp-widgets-label-color: white;\n",
              "                    --jp-ui-font-color1: white;\n",
              "                    --jp-layout-color2: #454545;\n",
              "                    background-color: #383838;\n",
              "                }\n",
              "\n",
              "                .geemap-dark .jupyter-button {\n",
              "                    --jp-layout-color3: #383838;\n",
              "                }\n",
              "\n",
              "                .geemap-colab {\n",
              "                    background-color: var(--colab-primary-surface-color, white);\n",
              "                }\n",
              "\n",
              "                .geemap-colab .jupyter-button {\n",
              "                    --jp-layout-color3: var(--colab-primary-surface-color, white);\n",
              "                }\n",
              "            </style>\n",
              "            "
            ]
          },
          "metadata": {}
        }
      ]
    },
    {
      "cell_type": "code",
      "source": [
        "#Landsat collection for year 0\n",
        "collection_y0 = create_landsat_collection(year_0, year_0, start_date, end_date, File, apply_scale_factors, maskSrClouds)\n",
        "collection_l7_y0 = create_landsat_collection_with_clouds(year_0, year_0, start_date, end_date, File, apply_scale_factors, maskSrClouds, renamel9)\n",
        "landsat78composite_y0 = create_composite(collection_l7_y0, collection_y0, fillGap, File)\n",
        "\n",
        "#print('Number of Landsat scenes for year 0:', collection_y0.size().getInfo())\n",
        "#print('Number of Landsat scenes for year 0:', collection_l7_y0.size().getInfo())"
      ],
      "metadata": {
        "id": "dE0L4zQTPBRK",
        "outputId": "e57c6e61-00e8-432f-fe9b-07c65d95aa88",
        "colab": {
          "base_uri": "https://localhost:8080/",
          "height": 17
        }
      },
      "execution_count": 54,
      "outputs": [
        {
          "output_type": "display_data",
          "data": {
            "text/plain": [
              "<IPython.core.display.HTML object>"
            ],
            "text/html": [
              "\n",
              "            <style>\n",
              "                .geemap-dark {\n",
              "                    --jp-widgets-color: white;\n",
              "                    --jp-widgets-label-color: white;\n",
              "                    --jp-ui-font-color1: white;\n",
              "                    --jp-layout-color2: #454545;\n",
              "                    background-color: #383838;\n",
              "                }\n",
              "\n",
              "                .geemap-dark .jupyter-button {\n",
              "                    --jp-layout-color3: #383838;\n",
              "                }\n",
              "\n",
              "                .geemap-colab {\n",
              "                    background-color: var(--colab-primary-surface-color, white);\n",
              "                }\n",
              "\n",
              "                .geemap-colab .jupyter-button {\n",
              "                    --jp-layout-color3: var(--colab-primary-surface-color, white);\n",
              "                }\n",
              "            </style>\n",
              "            "
            ]
          },
          "metadata": {}
        }
      ]
    },
    {
      "cell_type": "code",
      "source": [
        "#Landsat collection for year 10\n",
        "collection_y10 = create_landsat_collection(year_10, year_10, start_date, end_date, File, apply_scale_factors, maskSrClouds)\n",
        "collection_l7_y10 = create_landsat_collection_with_clouds(year_10, year_10, start_date, end_date, File, apply_scale_factors, maskSrClouds, renamel9)\n",
        "landsat78composite_y10 = create_composite(collection_l7_y10, collection_y10, fillGap, File)\n",
        "\n",
        "#print('Number of Landsat scenes for year 10:', collection_y10.size().getInfo())\n",
        "#print('Number of Landsat scenes for year 10:', collection_l7_y10.size().getInfo())"
      ],
      "metadata": {
        "id": "kjmbl3c8PHgK",
        "outputId": "50b1ae4c-310f-46a9-bad4-f5177905f664",
        "colab": {
          "base_uri": "https://localhost:8080/",
          "height": 17
        }
      },
      "execution_count": 55,
      "outputs": [
        {
          "output_type": "display_data",
          "data": {
            "text/plain": [
              "<IPython.core.display.HTML object>"
            ],
            "text/html": [
              "\n",
              "            <style>\n",
              "                .geemap-dark {\n",
              "                    --jp-widgets-color: white;\n",
              "                    --jp-widgets-label-color: white;\n",
              "                    --jp-ui-font-color1: white;\n",
              "                    --jp-layout-color2: #454545;\n",
              "                    background-color: #383838;\n",
              "                }\n",
              "\n",
              "                .geemap-dark .jupyter-button {\n",
              "                    --jp-layout-color3: #383838;\n",
              "                }\n",
              "\n",
              "                .geemap-colab {\n",
              "                    background-color: var(--colab-primary-surface-color, white);\n",
              "                }\n",
              "\n",
              "                .geemap-colab .jupyter-button {\n",
              "                    --jp-layout-color3: var(--colab-primary-surface-color, white);\n",
              "                }\n",
              "            </style>\n",
              "            "
            ]
          },
          "metadata": {}
        }
      ]
    },
    {
      "cell_type": "code",
      "source": [
        "#Landsat collection for 2020\n",
        "collection_2020 = create_landsat_collection(year_0_2020, year_1_2020, start_date_2020, end_date_2020, File, apply_scale_factors, maskSrClouds)\n",
        "collection_l7_2020 = create_landsat_collection_with_clouds(year_0_2020, year_1_2020, start_date_2020, end_date_2020, File, apply_scale_factors, maskSrClouds, renamel9)\n",
        "landsat78composite_2020 = create_composite(collection_l7_2020, collection_2020, fillGap, File)\n",
        "\n",
        "#print('Number of Landsat scenes for year 2020:', collection_2020.size().getInfo())\n",
        "#print('Number of Landsat scenes for year 2020:', collection_l7_2020.size().getInfo())"
      ],
      "metadata": {
        "id": "m5AclO_HPN6J",
        "outputId": "da505b9b-21e5-4b44-9485-90571c995df1",
        "colab": {
          "base_uri": "https://localhost:8080/",
          "height": 17
        }
      },
      "execution_count": 56,
      "outputs": [
        {
          "output_type": "display_data",
          "data": {
            "text/plain": [
              "<IPython.core.display.HTML object>"
            ],
            "text/html": [
              "\n",
              "            <style>\n",
              "                .geemap-dark {\n",
              "                    --jp-widgets-color: white;\n",
              "                    --jp-widgets-label-color: white;\n",
              "                    --jp-ui-font-color1: white;\n",
              "                    --jp-layout-color2: #454545;\n",
              "                    background-color: #383838;\n",
              "                }\n",
              "\n",
              "                .geemap-dark .jupyter-button {\n",
              "                    --jp-layout-color3: #383838;\n",
              "                }\n",
              "\n",
              "                .geemap-colab {\n",
              "                    background-color: var(--colab-primary-surface-color, white);\n",
              "                }\n",
              "\n",
              "                .geemap-colab .jupyter-button {\n",
              "                    --jp-layout-color3: var(--colab-primary-surface-color, white);\n",
              "                }\n",
              "            </style>\n",
              "            "
            ]
          },
          "metadata": {}
        }
      ]
    },
    {
      "cell_type": "code",
      "source": [
        "#check the cloud cover in the retrieved scenes\n",
        "Map=geemap.Map()\n",
        "Map.add_basemap('HYBRID', False)\n",
        "Map.centerObject(File, 10)\n",
        "Map.addLayer(landsat78composite_y0, visParams, 'Composite year 0')\n",
        "Map.addLayer(landsat78composite_y10, visParams, 'Composite year 10')\n",
        "Map.addLayer(landsat78composite_2020, visParams, 'Composite year 2020')\n",
        "#Map"
      ],
      "metadata": {
        "id": "ecdYa2maP4J3"
      },
      "execution_count": null,
      "outputs": []
    },
    {
      "cell_type": "code",
      "execution_count": 57,
      "metadata": {
        "colab": {
          "base_uri": "https://localhost:8080/",
          "height": 17
        },
        "id": "09ee1a3a",
        "outputId": "3b1f48da-f68d-453f-a66a-27bf42892234",
        "tags": []
      },
      "outputs": [
        {
          "output_type": "display_data",
          "data": {
            "text/plain": [
              "<IPython.core.display.HTML object>"
            ],
            "text/html": [
              "\n",
              "            <style>\n",
              "                .geemap-dark {\n",
              "                    --jp-widgets-color: white;\n",
              "                    --jp-widgets-label-color: white;\n",
              "                    --jp-ui-font-color1: white;\n",
              "                    --jp-layout-color2: #454545;\n",
              "                    background-color: #383838;\n",
              "                }\n",
              "\n",
              "                .geemap-dark .jupyter-button {\n",
              "                    --jp-layout-color3: #383838;\n",
              "                }\n",
              "\n",
              "                .geemap-colab {\n",
              "                    background-color: var(--colab-primary-surface-color, white);\n",
              "                }\n",
              "\n",
              "                .geemap-colab .jupyter-button {\n",
              "                    --jp-layout-color3: var(--colab-primary-surface-color, white);\n",
              "                }\n",
              "            </style>\n",
              "            "
            ]
          },
          "metadata": {}
        }
      ],
      "source": [
        "bands = ['SR_B2','SR_B3','SR_B4','SR_B5', 'SR_B6', 'SR_B7']\n",
        "label = 'Map'       # Label and bands are staying the same despite the year\n",
        "\n",
        "training_2020 = landsat78composite_2020.select(bands).sampleRegions (**{\n",
        "    'collection' : points,\n",
        "    'properties' : [label],\n",
        "    'scale'      : 30  # 30 m resolution based on the Landsat 8 resolution\n",
        "})\n",
        "\n",
        "# Add a column for the accuracy assessment\n",
        "training_2020 = training_2020.randomColumn()\n",
        "\n",
        "training_2020_new = training_2020.filter(ee.Filter.lt('random', 0.7))\n",
        "validation_2020_new = training_2020.filter(ee.Filter.gte('random', 0.7))\n",
        "\n",
        "# Using the Classifier.smilecart machine learning to predict and classify the land cover\n",
        "trained_2020 = ee.Classifier.smileRandomForest(10).train(training_2020_new, label, bands)# Train the classifier using the trianing data generated\n",
        "\n",
        "# Reclassifying the image classes + values\n",
        "result_y10 = landsat78composite_y10.select(bands).classify(trained_2020) # classify the image/raster\n",
        "result_y0 = landsat78composite_y0.select(bands).classify(trained_2020)\n"
      ]
    },
    {
      "cell_type": "code",
      "execution_count": 58,
      "metadata": {
        "colab": {
          "base_uri": "https://localhost:8080/",
          "height": 17
        },
        "id": "d517d9a9-a92c-42ad-8467-51cae3344ecf",
        "outputId": "f76599f3-db07-4eda-b019-b76a5ae05129"
      },
      "outputs": [
        {
          "output_type": "display_data",
          "data": {
            "text/plain": [
              "<IPython.core.display.HTML object>"
            ],
            "text/html": [
              "\n",
              "            <style>\n",
              "                .geemap-dark {\n",
              "                    --jp-widgets-color: white;\n",
              "                    --jp-widgets-label-color: white;\n",
              "                    --jp-ui-font-color1: white;\n",
              "                    --jp-layout-color2: #454545;\n",
              "                    background-color: #383838;\n",
              "                }\n",
              "\n",
              "                .geemap-dark .jupyter-button {\n",
              "                    --jp-layout-color3: #383838;\n",
              "                }\n",
              "\n",
              "                .geemap-colab {\n",
              "                    background-color: var(--colab-primary-surface-color, white);\n",
              "                }\n",
              "\n",
              "                .geemap-colab .jupyter-button {\n",
              "                    --jp-layout-color3: var(--colab-primary-surface-color, white);\n",
              "                }\n",
              "            </style>\n",
              "            "
            ]
          },
          "metadata": {}
        }
      ],
      "source": [
        "##FOR ESA\n",
        "# Recalculate the forest class according to the new stand-size\n",
        "forest_y10 = result_y10.eq(10).selfMask()\n",
        "forest_y0 = result_y0.eq(10).selfMask()\n",
        "\n",
        "contArea_y10 = forest_y10.connectedPixelCount()\n",
        "area_y10 = contArea_y10.gte(forest_size_pixels).selfMask()\n",
        "\n",
        "contArea_y0 = forest_y0.connectedPixelCount()\n",
        "area_y0 = contArea_y0.gte(forest_size_pixels).selfMask()\n",
        "\n",
        "reclassify_y10 = result_y10.where(result_y10.eq(10), area_y10)\n",
        "reclassify_y0 = result_y0.where(result_y0.eq(10), area_y0)\n"
      ]
    },
    {
      "cell_type": "code",
      "source": [
        "###IF USING ESA\n",
        "class_values = esa.get('Map_class_values')#.getInfo()\n",
        "class_palette = esa.get('Map_class_palette')#.getInfo()\n",
        "class_names = esa.get('Map_class_names')\n",
        "# Reclassifying the class using the original class names and class palette\n",
        "landcover_y10 = reclassify_y10.set ('classification_class_values', class_values)\n",
        "landcover_y10 = landcover_y10.set('classification_class_palette', class_palette)\n",
        "landcover_y10 = landcover_y10.set('classification_class_names', class_names)\n",
        "landcover_y0 = reclassify_y0.set ('classification_class_values', class_values)\n",
        "landcover_y0 = landcover_y0.set('classification_class_palette', class_palette)\n",
        "landcover_y0 = landcover_y0.set('classification_class_names', class_names)"
      ],
      "metadata": {
        "id": "g5MGu5vLSIG3",
        "outputId": "66ae9d34-e537-44d8-8649-51dcb7559cfc",
        "colab": {
          "base_uri": "https://localhost:8080/",
          "height": 17
        }
      },
      "execution_count": 59,
      "outputs": [
        {
          "output_type": "display_data",
          "data": {
            "text/plain": [
              "<IPython.core.display.HTML object>"
            ],
            "text/html": [
              "\n",
              "            <style>\n",
              "                .geemap-dark {\n",
              "                    --jp-widgets-color: white;\n",
              "                    --jp-widgets-label-color: white;\n",
              "                    --jp-ui-font-color1: white;\n",
              "                    --jp-layout-color2: #454545;\n",
              "                    background-color: #383838;\n",
              "                }\n",
              "\n",
              "                .geemap-dark .jupyter-button {\n",
              "                    --jp-layout-color3: #383838;\n",
              "                }\n",
              "\n",
              "                .geemap-colab {\n",
              "                    background-color: var(--colab-primary-surface-color, white);\n",
              "                }\n",
              "\n",
              "                .geemap-colab .jupyter-button {\n",
              "                    --jp-layout-color3: var(--colab-primary-surface-color, white);\n",
              "                }\n",
              "            </style>\n",
              "            "
            ]
          },
          "metadata": {}
        }
      ]
    },
    {
      "cell_type": "code",
      "source": [
        "left_layer = geemap.ee_tile_layer(landcover_y10, {'bands': ['classification']}, 'Landcover year 10')\n",
        "right_layer = geemap.ee_tile_layer(landcover_y0, {'bands': ['classification']}, 'Landcover year 0')\n",
        "Map1 = geemap.Map()\n",
        "Map1.centerObject(File,12)\n",
        "Map1.split_map(left_layer, right_layer)\n",
        "Map1.add_legend(title='Land Cover', legend_dict = esa_legend_dict)\n",
        "Map1"
      ],
      "metadata": {
        "id": "p-wtHXL6SCyw",
        "outputId": "11acd52a-eca2-418c-93b2-145b8a2c5281",
        "colab": {
          "base_uri": "https://localhost:8080/",
          "height": 425
        }
      },
      "execution_count": 61,
      "outputs": [
        {
          "output_type": "display_data",
          "data": {
            "text/plain": [
              "<IPython.core.display.HTML object>"
            ],
            "text/html": [
              "\n",
              "            <style>\n",
              "                .geemap-dark {\n",
              "                    --jp-widgets-color: white;\n",
              "                    --jp-widgets-label-color: white;\n",
              "                    --jp-ui-font-color1: white;\n",
              "                    --jp-layout-color2: #454545;\n",
              "                    background-color: #383838;\n",
              "                }\n",
              "\n",
              "                .geemap-dark .jupyter-button {\n",
              "                    --jp-layout-color3: #383838;\n",
              "                }\n",
              "\n",
              "                .geemap-colab {\n",
              "                    background-color: var(--colab-primary-surface-color, white);\n",
              "                }\n",
              "\n",
              "                .geemap-colab .jupyter-button {\n",
              "                    --jp-layout-color3: var(--colab-primary-surface-color, white);\n",
              "                }\n",
              "            </style>\n",
              "            "
            ]
          },
          "metadata": {}
        },
        {
          "output_type": "error",
          "ename": "EEException",
          "evalue": "User memory limit exceeded.",
          "traceback": [
            "\u001b[0;31m---------------------------------------------------------------------------\u001b[0m",
            "\u001b[0;31mHttpError\u001b[0m                                 Traceback (most recent call last)",
            "\u001b[0;32m/usr/local/lib/python3.11/dist-packages/ee/data.py\u001b[0m in \u001b[0;36m_execute_cloud_call\u001b[0;34m(call, num_retries)\u001b[0m\n\u001b[1;32m    405\u001b[0m   \u001b[0;32mtry\u001b[0m\u001b[0;34m:\u001b[0m\u001b[0;34m\u001b[0m\u001b[0;34m\u001b[0m\u001b[0m\n\u001b[0;32m--> 406\u001b[0;31m     \u001b[0;32mreturn\u001b[0m \u001b[0mcall\u001b[0m\u001b[0;34m.\u001b[0m\u001b[0mexecute\u001b[0m\u001b[0;34m(\u001b[0m\u001b[0mnum_retries\u001b[0m\u001b[0;34m=\u001b[0m\u001b[0mnum_retries\u001b[0m\u001b[0;34m)\u001b[0m\u001b[0;34m\u001b[0m\u001b[0;34m\u001b[0m\u001b[0m\n\u001b[0m\u001b[1;32m    407\u001b[0m   \u001b[0;32mexcept\u001b[0m \u001b[0mgoogleapiclient\u001b[0m\u001b[0;34m.\u001b[0m\u001b[0merrors\u001b[0m\u001b[0;34m.\u001b[0m\u001b[0mHttpError\u001b[0m \u001b[0;32mas\u001b[0m \u001b[0me\u001b[0m\u001b[0;34m:\u001b[0m\u001b[0;34m\u001b[0m\u001b[0;34m\u001b[0m\u001b[0m\n",
            "\u001b[0;32m/usr/local/lib/python3.11/dist-packages/googleapiclient/_helpers.py\u001b[0m in \u001b[0;36mpositional_wrapper\u001b[0;34m(*args, **kwargs)\u001b[0m\n\u001b[1;32m    129\u001b[0m                     \u001b[0mlogger\u001b[0m\u001b[0;34m.\u001b[0m\u001b[0mwarning\u001b[0m\u001b[0;34m(\u001b[0m\u001b[0mmessage\u001b[0m\u001b[0;34m)\u001b[0m\u001b[0;34m\u001b[0m\u001b[0;34m\u001b[0m\u001b[0m\n\u001b[0;32m--> 130\u001b[0;31m             \u001b[0;32mreturn\u001b[0m \u001b[0mwrapped\u001b[0m\u001b[0;34m(\u001b[0m\u001b[0;34m*\u001b[0m\u001b[0margs\u001b[0m\u001b[0;34m,\u001b[0m \u001b[0;34m**\u001b[0m\u001b[0mkwargs\u001b[0m\u001b[0;34m)\u001b[0m\u001b[0;34m\u001b[0m\u001b[0;34m\u001b[0m\u001b[0m\n\u001b[0m\u001b[1;32m    131\u001b[0m \u001b[0;34m\u001b[0m\u001b[0m\n",
            "\u001b[0;32m/usr/local/lib/python3.11/dist-packages/googleapiclient/http.py\u001b[0m in \u001b[0;36mexecute\u001b[0;34m(self, http, num_retries)\u001b[0m\n\u001b[1;32m    937\u001b[0m         \u001b[0;32mif\u001b[0m \u001b[0mresp\u001b[0m\u001b[0;34m.\u001b[0m\u001b[0mstatus\u001b[0m \u001b[0;34m>=\u001b[0m \u001b[0;36m300\u001b[0m\u001b[0;34m:\u001b[0m\u001b[0;34m\u001b[0m\u001b[0;34m\u001b[0m\u001b[0m\n\u001b[0;32m--> 938\u001b[0;31m             \u001b[0;32mraise\u001b[0m \u001b[0mHttpError\u001b[0m\u001b[0;34m(\u001b[0m\u001b[0mresp\u001b[0m\u001b[0;34m,\u001b[0m \u001b[0mcontent\u001b[0m\u001b[0;34m,\u001b[0m \u001b[0muri\u001b[0m\u001b[0;34m=\u001b[0m\u001b[0mself\u001b[0m\u001b[0;34m.\u001b[0m\u001b[0muri\u001b[0m\u001b[0;34m)\u001b[0m\u001b[0;34m\u001b[0m\u001b[0;34m\u001b[0m\u001b[0m\n\u001b[0m\u001b[1;32m    939\u001b[0m         \u001b[0;32mreturn\u001b[0m \u001b[0mself\u001b[0m\u001b[0;34m.\u001b[0m\u001b[0mpostproc\u001b[0m\u001b[0;34m(\u001b[0m\u001b[0mresp\u001b[0m\u001b[0;34m,\u001b[0m \u001b[0mcontent\u001b[0m\u001b[0;34m)\u001b[0m\u001b[0;34m\u001b[0m\u001b[0;34m\u001b[0m\u001b[0m\n",
            "\u001b[0;31mHttpError\u001b[0m: <HttpError 400 when requesting https://earthengine.googleapis.com/v1/projects/ee-ineshummingbirds/maps?fields=name&alt=json returned \"User memory limit exceeded.\". Details: \"User memory limit exceeded.\">",
            "\nDuring handling of the above exception, another exception occurred:\n",
            "\u001b[0;31mEEException\u001b[0m                               Traceback (most recent call last)",
            "\u001b[0;32m<ipython-input-61-80e5db0f47cb>\u001b[0m in \u001b[0;36m<cell line: 0>\u001b[0;34m()\u001b[0m\n\u001b[0;32m----> 1\u001b[0;31m \u001b[0mleft_layer\u001b[0m \u001b[0;34m=\u001b[0m \u001b[0mgeemap\u001b[0m\u001b[0;34m.\u001b[0m\u001b[0mee_tile_layer\u001b[0m\u001b[0;34m(\u001b[0m\u001b[0mlandcover_y10\u001b[0m\u001b[0;34m,\u001b[0m \u001b[0;34m{\u001b[0m\u001b[0;34m'bands'\u001b[0m\u001b[0;34m:\u001b[0m \u001b[0;34m[\u001b[0m\u001b[0;34m'classification'\u001b[0m\u001b[0;34m]\u001b[0m\u001b[0;34m}\u001b[0m\u001b[0;34m,\u001b[0m \u001b[0;34m'Landcover year 10'\u001b[0m\u001b[0;34m)\u001b[0m\u001b[0;34m\u001b[0m\u001b[0;34m\u001b[0m\u001b[0m\n\u001b[0m\u001b[1;32m      2\u001b[0m \u001b[0mright_layer\u001b[0m \u001b[0;34m=\u001b[0m \u001b[0mgeemap\u001b[0m\u001b[0;34m.\u001b[0m\u001b[0mee_tile_layer\u001b[0m\u001b[0;34m(\u001b[0m\u001b[0mlandcover_y0\u001b[0m\u001b[0;34m,\u001b[0m \u001b[0;34m{\u001b[0m\u001b[0;34m'bands'\u001b[0m\u001b[0;34m:\u001b[0m \u001b[0;34m[\u001b[0m\u001b[0;34m'classification'\u001b[0m\u001b[0;34m]\u001b[0m\u001b[0;34m}\u001b[0m\u001b[0;34m,\u001b[0m \u001b[0;34m'Landcover year 0'\u001b[0m\u001b[0;34m)\u001b[0m\u001b[0;34m\u001b[0m\u001b[0;34m\u001b[0m\u001b[0m\n\u001b[1;32m      3\u001b[0m \u001b[0mMap1\u001b[0m \u001b[0;34m=\u001b[0m \u001b[0mgeemap\u001b[0m\u001b[0;34m.\u001b[0m\u001b[0mMap\u001b[0m\u001b[0;34m(\u001b[0m\u001b[0;34m)\u001b[0m\u001b[0;34m\u001b[0m\u001b[0;34m\u001b[0m\u001b[0m\n\u001b[1;32m      4\u001b[0m \u001b[0mMap1\u001b[0m\u001b[0;34m.\u001b[0m\u001b[0mcenterObject\u001b[0m\u001b[0;34m(\u001b[0m\u001b[0mFile\u001b[0m\u001b[0;34m,\u001b[0m\u001b[0;36m12\u001b[0m\u001b[0;34m)\u001b[0m\u001b[0;34m\u001b[0m\u001b[0;34m\u001b[0m\u001b[0m\n\u001b[1;32m      5\u001b[0m \u001b[0mMap1\u001b[0m\u001b[0;34m.\u001b[0m\u001b[0msplit_map\u001b[0m\u001b[0;34m(\u001b[0m\u001b[0mleft_layer\u001b[0m\u001b[0;34m,\u001b[0m \u001b[0mright_layer\u001b[0m\u001b[0;34m)\u001b[0m\u001b[0;34m\u001b[0m\u001b[0;34m\u001b[0m\u001b[0m\n",
            "\u001b[0;32m/usr/local/lib/python3.11/dist-packages/geemap/geemap.py\u001b[0m in \u001b[0;36mee_tile_layer\u001b[0;34m(ee_object, vis_params, name, shown, opacity)\u001b[0m\n\u001b[1;32m   4998\u001b[0m         \u001b[0mopacity\u001b[0m \u001b[0;34m(\u001b[0m\u001b[0mfloat\u001b[0m\u001b[0;34m,\u001b[0m \u001b[0moptional\u001b[0m\u001b[0;34m)\u001b[0m\u001b[0;34m:\u001b[0m \u001b[0mThe\u001b[0m \u001b[0mlayer\u001b[0m\u001b[0;31m'\u001b[0m\u001b[0ms\u001b[0m \u001b[0mopacity\u001b[0m \u001b[0mrepresented\u001b[0m \u001b[0;32mas\u001b[0m \u001b[0ma\u001b[0m \u001b[0mnumber\u001b[0m \u001b[0mbetween\u001b[0m \u001b[0;36m0\u001b[0m \u001b[0;32mand\u001b[0m \u001b[0;36m1.\u001b[0m \u001b[0mDefaults\u001b[0m \u001b[0mto\u001b[0m \u001b[0;36m1.\u001b[0m\u001b[0;34m\u001b[0m\u001b[0;34m\u001b[0m\u001b[0m\n\u001b[1;32m   4999\u001b[0m     \"\"\"\n\u001b[0;32m-> 5000\u001b[0;31m     \u001b[0;32mreturn\u001b[0m \u001b[0mEELeafletTileLayer\u001b[0m\u001b[0;34m(\u001b[0m\u001b[0mee_object\u001b[0m\u001b[0;34m,\u001b[0m \u001b[0mvis_params\u001b[0m\u001b[0;34m,\u001b[0m \u001b[0mname\u001b[0m\u001b[0;34m,\u001b[0m \u001b[0mshown\u001b[0m\u001b[0;34m,\u001b[0m \u001b[0mopacity\u001b[0m\u001b[0;34m)\u001b[0m\u001b[0;34m\u001b[0m\u001b[0;34m\u001b[0m\u001b[0m\n\u001b[0m\u001b[1;32m   5001\u001b[0m \u001b[0;34m\u001b[0m\u001b[0m\n\u001b[1;32m   5002\u001b[0m \u001b[0;34m\u001b[0m\u001b[0m\n",
            "\u001b[0;32m/usr/local/lib/python3.11/dist-packages/geemap/ee_tile_layers.py\u001b[0m in \u001b[0;36m__init__\u001b[0;34m(self, ee_object, vis_params, name, shown, opacity, **kwargs)\u001b[0m\n\u001b[1;32m    204\u001b[0m         \"\"\"\n\u001b[1;32m    205\u001b[0m         \u001b[0mself\u001b[0m\u001b[0;34m.\u001b[0m\u001b[0m_ee_object\u001b[0m \u001b[0;34m=\u001b[0m \u001b[0mee_object\u001b[0m\u001b[0;34m\u001b[0m\u001b[0;34m\u001b[0m\u001b[0m\n\u001b[0;32m--> 206\u001b[0;31m         self.url_format = _get_tile_url_format(\n\u001b[0m\u001b[1;32m    207\u001b[0m             \u001b[0mee_object\u001b[0m\u001b[0;34m,\u001b[0m \u001b[0m_validate_vis_params\u001b[0m\u001b[0;34m(\u001b[0m\u001b[0mvis_params\u001b[0m\u001b[0;34m)\u001b[0m\u001b[0;34m\u001b[0m\u001b[0;34m\u001b[0m\u001b[0m\n\u001b[1;32m    208\u001b[0m         )\n",
            "\u001b[0;32m/usr/local/lib/python3.11/dist-packages/geemap/ee_tile_layers.py\u001b[0m in \u001b[0;36m_get_tile_url_format\u001b[0;34m(ee_object, vis_params)\u001b[0m\n\u001b[1;32m     34\u001b[0m     \"\"\"\n\u001b[1;32m     35\u001b[0m     \u001b[0mimage\u001b[0m \u001b[0;34m=\u001b[0m \u001b[0m_ee_object_to_image\u001b[0m\u001b[0;34m(\u001b[0m\u001b[0mee_object\u001b[0m\u001b[0;34m,\u001b[0m \u001b[0mvis_params\u001b[0m\u001b[0;34m)\u001b[0m\u001b[0;34m\u001b[0m\u001b[0;34m\u001b[0m\u001b[0m\n\u001b[0;32m---> 36\u001b[0;31m     \u001b[0mmap_id_dict\u001b[0m \u001b[0;34m=\u001b[0m \u001b[0mee\u001b[0m\u001b[0;34m.\u001b[0m\u001b[0mImage\u001b[0m\u001b[0;34m(\u001b[0m\u001b[0mimage\u001b[0m\u001b[0;34m)\u001b[0m\u001b[0;34m.\u001b[0m\u001b[0mgetMapId\u001b[0m\u001b[0;34m(\u001b[0m\u001b[0mvis_params\u001b[0m\u001b[0;34m)\u001b[0m\u001b[0;34m\u001b[0m\u001b[0;34m\u001b[0m\u001b[0m\n\u001b[0m\u001b[1;32m     37\u001b[0m     \u001b[0;32mreturn\u001b[0m \u001b[0mmap_id_dict\u001b[0m\u001b[0;34m[\u001b[0m\u001b[0;34m\"tile_fetcher\"\u001b[0m\u001b[0;34m]\u001b[0m\u001b[0;34m.\u001b[0m\u001b[0murl_format\u001b[0m\u001b[0;34m\u001b[0m\u001b[0;34m\u001b[0m\u001b[0m\n\u001b[1;32m     38\u001b[0m \u001b[0;34m\u001b[0m\u001b[0m\n",
            "\u001b[0;32m/usr/local/lib/python3.11/dist-packages/ee/image.py\u001b[0m in \u001b[0;36mgetMapId\u001b[0;34m(self, vis_params)\u001b[0m\n\u001b[1;32m    154\u001b[0m     \u001b[0mvis_image\u001b[0m\u001b[0;34m,\u001b[0m \u001b[0mrequest\u001b[0m \u001b[0;34m=\u001b[0m \u001b[0mself\u001b[0m\u001b[0;34m.\u001b[0m\u001b[0m_apply_visualization\u001b[0m\u001b[0;34m(\u001b[0m\u001b[0mvis_params\u001b[0m\u001b[0;34m)\u001b[0m\u001b[0;34m\u001b[0m\u001b[0;34m\u001b[0m\u001b[0m\n\u001b[1;32m    155\u001b[0m     \u001b[0mrequest\u001b[0m\u001b[0;34m[\u001b[0m\u001b[0;34m'image'\u001b[0m\u001b[0;34m]\u001b[0m \u001b[0;34m=\u001b[0m \u001b[0mvis_image\u001b[0m\u001b[0;34m\u001b[0m\u001b[0;34m\u001b[0m\u001b[0m\n\u001b[0;32m--> 156\u001b[0;31m     \u001b[0mresponse\u001b[0m \u001b[0;34m=\u001b[0m \u001b[0mdata\u001b[0m\u001b[0;34m.\u001b[0m\u001b[0mgetMapId\u001b[0m\u001b[0;34m(\u001b[0m\u001b[0mrequest\u001b[0m\u001b[0;34m)\u001b[0m\u001b[0;34m\u001b[0m\u001b[0;34m\u001b[0m\u001b[0m\n\u001b[0m\u001b[1;32m    157\u001b[0m     \u001b[0mresponse\u001b[0m\u001b[0;34m[\u001b[0m\u001b[0;34m'image'\u001b[0m\u001b[0;34m]\u001b[0m \u001b[0;34m=\u001b[0m \u001b[0mself\u001b[0m\u001b[0;34m\u001b[0m\u001b[0;34m\u001b[0m\u001b[0m\n\u001b[1;32m    158\u001b[0m     \u001b[0;32mreturn\u001b[0m \u001b[0mresponse\u001b[0m\u001b[0;34m\u001b[0m\u001b[0;34m\u001b[0m\u001b[0m\n",
            "\u001b[0;32m/usr/local/lib/python3.11/dist-packages/ee/data.py\u001b[0m in \u001b[0;36mgetMapId\u001b[0;34m(params)\u001b[0m\n\u001b[1;32m    746\u001b[0m   }\n\u001b[1;32m    747\u001b[0m   \u001b[0m_maybe_populate_workload_tag\u001b[0m\u001b[0;34m(\u001b[0m\u001b[0mqueryParams\u001b[0m\u001b[0;34m)\u001b[0m\u001b[0;34m\u001b[0m\u001b[0;34m\u001b[0m\u001b[0m\n\u001b[0;32m--> 748\u001b[0;31m   result = _execute_cloud_call(\n\u001b[0m\u001b[1;32m    749\u001b[0m       \u001b[0m_get_cloud_projects\u001b[0m\u001b[0;34m(\u001b[0m\u001b[0;34m)\u001b[0m\u001b[0;34m\u001b[0m\u001b[0;34m\u001b[0m\u001b[0m\n\u001b[1;32m    750\u001b[0m       \u001b[0;34m.\u001b[0m\u001b[0mmaps\u001b[0m\u001b[0;34m(\u001b[0m\u001b[0;34m)\u001b[0m\u001b[0;34m\u001b[0m\u001b[0;34m\u001b[0m\u001b[0m\n",
            "\u001b[0;32m/usr/local/lib/python3.11/dist-packages/ee/data.py\u001b[0m in \u001b[0;36m_execute_cloud_call\u001b[0;34m(call, num_retries)\u001b[0m\n\u001b[1;32m    406\u001b[0m     \u001b[0;32mreturn\u001b[0m \u001b[0mcall\u001b[0m\u001b[0;34m.\u001b[0m\u001b[0mexecute\u001b[0m\u001b[0;34m(\u001b[0m\u001b[0mnum_retries\u001b[0m\u001b[0;34m=\u001b[0m\u001b[0mnum_retries\u001b[0m\u001b[0;34m)\u001b[0m\u001b[0;34m\u001b[0m\u001b[0;34m\u001b[0m\u001b[0m\n\u001b[1;32m    407\u001b[0m   \u001b[0;32mexcept\u001b[0m \u001b[0mgoogleapiclient\u001b[0m\u001b[0;34m.\u001b[0m\u001b[0merrors\u001b[0m\u001b[0;34m.\u001b[0m\u001b[0mHttpError\u001b[0m \u001b[0;32mas\u001b[0m \u001b[0me\u001b[0m\u001b[0;34m:\u001b[0m\u001b[0;34m\u001b[0m\u001b[0;34m\u001b[0m\u001b[0m\n\u001b[0;32m--> 408\u001b[0;31m     \u001b[0;32mraise\u001b[0m \u001b[0m_translate_cloud_exception\u001b[0m\u001b[0;34m(\u001b[0m\u001b[0me\u001b[0m\u001b[0;34m)\u001b[0m  \u001b[0;31m# pylint: disable=raise-missing-from\u001b[0m\u001b[0;34m\u001b[0m\u001b[0;34m\u001b[0m\u001b[0m\n\u001b[0m\u001b[1;32m    409\u001b[0m \u001b[0;34m\u001b[0m\u001b[0m\n\u001b[1;32m    410\u001b[0m \u001b[0;34m\u001b[0m\u001b[0m\n",
            "\u001b[0;31mEEException\u001b[0m: User memory limit exceeded."
          ]
        }
      ]
    },
    {
      "cell_type": "code",
      "source": [
        "#Overall accuracy\n",
        "#Training dataset\n",
        "training_accuracy = trained_2020.confusionMatrix()\n",
        "overall_accuracy = training_accuracy.accuracy()\n",
        "print(overall_accuracy.getInfo())\n",
        "\n",
        "# Accuracy on Validation dataset\n",
        "validation = validation_2020_new.classify(trained_2020)\n",
        "validation.first().getInfo()\n",
        "\n",
        "validation_accuracy = validation.errorMatrix('Map', 'classification')\n",
        "\n",
        "#print('The accuracy is:')\n",
        "#print(validation_accuracy.accuracy().getInfo())"
      ],
      "metadata": {
        "colab": {
          "base_uri": "https://localhost:8080/",
          "height": 425
        },
        "id": "FoQPxPKuSqmh",
        "outputId": "87f9e2ea-7da0-411e-87b7-90b10ecec662"
      },
      "execution_count": 60,
      "outputs": [
        {
          "output_type": "display_data",
          "data": {
            "text/plain": [
              "<IPython.core.display.HTML object>"
            ],
            "text/html": [
              "\n",
              "            <style>\n",
              "                .geemap-dark {\n",
              "                    --jp-widgets-color: white;\n",
              "                    --jp-widgets-label-color: white;\n",
              "                    --jp-ui-font-color1: white;\n",
              "                    --jp-layout-color2: #454545;\n",
              "                    background-color: #383838;\n",
              "                }\n",
              "\n",
              "                .geemap-dark .jupyter-button {\n",
              "                    --jp-layout-color3: #383838;\n",
              "                }\n",
              "\n",
              "                .geemap-colab {\n",
              "                    background-color: var(--colab-primary-surface-color, white);\n",
              "                }\n",
              "\n",
              "                .geemap-colab .jupyter-button {\n",
              "                    --jp-layout-color3: var(--colab-primary-surface-color, white);\n",
              "                }\n",
              "            </style>\n",
              "            "
            ]
          },
          "metadata": {}
        },
        {
          "output_type": "error",
          "ename": "EEException",
          "evalue": "User memory limit exceeded.",
          "traceback": [
            "\u001b[0;31m---------------------------------------------------------------------------\u001b[0m",
            "\u001b[0;31mHttpError\u001b[0m                                 Traceback (most recent call last)",
            "\u001b[0;32m/usr/local/lib/python3.11/dist-packages/ee/data.py\u001b[0m in \u001b[0;36m_execute_cloud_call\u001b[0;34m(call, num_retries)\u001b[0m\n\u001b[1;32m    405\u001b[0m   \u001b[0;32mtry\u001b[0m\u001b[0;34m:\u001b[0m\u001b[0;34m\u001b[0m\u001b[0;34m\u001b[0m\u001b[0m\n\u001b[0;32m--> 406\u001b[0;31m     \u001b[0;32mreturn\u001b[0m \u001b[0mcall\u001b[0m\u001b[0;34m.\u001b[0m\u001b[0mexecute\u001b[0m\u001b[0;34m(\u001b[0m\u001b[0mnum_retries\u001b[0m\u001b[0;34m=\u001b[0m\u001b[0mnum_retries\u001b[0m\u001b[0;34m)\u001b[0m\u001b[0;34m\u001b[0m\u001b[0;34m\u001b[0m\u001b[0m\n\u001b[0m\u001b[1;32m    407\u001b[0m   \u001b[0;32mexcept\u001b[0m \u001b[0mgoogleapiclient\u001b[0m\u001b[0;34m.\u001b[0m\u001b[0merrors\u001b[0m\u001b[0;34m.\u001b[0m\u001b[0mHttpError\u001b[0m \u001b[0;32mas\u001b[0m \u001b[0me\u001b[0m\u001b[0;34m:\u001b[0m\u001b[0;34m\u001b[0m\u001b[0;34m\u001b[0m\u001b[0m\n",
            "\u001b[0;32m/usr/local/lib/python3.11/dist-packages/googleapiclient/_helpers.py\u001b[0m in \u001b[0;36mpositional_wrapper\u001b[0;34m(*args, **kwargs)\u001b[0m\n\u001b[1;32m    129\u001b[0m                     \u001b[0mlogger\u001b[0m\u001b[0;34m.\u001b[0m\u001b[0mwarning\u001b[0m\u001b[0;34m(\u001b[0m\u001b[0mmessage\u001b[0m\u001b[0;34m)\u001b[0m\u001b[0;34m\u001b[0m\u001b[0;34m\u001b[0m\u001b[0m\n\u001b[0;32m--> 130\u001b[0;31m             \u001b[0;32mreturn\u001b[0m \u001b[0mwrapped\u001b[0m\u001b[0;34m(\u001b[0m\u001b[0;34m*\u001b[0m\u001b[0margs\u001b[0m\u001b[0;34m,\u001b[0m \u001b[0;34m**\u001b[0m\u001b[0mkwargs\u001b[0m\u001b[0;34m)\u001b[0m\u001b[0;34m\u001b[0m\u001b[0;34m\u001b[0m\u001b[0m\n\u001b[0m\u001b[1;32m    131\u001b[0m \u001b[0;34m\u001b[0m\u001b[0m\n",
            "\u001b[0;32m/usr/local/lib/python3.11/dist-packages/googleapiclient/http.py\u001b[0m in \u001b[0;36mexecute\u001b[0;34m(self, http, num_retries)\u001b[0m\n\u001b[1;32m    937\u001b[0m         \u001b[0;32mif\u001b[0m \u001b[0mresp\u001b[0m\u001b[0;34m.\u001b[0m\u001b[0mstatus\u001b[0m \u001b[0;34m>=\u001b[0m \u001b[0;36m300\u001b[0m\u001b[0;34m:\u001b[0m\u001b[0;34m\u001b[0m\u001b[0;34m\u001b[0m\u001b[0m\n\u001b[0;32m--> 938\u001b[0;31m             \u001b[0;32mraise\u001b[0m \u001b[0mHttpError\u001b[0m\u001b[0;34m(\u001b[0m\u001b[0mresp\u001b[0m\u001b[0;34m,\u001b[0m \u001b[0mcontent\u001b[0m\u001b[0;34m,\u001b[0m \u001b[0muri\u001b[0m\u001b[0;34m=\u001b[0m\u001b[0mself\u001b[0m\u001b[0;34m.\u001b[0m\u001b[0muri\u001b[0m\u001b[0;34m)\u001b[0m\u001b[0;34m\u001b[0m\u001b[0;34m\u001b[0m\u001b[0m\n\u001b[0m\u001b[1;32m    939\u001b[0m         \u001b[0;32mreturn\u001b[0m \u001b[0mself\u001b[0m\u001b[0;34m.\u001b[0m\u001b[0mpostproc\u001b[0m\u001b[0;34m(\u001b[0m\u001b[0mresp\u001b[0m\u001b[0;34m,\u001b[0m \u001b[0mcontent\u001b[0m\u001b[0;34m)\u001b[0m\u001b[0;34m\u001b[0m\u001b[0;34m\u001b[0m\u001b[0m\n",
            "\u001b[0;31mHttpError\u001b[0m: <HttpError 400 when requesting https://earthengine.googleapis.com/v1/projects/ee-ineshummingbirds/value:compute?prettyPrint=false&alt=json returned \"User memory limit exceeded.\". Details: \"User memory limit exceeded.\">",
            "\nDuring handling of the above exception, another exception occurred:\n",
            "\u001b[0;31mEEException\u001b[0m                               Traceback (most recent call last)",
            "\u001b[0;32m<ipython-input-60-eda7cd3e21f6>\u001b[0m in \u001b[0;36m<cell line: 0>\u001b[0;34m()\u001b[0m\n\u001b[1;32m      3\u001b[0m \u001b[0mtraining_accuracy\u001b[0m \u001b[0;34m=\u001b[0m \u001b[0mtrained_2020\u001b[0m\u001b[0;34m.\u001b[0m\u001b[0mconfusionMatrix\u001b[0m\u001b[0;34m(\u001b[0m\u001b[0;34m)\u001b[0m\u001b[0;34m\u001b[0m\u001b[0;34m\u001b[0m\u001b[0m\n\u001b[1;32m      4\u001b[0m \u001b[0moverall_accuracy\u001b[0m \u001b[0;34m=\u001b[0m \u001b[0mtraining_accuracy\u001b[0m\u001b[0;34m.\u001b[0m\u001b[0maccuracy\u001b[0m\u001b[0;34m(\u001b[0m\u001b[0;34m)\u001b[0m\u001b[0;34m\u001b[0m\u001b[0;34m\u001b[0m\u001b[0m\n\u001b[0;32m----> 5\u001b[0;31m \u001b[0mprint\u001b[0m\u001b[0;34m(\u001b[0m\u001b[0moverall_accuracy\u001b[0m\u001b[0;34m.\u001b[0m\u001b[0mgetInfo\u001b[0m\u001b[0;34m(\u001b[0m\u001b[0;34m)\u001b[0m\u001b[0;34m)\u001b[0m\u001b[0;34m\u001b[0m\u001b[0;34m\u001b[0m\u001b[0m\n\u001b[0m\u001b[1;32m      6\u001b[0m \u001b[0;34m\u001b[0m\u001b[0m\n\u001b[1;32m      7\u001b[0m \u001b[0;31m# Accuracy on Validation dataset\u001b[0m\u001b[0;34m\u001b[0m\u001b[0;34m\u001b[0m\u001b[0m\n",
            "\u001b[0;32m/usr/local/lib/python3.11/dist-packages/ee/computedobject.py\u001b[0m in \u001b[0;36mgetInfo\u001b[0;34m(self)\u001b[0m\n\u001b[1;32m    105\u001b[0m       \u001b[0mThe\u001b[0m \u001b[0mobject\u001b[0m \u001b[0mcan\u001b[0m \u001b[0mevaluate\u001b[0m \u001b[0mto\u001b[0m \u001b[0manything\u001b[0m\u001b[0;34m.\u001b[0m\u001b[0;34m\u001b[0m\u001b[0;34m\u001b[0m\u001b[0m\n\u001b[1;32m    106\u001b[0m     \"\"\"\n\u001b[0;32m--> 107\u001b[0;31m     \u001b[0;32mreturn\u001b[0m \u001b[0mdata\u001b[0m\u001b[0;34m.\u001b[0m\u001b[0mcomputeValue\u001b[0m\u001b[0;34m(\u001b[0m\u001b[0mself\u001b[0m\u001b[0;34m)\u001b[0m\u001b[0;34m\u001b[0m\u001b[0;34m\u001b[0m\u001b[0m\n\u001b[0m\u001b[1;32m    108\u001b[0m \u001b[0;34m\u001b[0m\u001b[0m\n\u001b[1;32m    109\u001b[0m   \u001b[0;32mdef\u001b[0m \u001b[0mencode\u001b[0m\u001b[0;34m(\u001b[0m\u001b[0mself\u001b[0m\u001b[0;34m,\u001b[0m \u001b[0mencoder\u001b[0m\u001b[0;34m:\u001b[0m \u001b[0mOptional\u001b[0m\u001b[0;34m[\u001b[0m\u001b[0mCallable\u001b[0m\u001b[0;34m[\u001b[0m\u001b[0;34m...\u001b[0m\u001b[0;34m,\u001b[0m \u001b[0mAny\u001b[0m\u001b[0;34m]\u001b[0m\u001b[0;34m]\u001b[0m\u001b[0;34m)\u001b[0m \u001b[0;34m->\u001b[0m \u001b[0mDict\u001b[0m\u001b[0;34m[\u001b[0m\u001b[0mstr\u001b[0m\u001b[0;34m,\u001b[0m \u001b[0mAny\u001b[0m\u001b[0;34m]\u001b[0m\u001b[0;34m:\u001b[0m\u001b[0;34m\u001b[0m\u001b[0;34m\u001b[0m\u001b[0m\n",
            "\u001b[0;32m/usr/local/lib/python3.11/dist-packages/ee/data.py\u001b[0m in \u001b[0;36mcomputeValue\u001b[0;34m(obj)\u001b[0m\n\u001b[1;32m   1124\u001b[0m   \u001b[0m_maybe_populate_workload_tag\u001b[0m\u001b[0;34m(\u001b[0m\u001b[0mbody\u001b[0m\u001b[0;34m)\u001b[0m\u001b[0;34m\u001b[0m\u001b[0;34m\u001b[0m\u001b[0m\n\u001b[1;32m   1125\u001b[0m \u001b[0;34m\u001b[0m\u001b[0m\n\u001b[0;32m-> 1126\u001b[0;31m   return _execute_cloud_call(\n\u001b[0m\u001b[1;32m   1127\u001b[0m       \u001b[0m_get_cloud_projects\u001b[0m\u001b[0;34m(\u001b[0m\u001b[0;34m)\u001b[0m\u001b[0;34m\u001b[0m\u001b[0;34m\u001b[0m\u001b[0m\n\u001b[1;32m   1128\u001b[0m       \u001b[0;34m.\u001b[0m\u001b[0mvalue\u001b[0m\u001b[0;34m(\u001b[0m\u001b[0;34m)\u001b[0m\u001b[0;34m\u001b[0m\u001b[0;34m\u001b[0m\u001b[0m\n",
            "\u001b[0;32m/usr/local/lib/python3.11/dist-packages/ee/data.py\u001b[0m in \u001b[0;36m_execute_cloud_call\u001b[0;34m(call, num_retries)\u001b[0m\n\u001b[1;32m    406\u001b[0m     \u001b[0;32mreturn\u001b[0m \u001b[0mcall\u001b[0m\u001b[0;34m.\u001b[0m\u001b[0mexecute\u001b[0m\u001b[0;34m(\u001b[0m\u001b[0mnum_retries\u001b[0m\u001b[0;34m=\u001b[0m\u001b[0mnum_retries\u001b[0m\u001b[0;34m)\u001b[0m\u001b[0;34m\u001b[0m\u001b[0;34m\u001b[0m\u001b[0m\n\u001b[1;32m    407\u001b[0m   \u001b[0;32mexcept\u001b[0m \u001b[0mgoogleapiclient\u001b[0m\u001b[0;34m.\u001b[0m\u001b[0merrors\u001b[0m\u001b[0;34m.\u001b[0m\u001b[0mHttpError\u001b[0m \u001b[0;32mas\u001b[0m \u001b[0me\u001b[0m\u001b[0;34m:\u001b[0m\u001b[0;34m\u001b[0m\u001b[0;34m\u001b[0m\u001b[0m\n\u001b[0;32m--> 408\u001b[0;31m     \u001b[0;32mraise\u001b[0m \u001b[0m_translate_cloud_exception\u001b[0m\u001b[0;34m(\u001b[0m\u001b[0me\u001b[0m\u001b[0;34m)\u001b[0m  \u001b[0;31m# pylint: disable=raise-missing-from\u001b[0m\u001b[0;34m\u001b[0m\u001b[0;34m\u001b[0m\u001b[0m\n\u001b[0m\u001b[1;32m    409\u001b[0m \u001b[0;34m\u001b[0m\u001b[0m\n\u001b[1;32m    410\u001b[0m \u001b[0;34m\u001b[0m\u001b[0m\n",
            "\u001b[0;31mEEException\u001b[0m: User memory limit exceeded."
          ]
        }
      ]
    },
    {
      "cell_type": "code",
      "execution_count": null,
      "metadata": {
        "id": "f4505f86"
      },
      "outputs": [],
      "source": [
        "## slope\n",
        "\n",
        "##FOR ESA ONLY\n",
        "non_forest_y0 = reclassify_y0.eq(20).Or(reclassify_y0.eq(30)).Or(reclassify_y0.eq(40)).Or(reclassify_y0.eq(60))\n",
        "non_forest_y10 = reclassify_y10.eq(20).Or(reclassify_y10.eq(30)).Or(reclassify_y10.eq(40)).Or(reclassify_y10.eq(60))\n",
        "\n",
        "slope_dataset = ee.Image('USGS/SRTMGL1_003').select('elevation')\n",
        "slope_dt = ee.Terrain.slope(slope_dataset)\n",
        "#possible to change the slope in here (if not consider just change to 0)\n",
        "slope = slope_dt.updateMask(slope_dt.gt(slope_percentage)).updateMask(slope_dt.lt(100)).gt(slope_percentage)\n",
        "\n",
        "# Overlaying to see the differences between 2023 and 2013 ONLY FOR ESA\n",
        "slope_diff_10year = non_forest_y0.multiply(non_forest_y10)\n",
        "\n",
        "# Overlaying with slope\n",
        "overlayed_slope = slope.multiply(slope_diff_10year.eq(1))\n",
        "\n",
        "Map2 = geemap.Map()\n",
        "Map2.centerObject(File)\n",
        "Map2.addLayer (File, {}, 'File')\n",
        "Map2.addLayer(slope_diff_10year.selfMask(),{'min': 0, 'max':3, 'palette': ['green','green']}, \"Eligible Areas - Green\")\n",
        "Map2.addLayer(overlayed_slope.selfMask(),{'min': 0, 'max':3, 'palette': ['red','red']}, \"non-eligible - slope > 30%\")\n",
        "Map2.centerObject(File, 11)\n",
        "Map2"
      ]
    },
    {
      "cell_type": "code",
      "source": [
        "latitude, longitude = get_shapefile_centroid(gdf)\n",
        "print(f\"Central Point: ({latitude}, {longitude})\")"
      ],
      "metadata": {
        "colab": {
          "base_uri": "https://localhost:8080/",
          "height": 34
        },
        "id": "9I0Jyq04Vhss",
        "outputId": "62ffa49d-dd8d-456f-d507-28c9577d4d76"
      },
      "execution_count": null,
      "outputs": [
        {
          "output_type": "display_data",
          "data": {
            "text/plain": [
              "<IPython.core.display.HTML object>"
            ],
            "text/html": [
              "\n",
              "            <style>\n",
              "                .geemap-dark {\n",
              "                    --jp-widgets-color: white;\n",
              "                    --jp-widgets-label-color: white;\n",
              "                    --jp-ui-font-color1: white;\n",
              "                    --jp-layout-color2: #454545;\n",
              "                    background-color: #383838;\n",
              "                }\n",
              "\n",
              "                .geemap-dark .jupyter-button {\n",
              "                    --jp-layout-color3: #383838;\n",
              "                }\n",
              "\n",
              "                .geemap-colab {\n",
              "                    background-color: var(--colab-primary-surface-color, white);\n",
              "                }\n",
              "\n",
              "                .geemap-colab .jupyter-button {\n",
              "                    --jp-layout-color3: var(--colab-primary-surface-color, white);\n",
              "                }\n",
              "            </style>\n",
              "            "
            ]
          },
          "metadata": {}
        },
        {
          "output_type": "stream",
          "name": "stdout",
          "text": [
            "Central Point: (23.831136772448804, 84.2192853927199)\n"
          ]
        }
      ]
    },
    {
      "cell_type": "code",
      "source": [
        "best_epsg = get_best_crs(latitude, longitude)  # Replace with actual latitude\n",
        "print(best_epsg)"
      ],
      "metadata": {
        "colab": {
          "base_uri": "https://localhost:8080/",
          "height": 34
        },
        "id": "tCLa-h4xVqxk",
        "outputId": "4295f4bc-4a1c-4b2e-bad5-7f9e9f04de24"
      },
      "execution_count": null,
      "outputs": [
        {
          "output_type": "display_data",
          "data": {
            "text/plain": [
              "<IPython.core.display.HTML object>"
            ],
            "text/html": [
              "\n",
              "            <style>\n",
              "                .geemap-dark {\n",
              "                    --jp-widgets-color: white;\n",
              "                    --jp-widgets-label-color: white;\n",
              "                    --jp-ui-font-color1: white;\n",
              "                    --jp-layout-color2: #454545;\n",
              "                    background-color: #383838;\n",
              "                }\n",
              "\n",
              "                .geemap-dark .jupyter-button {\n",
              "                    --jp-layout-color3: #383838;\n",
              "                }\n",
              "\n",
              "                .geemap-colab {\n",
              "                    background-color: var(--colab-primary-surface-color, white);\n",
              "                }\n",
              "\n",
              "                .geemap-colab .jupyter-button {\n",
              "                    --jp-layout-color3: var(--colab-primary-surface-color, white);\n",
              "                }\n",
              "            </style>\n",
              "            "
            ]
          },
          "metadata": {}
        },
        {
          "output_type": "stream",
          "name": "stdout",
          "text": [
            "EPSG:32645\n"
          ]
        }
      ]
    },
    {
      "cell_type": "code",
      "source": [
        "gdf_crs = gdf.to_crs(best_epsg)\n",
        "total_area_ha = (gdf_crs['geometry'].area/10000).sum()\n",
        "print(f\"Total area in hectares: {total_area_ha}\")"
      ],
      "metadata": {
        "colab": {
          "base_uri": "https://localhost:8080/",
          "height": 34
        },
        "id": "fTLJVRVvWAAX",
        "outputId": "20aaeca5-fcd2-4461-ca58-1621122c0baf"
      },
      "execution_count": null,
      "outputs": [
        {
          "output_type": "display_data",
          "data": {
            "text/plain": [
              "<IPython.core.display.HTML object>"
            ],
            "text/html": [
              "\n",
              "            <style>\n",
              "                .geemap-dark {\n",
              "                    --jp-widgets-color: white;\n",
              "                    --jp-widgets-label-color: white;\n",
              "                    --jp-ui-font-color1: white;\n",
              "                    --jp-layout-color2: #454545;\n",
              "                    background-color: #383838;\n",
              "                }\n",
              "\n",
              "                .geemap-dark .jupyter-button {\n",
              "                    --jp-layout-color3: #383838;\n",
              "                }\n",
              "\n",
              "                .geemap-colab {\n",
              "                    background-color: var(--colab-primary-surface-color, white);\n",
              "                }\n",
              "\n",
              "                .geemap-colab .jupyter-button {\n",
              "                    --jp-layout-color3: var(--colab-primary-surface-color, white);\n",
              "                }\n",
              "            </style>\n",
              "            "
            ]
          },
          "metadata": {}
        },
        {
          "output_type": "stream",
          "name": "stdout",
          "text": [
            "Total area in hectares: 22116.68468734478\n"
          ]
        }
      ]
    },
    {
      "cell_type": "code",
      "source": [
        "#CALCULATE THE FOREST AREA FOR YEAR 0 AND YEAR 10\n",
        "print('Forest year 0:')\n",
        "forest_year0 = calculateTotalPixelArea(reclassify_y0.eq(10).selfMask(), File)\n",
        "\n",
        "print('Forest year 10:')\n",
        "forest_year10 = calculateTotalPixelArea(reclassify_y10.eq(10).selfMask(), File)"
      ],
      "metadata": {
        "colab": {
          "base_uri": "https://localhost:8080/",
          "height": 121
        },
        "id": "yS1NquE4WCzv",
        "outputId": "c0e50f5b-7242-4401-e393-c79a6aaa0ff7"
      },
      "execution_count": null,
      "outputs": [
        {
          "output_type": "display_data",
          "data": {
            "text/plain": [
              "<IPython.core.display.HTML object>"
            ],
            "text/html": [
              "\n",
              "            <style>\n",
              "                .geemap-dark {\n",
              "                    --jp-widgets-color: white;\n",
              "                    --jp-widgets-label-color: white;\n",
              "                    --jp-ui-font-color1: white;\n",
              "                    --jp-layout-color2: #454545;\n",
              "                    background-color: #383838;\n",
              "                }\n",
              "\n",
              "                .geemap-dark .jupyter-button {\n",
              "                    --jp-layout-color3: #383838;\n",
              "                }\n",
              "\n",
              "                .geemap-colab {\n",
              "                    background-color: var(--colab-primary-surface-color, white);\n",
              "                }\n",
              "\n",
              "                .geemap-colab .jupyter-button {\n",
              "                    --jp-layout-color3: var(--colab-primary-surface-color, white);\n",
              "                }\n",
              "            </style>\n",
              "            "
            ]
          },
          "metadata": {}
        },
        {
          "output_type": "stream",
          "name": "stdout",
          "text": [
            "Forest year 0:\n",
            "                                        groups\n",
            "0  {'group': 0.0001, 'sum': 132.0007563295851}\n",
            "Forest year 10:\n",
            "                                         groups\n",
            "0  {'group': 0.0001, 'sum': 115.56092506890991}\n"
          ]
        }
      ]
    },
    {
      "cell_type": "code",
      "source": [
        "#Calculate total eligible area\n",
        "print('Non-eligible and eligible area are:')\n",
        "eligible_area = calculateTotalPixelArea(overlayed_10year, File)\n",
        "\n",
        "#Non-eligible slope\n",
        "#print('Slopy area:')\n",
        "#non_eligible_slope = calculateTotalPixelArea(Slope_Mul_Overlayed.selfMask(), File)"
      ],
      "metadata": {
        "id": "BfWvI8faWFJA"
      },
      "execution_count": null,
      "outputs": []
    },
    {
      "cell_type": "code",
      "source": [
        "# If the shapefile is divided into multiple polygons of interest (departments, geopolitical units, etc), use the code below\n",
        "\n",
        "# Create a list to hold the features\n",
        "features = []\n",
        "\n",
        "# Get the size of the File FeatureCollection\n",
        "file_size = File.size().getInfo()\n",
        "\n",
        "# Retrieve the features using a loop\n",
        "for i in range(file_size):\n",
        "    feature = ee.Feature(File.toList(file_size).get(i))\n",
        "    features.append(feature)\n",
        "\n",
        "# Calculate the total pixel area for each feature\n",
        "print('Eligible area:')\n",
        "areas = [calculateTotalPixelArea(overlayed_10year, feature.geometry()) for feature in features]\n",
        "\n",
        "print('Slopy area:')\n",
        "areas_slope = [calculateTotalPixelArea(Slope_Mul_Overlayed.selfMask(), feature.geometry()) for feature in features]"
      ],
      "metadata": {
        "id": "pekDXy533x_Z"
      },
      "execution_count": null,
      "outputs": []
    },
    {
      "cell_type": "code",
      "source": [
        "## Eligible area of minimum 5ha\n",
        "min_forest_pixels = 55\n",
        "contArea = overlayed_10year.eq(1).selfMask().connectedPixelCount()#**{'maxSize': 1024, 'eightConnected': False})\n",
        "###############################\n",
        "area = contArea.gte(min_forest_pixels).selfMask()\n",
        "print('Eligible area larger than 5ha:')\n",
        "areas_slope = calculateTotalPixelArea(area.selfMask(), File)"
      ],
      "metadata": {
        "id": "bDztnfo-6QNe"
      },
      "execution_count": null,
      "outputs": []
    },
    {
      "cell_type": "code",
      "source": [
        "# Define different min_forest_pixels values\n",
        "# Store results in a list\n",
        "results = []\n",
        "\n",
        "for min_forest_pixels in min_forest_pixels_list:\n",
        "    contArea = overlayed_10year.eq(1).selfMask().connectedPixelCount()\n",
        "    area = contArea.gte(min_forest_pixels).selfMask()\n",
        "    areas_slope = calculateTotalPixelArea(area.selfMask(), File)\n",
        "\n",
        "    # Append results to the list\n",
        "    results.append({\"min_forest_pixels\": min_forest_pixels, \"Total Area (ha)\": areas_slope})\n",
        "\n",
        "# Convert to DataFrame for a structured table\n",
        "df = pd.DataFrame(results)\n",
        "\n",
        "# Print the table\n",
        "print(df)"
      ],
      "metadata": {
        "id": "w3WI-ZUHAsLZ"
      },
      "execution_count": null,
      "outputs": []
    },
    {
      "cell_type": "markdown",
      "source": [
        "#### Functions"
      ],
      "metadata": {
        "id": "f1_fgRaHK2xx"
      }
    },
    {
      "cell_type": "code",
      "source": [],
      "metadata": {
        "id": "Uzc63RYHR3vZ"
      },
      "execution_count": null,
      "outputs": []
    },
    {
      "cell_type": "code",
      "source": [
        "esa_legend_dict = {\n",
        "    'Forest': '006400',\n",
        "    'Shrubland': 'ffbb22',\n",
        "    'Grassland': 'ffff4c',\n",
        "    'Cropland': 'f096ff',\n",
        "    'Built-up': 'fa0000',\n",
        "    'Bare/sparse vegetation': 'b4b4b4',\n",
        "    'Snow and ice': 'f0f0f0',\n",
        "    'Permanent water bodies': '0064c8',\n",
        "    'Herbaceous wetland': '0096a0',\n",
        "    'Mangroves': '00cf75',\n",
        "    'Moss and lichen': 'fae6a0'\n",
        "}\n",
        "\n",
        "legend_dict = {\n",
        "    'Forest': '006400',\n",
        "    'Non-forest': 'ffff4c',\n",
        "    'Built-up': 'fa0000',\n",
        "    'Permanent water bodies': '0064c8',\n",
        "    'Other land': '0096a0',\n",
        "}"
      ],
      "metadata": {
        "colab": {
          "base_uri": "https://localhost:8080/",
          "height": 17
        },
        "id": "9QEX8DO9nfhg",
        "outputId": "0d10390c-0861-41ef-f46b-1b48d5152189"
      },
      "execution_count": null,
      "outputs": [
        {
          "output_type": "display_data",
          "data": {
            "text/plain": [
              "<IPython.core.display.HTML object>"
            ],
            "text/html": [
              "\n",
              "            <style>\n",
              "                .geemap-dark {\n",
              "                    --jp-widgets-color: white;\n",
              "                    --jp-widgets-label-color: white;\n",
              "                    --jp-ui-font-color1: white;\n",
              "                    --jp-layout-color2: #454545;\n",
              "                    background-color: #383838;\n",
              "                }\n",
              "\n",
              "                .geemap-dark .jupyter-button {\n",
              "                    --jp-layout-color3: #383838;\n",
              "                }\n",
              "\n",
              "                .geemap-colab {\n",
              "                    background-color: var(--colab-primary-surface-color, white);\n",
              "                }\n",
              "\n",
              "                .geemap-colab .jupyter-button {\n",
              "                    --jp-layout-color3: var(--colab-primary-surface-color, white);\n",
              "                }\n",
              "            </style>\n",
              "            "
            ]
          },
          "metadata": {}
        }
      ]
    },
    {
      "cell_type": "code",
      "execution_count": null,
      "metadata": {
        "colab": {
          "base_uri": "https://localhost:8080/",
          "height": 17
        },
        "id": "IGF3rpGDhnq1",
        "outputId": "0cbb40c0-28b7-4b0d-a71b-8a861f168312"
      },
      "outputs": [
        {
          "output_type": "display_data",
          "data": {
            "text/plain": [
              "<IPython.core.display.HTML object>"
            ],
            "text/html": [
              "\n",
              "            <style>\n",
              "                .geemap-dark {\n",
              "                    --jp-widgets-color: white;\n",
              "                    --jp-widgets-label-color: white;\n",
              "                    --jp-ui-font-color1: white;\n",
              "                    --jp-layout-color2: #454545;\n",
              "                    background-color: #383838;\n",
              "                }\n",
              "\n",
              "                .geemap-dark .jupyter-button {\n",
              "                    --jp-layout-color3: #383838;\n",
              "                }\n",
              "\n",
              "                .geemap-colab {\n",
              "                    background-color: var(--colab-primary-surface-color, white);\n",
              "                }\n",
              "\n",
              "                .geemap-colab .jupyter-button {\n",
              "                    --jp-layout-color3: var(--colab-primary-surface-color, white);\n",
              "                }\n",
              "            </style>\n",
              "            "
            ]
          },
          "metadata": {}
        }
      ],
      "source": [
        "#Define a function to reclassify the 'tree' class of ESA\n",
        "def reclassify(image):\n",
        "    return image.where(image.eq(10), result)\n",
        "\n",
        "#### Pre-process Landsat\n",
        "def apply_scale_factors (image):\n",
        "    opticalBands = image.select('SR_B.').multiply(0.0000275).add(-0.2)\n",
        "    thermalBands = image.select('ST_B.*').multiply(0.00341802).add(149.0)\n",
        "    return image.addBands(opticalBands, None, True).addBands(thermalBands, None, True)\n",
        "\n",
        "# Mask the clouds (if the image has clouds it will delete the pixel)\n",
        "def maskSrClouds(image):\n",
        "    # Select the QA_PIXEL band and create a mask to exclude cloudy pixels\n",
        "    qa_mask = image.select('QA_PIXEL').bitwiseAnd(int('11111', 2)).eq(0)\n",
        "    # Select the QA_RADSAT band and create a mask to exclude saturated pixels\n",
        "    saturation_mask = image.select('QA_RADSAT').eq(0)\n",
        "    # Apply both masks to the image\n",
        "    masked_image = image.updateMask(qa_mask).updateMask(saturation_mask)\n",
        "    return masked_image\n",
        "\n",
        "## Fill the cloud missing values\n",
        "def fillGap(image):\n",
        "  return image.focalMedian(1.5, 'square', 'pixels', 2).blend(image)\n",
        "\n",
        "## Rename function to consistenty have the same band names among Landsat-7, Landsat-8 and landsat-9\n",
        "def rename(image):\n",
        "  return image.select(\n",
        "      ['SR_B1', 'SR_B2', 'SR_B3', 'SR_B4', 'SR_B5', 'SR_B7'],\n",
        "      ['SR_B2', 'SR_B3', 'SR_B4', 'SR_B5', 'SR_B6', 'SR_B7'])\n",
        "\n",
        "def renamel9(image):\n",
        "  return image.select(\n",
        "      ['SR_B2', 'SR_B3', 'SR_B4', 'SR_B5', 'SR_B6', 'SR_B7'],\n",
        "      ['SR_B2', 'SR_B3', 'SR_B4', 'SR_B5', 'SR_B6', 'SR_B7'])\n",
        "\n",
        "visParams={\n",
        "   'bands': ['SR_B4', 'SR_B3', 'SR_B2'],\n",
        "   'min': 0,\n",
        "   'max': 0.2\n",
        "}\n",
        "\n",
        "# Function to create the Landsat image collection\n",
        "def create_landsat_collection(start_year, end_year, start_date, end_date, region_of_interest, apply_scale_factors, maskSrClouds):\n",
        "    \"\"\"\n",
        "    Creates a Landsat image collection for a specific year, date range, and region of interest.\n",
        "\n",
        "    Args:\n",
        "        year (int): The year for filtering.\n",
        "        start_date (str): The start date for the image collection in \"yyyy-mm-dd\" format.\n",
        "        end_date (str): The end date for the image collection in \"yyyy-mm-dd\" format.\n",
        "        region_of_interest (ee.Geometry): The region to filter the images by.\n",
        "        apply_scale_factors (function): A function to apply scale factors to the images.\n",
        "        mask_sr_clouds (function): A function to mask out cloud-covered pixels.\n",
        "\n",
        "    Returns:\n",
        "        ee.ImageCollection: The filtered Landsat image collection.\n",
        "    \"\"\"\n",
        "    collection = (\n",
        "        ee.ImageCollection('LANDSAT/LC08/C02/T1_L2')\n",
        "        .filterBounds(region_of_interest)\n",
        "        .filterDate(str(start_year) + start_date, str(end_year) + end_date)\n",
        "        .filter(ee.Filter.lt('CLOUD_COVER', 30))\n",
        "        .map(apply_scale_factors)\n",
        "        .map(maskSrClouds)\n",
        "    )\n",
        "\n",
        "    return collection\n",
        "\n",
        "\n",
        "def create_landsat_collection_with_clouds(start_year, end_year, start_date, end_date, region_of_interest, apply_scale_factors, maskSrClouds, renamel9):\n",
        "  collection_l7 = (\n",
        "    ee.ImageCollection('LANDSAT/LC09/C02/T1_L2')\n",
        "    .filterBounds(region_of_interest)\n",
        "    .filterDate(str(start_year) + start_date, str(end_year)+ end_date)\n",
        "    .filter(ee.Filter.lt('CLOUD_COVER', 50))\n",
        "    .map(apply_scale_factors)\n",
        "    .map(maskSrClouds)\n",
        "    .map(renamel9))\n",
        "  return collection_l7\n",
        "\n",
        "def create_composite(collection_l7, collection, fillGap, File):\n",
        "    \"\"\"\n",
        "    General function to process Landsat image collections, merge, apply gap filling, and create a composite.\n",
        "\n",
        "    Parameters:\n",
        "    - collection_l7: Landsat image collection with cloud missing values.\n",
        "    - collection: The primary Landsat image collection to use for band selection.\n",
        "    - fillGap: Function to apply gap filling.\n",
        "    - File: Geometry or boundary to clip the output image.\n",
        "\n",
        "    Returns:\n",
        "    - A median composite image clipped to the specified boundary.\n",
        "    \"\"\"\n",
        "    # Merge the collections based on the selected bands\n",
        "    landsat78 = collection_l7.merge(collection.select(\n",
        "        ['SR_B2', 'SR_B3', 'SR_B4', 'SR_B5', 'SR_B6', 'SR_B7']))\n",
        "\n",
        "    # Apply gap filling and merge the collections again\n",
        "    composite78 = landsat78.map(fillGap).merge(collection.select(\n",
        "        ['SR_B2', 'SR_B3', 'SR_B4', 'SR_B5', 'SR_B6', 'SR_B7']))\n",
        "\n",
        "    # Compute the median and clip the result\n",
        "    landsat78composite = composite78.median().clip(File)\n",
        "\n",
        "    return landsat78composite\n",
        "\n",
        "\n",
        "####\n",
        "\n",
        "# Define a function to calculate the area\n",
        "def calculateTotalPixelArea(image, geometry):\n",
        "    # Adjusting the tileScale to reduce memory usage\n",
        "    total_area = ee.Image.pixelArea().addBands(image).divide(1e4) \\\n",
        "                  .reduceRegion(\n",
        "                        reducer=ee.Reducer.sum().group(1),\n",
        "                        geometry=geometry, #.simplify(100),  # Simplify geometry for faster calculation\n",
        "                        scale=30,\n",
        "                        bestEffort=True,\n",
        "                        tileScale=16,  # Increase tile scale to reduce memory load\n",
        "                 )\n",
        "\n",
        "    # Check if the result is valid and handle potential errors\n",
        "    try:\n",
        "        df = pd.DataFrame.from_dict(total_area.getInfo(), orient='columns')\n",
        "        print(df)\n",
        "    except Exception as e:\n",
        "        print(f\"Error encountered: {e}\")\n",
        "        return None\n",
        "\n",
        "    return ee.Feature(image.geometry(), total_area)\n",
        "\n",
        "\n",
        "def get_shapefile_centroid(gdf):\n",
        "    \"\"\"Ensure CRS is geographic and return the centroid coordinates.\"\"\"\n",
        "    if gdf.crs is None or gdf.crs.is_projected:\n",
        "        gdf = gdf.to_crs(epsg=4326)  # Convert to WGS84 (lat/lon)\n",
        "\n",
        "    centroid = gdf.unary_union.centroid\n",
        "    return centroid.y, centroid.x  # (latitude, longitude)\n",
        "\n",
        "def get_best_crs(latitude, longitude):\n",
        "    \"\"\" Returns the best UTM zone EPSG code based on latitude \"\"\"\n",
        "    utm_zone = int((180 + longitude) / 6) + 1\n",
        "    return f\"EPSG:{32600 + utm_zone if latitude >= 0 else 32700 + utm_zone}\"\n",
        "\n",
        "\n",
        "def calculateTotalPixelArea(image, geometry):\n",
        "    \"\"\"\n",
        "    Calculates the total area in hectares of an image within a given geometry.\n",
        "\n",
        "    Parameters:\n",
        "    - image: ee.Image - The input classified image.\n",
        "    - geometry: ee.Geometry - The region of interest.\n",
        "\n",
        "    Returns:\n",
        "    - Dictionary with area values or None in case of an error.\n",
        "    \"\"\"\n",
        "\n",
        "    # Ensure the image is in a projected CRS (Web Mercator or UTM)\n",
        "    image = image.reproject(best_epsg, None, 30)\n",
        "\n",
        "    # Compute pixel area in hectares\n",
        "    total_area = ee.Image.pixelArea().addBands(image).divide(10_000).reduceRegion(\n",
        "        reducer=ee.Reducer.sum().group(1),  # Sum areas by class\n",
        "        geometry=geometry,\n",
        "        scale=30,\n",
        "        bestEffort=True,\n",
        "        tileScale=16  # Reduce memory usage\n",
        "    )\n",
        "\n",
        "    # Retrieve results\n",
        "    try:\n",
        "        result = total_area.getInfo()\n",
        "        if not result:\n",
        "            print(\"No area data found.\")\n",
        "            return None\n",
        "\n",
        "        # Convert to a DataFrame\n",
        "        df = pd.DataFrame.from_dict(result, orient='columns')\n",
        "        print(df)\n",
        "        return result\n",
        "\n",
        "    except Exception as e:\n",
        "        print(f\"Error encountered: {e}\")\n",
        "        return None\n"
      ]
    }
  ]
}