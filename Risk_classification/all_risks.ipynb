{
  "nbformat": 4,
  "nbformat_minor": 0,
  "metadata": {
    "colab": {
      "provenance": [],
      "authorship_tag": "ABX9TyPqwulBdHm8scbR9i8CRgGb",
      "include_colab_link": true
    },
    "kernelspec": {
      "name": "python3",
      "display_name": "Python 3"
    },
    "language_info": {
      "name": "python"
    }
  },
  "cells": [
    {
      "cell_type": "markdown",
      "metadata": {
        "id": "view-in-github",
        "colab_type": "text"
      },
      "source": [
        "<a href=\"https://colab.research.google.com/github/inesbsilveira/hummingbirds/blob/main/Risk_classification/all_risks.ipynb\" target=\"_parent\"><img src=\"https://colab.research.google.com/assets/colab-badge.svg\" alt=\"Open In Colab\"/></a>"
      ]
    },
    {
      "cell_type": "code",
      "execution_count": null,
      "metadata": {
        "id": "vsw3uW44sEZk"
      },
      "outputs": [],
      "source": [
        "!pip install geemap\n",
        "!pip install geojson"
      ]
    },
    {
      "cell_type": "code",
      "source": [
        "\n",
        "import os\n",
        "import csv\n",
        "import pandas as pd\n",
        "import geopandas as gpd\n",
        "from shapely.geometry import Polygon, MultiPolygon, mapping\n",
        "from shapely.validation import make_valid\n",
        "import geojson\n",
        "import ee\n",
        "import geemap\n",
        "import matplotlib.pyplot as plt\n",
        "import seaborn as sns\n",
        "import numpy as np\n",
        "import seaborn as sns\n",
        "import ee\n",
        "import datetime"
      ],
      "metadata": {
        "id": "_67rg9m-sjut"
      },
      "execution_count": 2,
      "outputs": []
    },
    {
      "cell_type": "code",
      "source": [
        "\n",
        "my_project = 'ee-ineshummingbirds'\n",
        "ee.Authenticate()\n",
        "ee.Initialize(project= my_project)\n"
      ],
      "metadata": {
        "colab": {
          "base_uri": "https://localhost:8080/",
          "height": 17
        },
        "id": "d7WeURW0s6cR",
        "outputId": "bacfba3d-a07f-43ce-ff36-f6c0baaf18ea"
      },
      "execution_count": 3,
      "outputs": [
        {
          "output_type": "display_data",
          "data": {
            "text/plain": [
              "<IPython.core.display.HTML object>"
            ],
            "text/html": [
              "\n",
              "            <style>\n",
              "                .geemap-dark {\n",
              "                    --jp-widgets-color: white;\n",
              "                    --jp-widgets-label-color: white;\n",
              "                    --jp-ui-font-color1: white;\n",
              "                    --jp-layout-color2: #454545;\n",
              "                    background-color: #383838;\n",
              "                }\n",
              "\n",
              "                .geemap-dark .jupyter-button {\n",
              "                    --jp-layout-color3: #383838;\n",
              "                }\n",
              "\n",
              "                .geemap-colab {\n",
              "                    background-color: var(--colab-primary-surface-color, white);\n",
              "                }\n",
              "\n",
              "                .geemap-colab .jupyter-button {\n",
              "                    --jp-layout-color3: var(--colab-primary-surface-color, white);\n",
              "                }\n",
              "            </style>\n",
              "            "
            ]
          },
          "metadata": {}
        }
      ]
    },
    {
      "cell_type": "code",
      "source": [
        "# Define the period of time for temperature and precipitation\n",
        "start_date = '2024-01-01'\n",
        "end_date = '2024-12-31'\n",
        "\n"
      ],
      "metadata": {
        "colab": {
          "base_uri": "https://localhost:8080/",
          "height": 17
        },
        "id": "GK42uDRispFm",
        "outputId": "e81420d8-8d05-45c0-bcc6-2e72e67fc5b1"
      },
      "execution_count": 4,
      "outputs": [
        {
          "output_type": "display_data",
          "data": {
            "text/plain": [
              "<IPython.core.display.HTML object>"
            ],
            "text/html": [
              "\n",
              "            <style>\n",
              "                .geemap-dark {\n",
              "                    --jp-widgets-color: white;\n",
              "                    --jp-widgets-label-color: white;\n",
              "                    --jp-ui-font-color1: white;\n",
              "                    --jp-layout-color2: #454545;\n",
              "                    background-color: #383838;\n",
              "                }\n",
              "\n",
              "                .geemap-dark .jupyter-button {\n",
              "                    --jp-layout-color3: #383838;\n",
              "                }\n",
              "\n",
              "                .geemap-colab {\n",
              "                    background-color: var(--colab-primary-surface-color, white);\n",
              "                }\n",
              "\n",
              "                .geemap-colab .jupyter-button {\n",
              "                    --jp-layout-color3: var(--colab-primary-surface-color, white);\n",
              "                }\n",
              "            </style>\n",
              "            "
            ]
          },
          "metadata": {}
        }
      ]
    },
    {
      "cell_type": "code",
      "source": [
        "\n",
        "# if the input is a shapefile\n",
        "input_shp = \"original_calao_shp.shp\"\n",
        "gdf = gpd.read_file(input_shp).to_crs('EPSG:4326')\n",
        "region = geemap.geopandas_to_ee(gdf)\n"
      ],
      "metadata": {
        "colab": {
          "base_uri": "https://localhost:8080/",
          "height": 17
        },
        "id": "68CMTT48s8q6",
        "outputId": "b4868ff9-c1c1-47ce-e446-c2312a5d5e94"
      },
      "execution_count": 5,
      "outputs": [
        {
          "output_type": "display_data",
          "data": {
            "text/plain": [
              "<IPython.core.display.HTML object>"
            ],
            "text/html": [
              "\n",
              "            <style>\n",
              "                .geemap-dark {\n",
              "                    --jp-widgets-color: white;\n",
              "                    --jp-widgets-label-color: white;\n",
              "                    --jp-ui-font-color1: white;\n",
              "                    --jp-layout-color2: #454545;\n",
              "                    background-color: #383838;\n",
              "                }\n",
              "\n",
              "                .geemap-dark .jupyter-button {\n",
              "                    --jp-layout-color3: #383838;\n",
              "                }\n",
              "\n",
              "                .geemap-colab {\n",
              "                    background-color: var(--colab-primary-surface-color, white);\n",
              "                }\n",
              "\n",
              "                .geemap-colab .jupyter-button {\n",
              "                    --jp-layout-color3: var(--colab-primary-surface-color, white);\n",
              "                }\n",
              "            </style>\n",
              "            "
            ]
          },
          "metadata": {}
        }
      ]
    },
    {
      "cell_type": "code",
      "source": [
        "#FUNCTIONS\n",
        "# Count the number of days with at least one pixel exceeding the threshold\n",
        "def count_hot_days(image):\n",
        "    mask = image.reduceRegion(\n",
        "        reducer=ee.Reducer.anyNonZero(),\n",
        "        geometry=region,\n",
        "        scale=1000,\n",
        "        maxPixels=1e8\n",
        "    )\n",
        "    is_above = ee.Algorithms.If(mask.get('temperature_2m'), 1, 0)\n",
        "    return ee.Feature(None, {'date': image.get('system:time_start'), 'day_above_32': is_above})\n",
        "\n",
        "def count_flood_events(year):\n",
        "    start_date = ee.Date.fromYMD(year, 1, 1)\n",
        "    end_date = ee.Date.fromYMD(year, 12, 31)\n",
        "\n",
        "    yearly_floods = (gfd.filterDate(start_date, end_date)\n",
        "                      .select('flooded')\n",
        "                      .map(lambda img: img.gt(0).And(jrc.Not()))\n",
        "                      .sum()\n",
        "                      .gt(0))\n",
        "\n",
        "    clipped_flood = yearly_floods.clip(region)\n",
        "\n",
        "    flood_check = clipped_flood.reduceRegion(\n",
        "        reducer=ee.Reducer.sum(),\n",
        "        geometry=region.geometry(),\n",
        "        scale=500,\n",
        "        maxPixels=1e8\n",
        "    )\n",
        "\n",
        "    return ee.Feature(None, {'year': year, 'flood_count': flood_check.get('flooded')})"
      ],
      "metadata": {
        "colab": {
          "base_uri": "https://localhost:8080/",
          "height": 17
        },
        "id": "PkzDXuLUJKlT",
        "outputId": "f7fc3eef-7b79-4088-c0de-38ab9ab022d3"
      },
      "execution_count": 6,
      "outputs": [
        {
          "output_type": "display_data",
          "data": {
            "text/plain": [
              "<IPython.core.display.HTML object>"
            ],
            "text/html": [
              "\n",
              "            <style>\n",
              "                .geemap-dark {\n",
              "                    --jp-widgets-color: white;\n",
              "                    --jp-widgets-label-color: white;\n",
              "                    --jp-ui-font-color1: white;\n",
              "                    --jp-layout-color2: #454545;\n",
              "                    background-color: #383838;\n",
              "                }\n",
              "\n",
              "                .geemap-dark .jupyter-button {\n",
              "                    --jp-layout-color3: #383838;\n",
              "                }\n",
              "\n",
              "                .geemap-colab {\n",
              "                    background-color: var(--colab-primary-surface-color, white);\n",
              "                }\n",
              "\n",
              "                .geemap-colab .jupyter-button {\n",
              "                    --jp-layout-color3: var(--colab-primary-surface-color, white);\n",
              "                }\n",
              "            </style>\n",
              "            "
            ]
          },
          "metadata": {}
        }
      ]
    },
    {
      "cell_type": "code",
      "source": [
        "#load the datasets\n",
        "#temperature - ERA5-Land dataset (temperature in Kelvin)\n",
        "temp_dataset = (ee.ImageCollection('ECMWF/ERA5_LAND/HOURLY')\n",
        "                .filterDate(start_date, end_date)\n",
        "                .select('temperature_2m'))\n",
        "\n",
        "#precipitation - ERA5-Land dataset (precipitation in meters)\n",
        "precip_dataset = (ee.ImageCollection('ECMWF/ERA5_LAND/HOURLY')\n",
        "                .filterDate(start_date, end_date)\n",
        "                .select('total_precipitation'))\n",
        "\n",
        "#floods -  MODIS Global Flood Database (GFD) and JRC permanent water mask\n",
        "gfd = ee.ImageCollection('GLOBAL_FLOOD_DB/MODIS_EVENTS/V1')\n",
        "jrc = (ee.ImageCollection('JRC/GSW1_4/YearlyHistory')\n",
        "       .select('waterClass')\n",
        "       .map(lambda img: img.eq(3))  # Permanent water class\n",
        "       .max())\n",
        "\n",
        "#drought - SPEI dataset\n",
        "spei_dataset = ee.ImageCollection(\"CSIC/SPEI/2_10\") \\\n",
        "    .filterBounds(region) \\\n",
        "    .filterDate(\"1992-01-01\", \"2022-01-01\")\n",
        "\n",
        "\n",
        "#---------------------\n",
        "#---TEMPERATURE-------\n",
        "#---------------------\n",
        "\n",
        "# Calculate the mean, min, and max annual temperature\n",
        "mean_temp = temp_dataset.mean().clip(region)\n",
        "min_temp = temp_dataset.min().clip(region)\n",
        "max_temp = temp_dataset.max().clip(region)\n",
        "\n",
        "# Convert temperature from Kelvin to Celsius\n",
        "mean_temp_celsius = mean_temp.subtract(273.15)\n",
        "min_temp_celsius = min_temp.subtract(273.15)\n",
        "max_temp_celsius = max_temp.subtract(273.15)\n",
        "\n",
        "# Calculate the average, min, and max temperature over the region\n",
        "temp_stats = mean_temp_celsius.reduceRegion(\n",
        "    reducer=ee.Reducer.mean(),\n",
        "    geometry=region.geometry(),\n",
        "    scale=1000,\n",
        "    bestEffort=True\n",
        ")\n",
        "\n",
        "min_stats = min_temp_celsius.reduceRegion(\n",
        "    reducer=ee.Reducer.min(),\n",
        "    geometry=region.geometry(),\n",
        "    scale=1000,\n",
        "    bestEffort=True\n",
        ")\n",
        "\n",
        "max_stats = max_temp_celsius.reduceRegion(\n",
        "    reducer=ee.Reducer.max(),\n",
        "    geometry=region.geometry(),\n",
        "    scale=1000,\n",
        "    bestEffort=True\n",
        ")\n",
        "\n",
        "# Extract and print temperature values\n",
        "avg_temp = temp_stats.get('temperature_2m').getInfo()\n",
        "min_temp_value = min_stats.get('temperature_2m').getInfo()\n",
        "max_temp_value = max_stats.get('temperature_2m').getInfo()\n",
        "\n",
        "print('TEMPERATURE 2024')\n",
        "print(f'Average Annual Temperature (°C): {avg_temp:.2f}')\n",
        "print(f'Minimum Annual Temperature (°C): {min_temp_value:.2f}')\n",
        "print(f'Maximum Annual Temperature (°C): {max_temp_value:.2f}')\n",
        "\n",
        "# Define threshold temperature in Celsius\n",
        "threshold = 32\n",
        "threshold_k = threshold + 273.15  # Convert to Kelvin\n",
        "\n",
        "# Apply threshold to identify hot pixels\n",
        "col_threshold = temp_dataset.map(lambda image: image.gt(threshold_k).set('system:time_start', image.get('system:time_start')))\n",
        "\n",
        "# Convert to FeatureCollection\n",
        "days_above_32_fc = ee.FeatureCollection(col_threshold.map(count_hot_days))\n",
        "\n",
        "# Sum the number of hot hours\n",
        "total_hot_hours = days_above_32_fc.aggregate_sum('day_above_32')\n",
        "\n",
        "# Convert hot hours to days\n",
        "total_days_above_32 = ee.Number(total_hot_hours).divide(24).getInfo()\n",
        "\n",
        "# Print the results\n",
        "print(f'Total number of days with at least one pixel above 32°C: {total_days_above_32:.2f}')\n",
        "\n",
        "#------------------------\n",
        "#-----PRECIPITATION------\n",
        "#------------------------\n",
        "\n",
        "# Define the dry and wet seasons\n",
        "dry_season_1stmonth = 11\n",
        "dry_season_lastmonth = 5\n",
        "wet_season_1stmonth = 6\n",
        "wet_season_lastmonth = 10\n",
        "\n",
        "# Convert hourly precipitation to daily precipitation (sum over each day)\n",
        "daily_precip = precip_dataset.map(lambda image: image.multiply(1000).set('date', ee.Date(image.date()).format('YYYY-MM-dd')))\n",
        "\n",
        "# Compute cumulative annual precipitation\n",
        "cumulative_annual_precip = daily_precip.sum().clip(region)\n",
        "cumulative_annual_precip_stats = cumulative_annual_precip.reduceRegion(\n",
        "    reducer=ee.Reducer.sum(),\n",
        "    geometry=region.geometry(),\n",
        "    scale=1000,\n",
        "    bestEffort=True\n",
        ")\n",
        "\n",
        "# Compute daily average precipitation\n",
        "daily_avg_precip_stats = ee.Dictionary(cumulative_annual_precip_stats).map(lambda key, value: ee.Number(value).divide(365))\n",
        "\n",
        "# Compute cumulative precipitation for wet season\n",
        "wet_season_precip = precip_dataset.filter(ee.Filter.calendarRange(wet_season_1stmonth, wet_season_lastmonth, 'month')).sum().multiply(1000).clip(region)\n",
        "wet_season_precip_stats = wet_season_precip.reduceRegion(\n",
        "    reducer=ee.Reducer.sum(),\n",
        "    geometry=region.geometry(),\n",
        "    scale=1000,\n",
        "    bestEffort=True\n",
        ")\n",
        "\n",
        "# Compute cumulative precipitation for dry season\n",
        "dry_season_precip = precip_dataset.filter(ee.Filter.calendarRange(dry_season_1stmonth, dry_season_lastmonth, 'month')).sum().multiply(1000).clip(region)\n",
        "dry_season_precip_stats = dry_season_precip.reduceRegion(\n",
        "    reducer=ee.Reducer.sum(),\n",
        "    geometry=region.geometry(),\n",
        "    scale=1000,\n",
        "    bestEffort=True\n",
        ")\n",
        "\n",
        "# Extract and print precipitation values\n",
        "cumulative_annual_precip_value = cumulative_annual_precip_stats.get('total_precipitation').getInfo()\n",
        "daily_avg_precip_value = daily_avg_precip_stats.get('total_precipitation').getInfo()\n",
        "wet_season_precip_value = wet_season_precip_stats.get('total_precipitation').getInfo()\n",
        "dry_season_precip_value = dry_season_precip_stats.get('total_precipitation').getInfo()\n",
        "\n",
        "print('PRECIPITATION 2024')\n",
        "print(f'Cumulative Annual Precipitation (mm): {cumulative_annual_precip_value:.2f}')\n",
        "print(f'Daily Average Precipitation (mm): {daily_avg_precip_value:.2f}')\n",
        "print(f'Wet Season Cumulative Precipitation (mm): {wet_season_precip_value:.2f}')\n",
        "print(f'Dry Season Cumulative Precipitation (mm): {dry_season_precip_value:.2f}')\n",
        "\n",
        "#---------------------------\n",
        "#---------FLOODS------------\n",
        "#---------------------------\n",
        "\n",
        "# Define years for flood analysis\n",
        "years = ee.List.sequence(2000, 2018)\n",
        "\n",
        "# Convert flood counts to FeatureCollection\n",
        "flood_counts_fc = ee.FeatureCollection(years.map(count_flood_events))\n",
        "\n",
        "total_floods = flood_counts_fc.aggregate_sum('flood_count').getInfo()\n",
        "\n",
        "print('FLOODS 2000-2018')\n",
        "if total_floods > 0:\n",
        "    print('Floods detected in the project area')\n",
        "else:\n",
        "    print('No floods detected in the project area')\n",
        "\n",
        "# Classify risk\n",
        "if total_floods == 0:\n",
        "    risk_level = \"Low Risk\"\n",
        "elif total_floods == 1:\n",
        "    risk_level = \"Medium Risk\"\n",
        "else:\n",
        "    risk_level = \"High Risk\"\n",
        "\n",
        "#print('Number of flood events per year:', flood_counts_fc.getInfo())\n",
        "print('Number of total flood events:', total_floods)\n",
        "print(f'Flood Risk Level: {risk_level}')\n",
        "\n",
        "\n",
        "#---------------------------\n",
        "#---------DROUGHT-----------\n",
        "#---------------------------\n",
        "\n",
        "# Compute average SPEI indices\n",
        "spei_avg = spei_dataset.reduce(ee.Reducer.mean()).clip(region).select([\n",
        "    \"SPEI_03_month_mean\", \"SPEI_06_month_mean\", \"SPEI_09_month_mean\", \"SPEI_12_month_mean\"\n",
        "])\n",
        "\n",
        "# Compute drought risk based on SPEI-9\n",
        "chart_data = spei_dataset.map(lambda image:\n",
        "    ee.Feature(None, {\n",
        "        \"Date\": image.get(\"system:time_start\"),\n",
        "        \"SPEI_09_month\": image.select(\"SPEI_09_month\").reduceRegion(\n",
        "            reducer=ee.Reducer.mean(),\n",
        "            geometry=region.geometry(),\n",
        "            scale=55660,\n",
        "            maxPixels=1e9\n",
        "        ).get(\"SPEI_09_month\")\n",
        "    })\n",
        ")\n",
        "\n",
        "# Convert to FeatureCollection\n",
        "chart_list = chart_data.toList(chart_data.size())\n",
        "\n",
        "# Filter drought events (SPEI-9 < -1.5)\n",
        "drought_events = chart_list.filter(ee.Filter.lt(\"SPEI_09_month\", -1.5))\n",
        "\n",
        "# Compute drought risk percentage\n",
        "total_features = chart_list.size()\n",
        "num_drought_events = drought_events.size()\n",
        "percentage_drought = ee.Number(num_drought_events).divide(total_features).multiply(100)\n",
        "\n",
        "# Classify drought risk\n",
        "risk_level = ee.Algorithms.If(\n",
        "    percentage_drought.lt(5), \"Low risk\",\n",
        "    ee.Algorithms.If(percentage_drought.lt(15), \"Medium risk\", \"High risk\")\n",
        ")\n",
        "\n",
        "percentage_drought = percentage_drought.getInfo()\n",
        "\n",
        "# Print drought risk\n",
        "print('DROUGHT 1992-2022')\n",
        "print(f\"Percentage of months with severe drought: {percentage_drought:.2f}\")\n",
        "print(\"Drought Risk Level:\", risk_level.getInfo())\n",
        "\n"
      ],
      "metadata": {
        "colab": {
          "base_uri": "https://localhost:8080/",
          "height": 312
        },
        "id": "YQyeZPLlH6_s",
        "outputId": "50ea8800-c3aa-4a7a-a940-ce96a0bd19ca"
      },
      "execution_count": 15,
      "outputs": [
        {
          "output_type": "display_data",
          "data": {
            "text/plain": [
              "<IPython.core.display.HTML object>"
            ],
            "text/html": [
              "\n",
              "            <style>\n",
              "                .geemap-dark {\n",
              "                    --jp-widgets-color: white;\n",
              "                    --jp-widgets-label-color: white;\n",
              "                    --jp-ui-font-color1: white;\n",
              "                    --jp-layout-color2: #454545;\n",
              "                    background-color: #383838;\n",
              "                }\n",
              "\n",
              "                .geemap-dark .jupyter-button {\n",
              "                    --jp-layout-color3: #383838;\n",
              "                }\n",
              "\n",
              "                .geemap-colab {\n",
              "                    background-color: var(--colab-primary-surface-color, white);\n",
              "                }\n",
              "\n",
              "                .geemap-colab .jupyter-button {\n",
              "                    --jp-layout-color3: var(--colab-primary-surface-color, white);\n",
              "                }\n",
              "            </style>\n",
              "            "
            ]
          },
          "metadata": {}
        },
        {
          "output_type": "stream",
          "name": "stdout",
          "text": [
            "TEMPERATURE 2024\n",
            "Average Annual Temperature (°C): 27.70\n",
            "Minimum Annual Temperature (°C): 17.78\n",
            "Maximum Annual Temperature (°C): 40.22\n",
            "Total number of days with at least one pixel above 32°C: 68.46\n",
            "PRECIPITATION 2024\n",
            "Cumulative Annual Precipitation (mm): 2950147.05\n",
            "Daily Average Precipitation (mm): 8082.59\n",
            "Wet Season Cumulative Precipitation (mm): 2400707.79\n",
            "Dry Season Cumulative Precipitation (mm): 549439.26\n",
            "FLOODS 2000-2018\n",
            "No floods detected in the project area\n",
            "Number of total flood events: 0\n",
            "Flood Risk Level: Low Risk\n",
            "DROUGHT 1992-2022\n",
            "Percentage of months with severe drought: 9.17\n",
            "Drought Risk Level: Medium risk\n"
          ]
        }
      ]
    }
  ]
}