{
  "nbformat": 4,
  "nbformat_minor": 0,
  "metadata": {
    "colab": {
      "provenance": [],
      "authorship_tag": "ABX9TyPZn/kbj0LjryGCsYVxP08A",
      "include_colab_link": true
    },
    "kernelspec": {
      "name": "python3",
      "display_name": "Python 3"
    },
    "language_info": {
      "name": "python"
    }
  },
  "cells": [
    {
      "cell_type": "markdown",
      "metadata": {
        "id": "view-in-github",
        "colab_type": "text"
      },
      "source": [
        "<a href=\"https://colab.research.google.com/github/inesbsilveira/hummingbirds/blob/main/Risk_classification/all_risks.ipynb\" target=\"_parent\"><img src=\"https://colab.research.google.com/assets/colab-badge.svg\" alt=\"Open In Colab\"/></a>"
      ]
    },
    {
      "cell_type": "code",
      "execution_count": null,
      "metadata": {
        "id": "vsw3uW44sEZk"
      },
      "outputs": [],
      "source": [
        "!pip install geemap\n",
        "!pip install geojson"
      ]
    },
    {
      "cell_type": "code",
      "source": [
        "\n",
        "import os\n",
        "import csv\n",
        "import pandas as pd\n",
        "import geopandas as gpd\n",
        "from shapely.geometry import Polygon, MultiPolygon, mapping\n",
        "from shapely.validation import make_valid\n",
        "import geojson\n",
        "import ee\n",
        "import geemap\n",
        "import matplotlib.pyplot as plt\n",
        "import seaborn as sns\n",
        "import numpy as np\n",
        "import seaborn as sns\n",
        "import ee\n",
        "import datetime"
      ],
      "metadata": {
        "id": "_67rg9m-sjut"
      },
      "execution_count": 3,
      "outputs": []
    },
    {
      "cell_type": "code",
      "source": [
        "\n",
        "my_project = 'ee-ineshummingbirds'\n",
        "ee.Authenticate()\n",
        "ee.Initialize(project= my_project)\n",
        ""
      ],
      "metadata": {
        "colab": {
          "base_uri": "https://localhost:8080/",
          "height": 17
        },
        "id": "d7WeURW0s6cR",
        "outputId": "710fd330-4014-4c4e-8d2d-fad4ec2a466d"
      },
      "execution_count": 4,
      "outputs": [
        {
          "output_type": "display_data",
          "data": {
            "text/plain": [
              "<IPython.core.display.HTML object>"
            ],
            "text/html": [
              "\n",
              "            <style>\n",
              "                .geemap-dark {\n",
              "                    --jp-widgets-color: white;\n",
              "                    --jp-widgets-label-color: white;\n",
              "                    --jp-ui-font-color1: white;\n",
              "                    --jp-layout-color2: #454545;\n",
              "                    background-color: #383838;\n",
              "                }\n",
              "\n",
              "                .geemap-dark .jupyter-button {\n",
              "                    --jp-layout-color3: #383838;\n",
              "                }\n",
              "\n",
              "                .geemap-colab {\n",
              "                    background-color: var(--colab-primary-surface-color, white);\n",
              "                }\n",
              "\n",
              "                .geemap-colab .jupyter-button {\n",
              "                    --jp-layout-color3: var(--colab-primary-surface-color, white);\n",
              "                }\n",
              "            </style>\n",
              "            "
            ]
          },
          "metadata": {}
        }
      ]
    },
    {
      "cell_type": "code",
      "source": [
        "# Define the period of time for temperature and precipitation\n",
        "start_date = '2024-01-01'\n",
        "end_date = '2024-12-31'\n",
        "\n"
      ],
      "metadata": {
        "colab": {
          "base_uri": "https://localhost:8080/",
          "height": 17
        },
        "id": "GK42uDRispFm",
        "outputId": "fcffc2de-e902-4c19-be7b-baf97633869f"
      },
      "execution_count": 5,
      "outputs": [
        {
          "output_type": "display_data",
          "data": {
            "text/plain": [
              "<IPython.core.display.HTML object>"
            ],
            "text/html": [
              "\n",
              "            <style>\n",
              "                .geemap-dark {\n",
              "                    --jp-widgets-color: white;\n",
              "                    --jp-widgets-label-color: white;\n",
              "                    --jp-ui-font-color1: white;\n",
              "                    --jp-layout-color2: #454545;\n",
              "                    background-color: #383838;\n",
              "                }\n",
              "\n",
              "                .geemap-dark .jupyter-button {\n",
              "                    --jp-layout-color3: #383838;\n",
              "                }\n",
              "\n",
              "                .geemap-colab {\n",
              "                    background-color: var(--colab-primary-surface-color, white);\n",
              "                }\n",
              "\n",
              "                .geemap-colab .jupyter-button {\n",
              "                    --jp-layout-color3: var(--colab-primary-surface-color, white);\n",
              "                }\n",
              "            </style>\n",
              "            "
            ]
          },
          "metadata": {}
        }
      ]
    },
    {
      "cell_type": "code",
      "source": [
        "\n",
        "# if the input is a shapefile\n",
        "input_shp = \"original_calao_shp.shp\"\n",
        "gdf = gpd.read_file(input_shp).to_crs('EPSG:4326')\n",
        "region = geemap.geopandas_to_ee(gdf)\n"
      ],
      "metadata": {
        "colab": {
          "base_uri": "https://localhost:8080/",
          "height": 17
        },
        "id": "68CMTT48s8q6",
        "outputId": "66c87cb9-4c6d-4f99-82f3-c28633071467"
      },
      "execution_count": 9,
      "outputs": [
        {
          "output_type": "display_data",
          "data": {
            "text/plain": [
              "<IPython.core.display.HTML object>"
            ],
            "text/html": [
              "\n",
              "            <style>\n",
              "                .geemap-dark {\n",
              "                    --jp-widgets-color: white;\n",
              "                    --jp-widgets-label-color: white;\n",
              "                    --jp-ui-font-color1: white;\n",
              "                    --jp-layout-color2: #454545;\n",
              "                    background-color: #383838;\n",
              "                }\n",
              "\n",
              "                .geemap-dark .jupyter-button {\n",
              "                    --jp-layout-color3: #383838;\n",
              "                }\n",
              "\n",
              "                .geemap-colab {\n",
              "                    background-color: var(--colab-primary-surface-color, white);\n",
              "                }\n",
              "\n",
              "                .geemap-colab .jupyter-button {\n",
              "                    --jp-layout-color3: var(--colab-primary-surface-color, white);\n",
              "                }\n",
              "            </style>\n",
              "            "
            ]
          },
          "metadata": {}
        }
      ]
    },
    {
      "cell_type": "code",
      "source": [
        "#FUNCTIONS\n",
        "# Count the number of days with at least one pixel exceeding the threshold\n",
        "def count_hot_days(image):\n",
        "    mask = image.reduceRegion(\n",
        "        reducer=ee.Reducer.anyNonZero(),\n",
        "        geometry=region,\n",
        "        scale=1000,\n",
        "        maxPixels=1e8\n",
        "    )\n",
        "    is_above = ee.Algorithms.If(mask.get('temperature_2m'), 1, 0)\n",
        "    return ee.Feature(None, {'date': image.get('system:time_start'), 'day_above_32': is_above})\n",
        "\n",
        "def count_flood_events(year):\n",
        "    start_date = ee.Date.fromYMD(year, 1, 1)\n",
        "    end_date = ee.Date.fromYMD(year, 12, 31)\n",
        "\n",
        "    yearly_floods = (gfd.filterDate(start_date, end_date)\n",
        "                      .select('flooded')\n",
        "                      .map(lambda img: img.gt(0).And(jrc.Not()))\n",
        "                      .sum()\n",
        "                      .gt(0))\n",
        "\n",
        "    clipped_flood = yearly_floods.clip(region)\n",
        "\n",
        "    flood_check = clipped_flood.reduceRegion(\n",
        "        reducer=ee.Reducer.sum(),\n",
        "        geometry=region.geometry(),\n",
        "        scale=500,\n",
        "        maxPixels=1e8\n",
        "    )\n",
        "\n",
        "    return ee.Feature(None, {'year': year, 'flood_count': flood_check.get('flooded')})"
      ],
      "metadata": {
        "colab": {
          "base_uri": "https://localhost:8080/",
          "height": 17
        },
        "id": "PkzDXuLUJKlT",
        "outputId": "c0c47d2b-c755-43cf-cba4-5d28506d0b99"
      },
      "execution_count": 18,
      "outputs": [
        {
          "output_type": "display_data",
          "data": {
            "text/plain": [
              "<IPython.core.display.HTML object>"
            ],
            "text/html": [
              "\n",
              "            <style>\n",
              "                .geemap-dark {\n",
              "                    --jp-widgets-color: white;\n",
              "                    --jp-widgets-label-color: white;\n",
              "                    --jp-ui-font-color1: white;\n",
              "                    --jp-layout-color2: #454545;\n",
              "                    background-color: #383838;\n",
              "                }\n",
              "\n",
              "                .geemap-dark .jupyter-button {\n",
              "                    --jp-layout-color3: #383838;\n",
              "                }\n",
              "\n",
              "                .geemap-colab {\n",
              "                    background-color: var(--colab-primary-surface-color, white);\n",
              "                }\n",
              "\n",
              "                .geemap-colab .jupyter-button {\n",
              "                    --jp-layout-color3: var(--colab-primary-surface-color, white);\n",
              "                }\n",
              "            </style>\n",
              "            "
            ]
          },
          "metadata": {}
        }
      ]
    },
    {
      "cell_type": "code",
      "source": [
        "#load the datasets\n",
        "#temperature - ERA5-Land dataset (temperature in Kelvin)\n",
        "temp_dataset = (ee.ImageCollection('ECMWF/ERA5_LAND/HOURLY')\n",
        "                .filterDate(start_date, end_date)\n",
        "                .select('temperature_2m'))\n",
        "\n",
        "#precipitation - ERA5-Land dataset (precipitation in meters)\n",
        "precip_dataset = (ee.ImageCollection('ECMWF/ERA5_LAND/HOURLY')\n",
        "                .filterDate(start_date, end_date)\n",
        "                .select('total_precipitation'))\n",
        "\n",
        "#floods -  MODIS Global Flood Database (GFD) and JRC permanent water mask\n",
        "gfd = ee.ImageCollection('GLOBAL_FLOOD_DB/MODIS_EVENTS/V1')\n",
        "jrc = (ee.ImageCollection('JRC/GSW1_4/YearlyHistory')\n",
        "       .select('waterClass')\n",
        "       .map(lambda img: img.eq(3))  # Permanent water class\n",
        "       .max())\n",
        "\n",
        "#drought - SPEI dataset\n",
        "spei_dataset = ee.ImageCollection(\"CSIC/SPEI/2_10\") \\\n",
        "    .filterBounds(region) \\\n",
        "    .filterDate(\"1992-01-01\", \"2022-01-01\")\n",
        "\n",
        "\n",
        "#---------------------\n",
        "#---TEMPERATURE-------\n",
        "#---------------------\n",
        "\n",
        "# Calculate the mean, min, and max annual temperature\n",
        "mean_temp = temp_dataset.mean().clip(region)\n",
        "min_temp = temp_dataset.min().clip(region)\n",
        "max_temp = temp_dataset.max().clip(region)\n",
        "\n",
        "# Convert temperature from Kelvin to Celsius\n",
        "mean_temp_celsius = mean_temp.subtract(273.15)\n",
        "min_temp_celsius = min_temp.subtract(273.15)\n",
        "max_temp_celsius = max_temp.subtract(273.15)\n",
        "\n",
        "# Calculate the average, min, and max temperature over the region\n",
        "temp_stats = mean_temp_celsius.reduceRegion(\n",
        "    reducer=ee.Reducer.mean(),\n",
        "    geometry=region.geometry(),\n",
        "    scale=1000,\n",
        "    bestEffort=True\n",
        ")\n",
        "\n",
        "min_stats = min_temp_celsius.reduceRegion(\n",
        "    reducer=ee.Reducer.min(),\n",
        "    geometry=region.geometry(),\n",
        "    scale=1000,\n",
        "    bestEffort=True\n",
        ")\n",
        "\n",
        "max_stats = max_temp_celsius.reduceRegion(\n",
        "    reducer=ee.Reducer.max(),\n",
        "    geometry=region.geometry(),\n",
        "    scale=1000,\n",
        "    bestEffort=True\n",
        ")\n",
        "\n",
        "# Extract and print temperature values\n",
        "avg_temp = temp_stats.get('temperature_2m').getInfo()\n",
        "min_temp_value = min_stats.get('temperature_2m').getInfo()\n",
        "max_temp_value = max_stats.get('temperature_2m').getInfo()\n",
        "\n",
        "print(f'Average Annual Temperature (°C): {avg_temp}')\n",
        "print(f'Minimum Annual Temperature (°C): {min_temp_value}')\n",
        "print(f'Maximum Annual Temperature (°C): {max_temp_value}')\n",
        "\n",
        "# Define threshold temperature in Celsius\n",
        "threshold = 32\n",
        "threshold_k = threshold + 273.15  # Convert to Kelvin\n",
        "\n",
        "# Apply threshold to identify hot pixels\n",
        "col_threshold = temp_dataset.map(lambda image: image.gt(threshold_k).set('system:time_start', image.get('system:time_start')))\n",
        "\n",
        "# Convert to FeatureCollection\n",
        "days_above_32_fc = ee.FeatureCollection(col_threshold.map(count_hot_days))\n",
        "\n",
        "# Sum the number of hot hours\n",
        "total_hot_hours = days_above_32_fc.aggregate_sum('day_above_32')\n",
        "\n",
        "# Convert hot hours to days\n",
        "total_days_above_32 = ee.Number(total_hot_hours).divide(24).getInfo()\n",
        "\n",
        "# Print the results\n",
        "print(f'Total number of days with at least one pixel above 32°C: {total_days_above_32}')\n",
        "\n",
        "#------------------------\n",
        "#-----PRECIPITATION------\n",
        "#------------------------\n",
        "\n",
        "# Define the dry and wet seasons\n",
        "dry_season_1stmonth = 11\n",
        "dry_season_lastmonth = 5\n",
        "wet_season_1stmonth = 6\n",
        "wet_season_lastmonth = 10\n",
        "\n",
        "# Convert hourly precipitation to daily precipitation (sum over each day)\n",
        "daily_precip = precip_dataset.map(lambda image: image.multiply(1000).set('date', ee.Date(image.date()).format('YYYY-MM-dd')))\n",
        "\n",
        "# Compute cumulative annual precipitation\n",
        "cumulative_annual_precip = daily_precip.sum().clip(region)\n",
        "cumulative_annual_precip_stats = cumulative_annual_precip.reduceRegion(\n",
        "    reducer=ee.Reducer.sum(),\n",
        "    geometry=region.geometry(),\n",
        "    scale=1000,\n",
        "    bestEffort=True\n",
        ")\n",
        "\n",
        "# Compute daily average precipitation\n",
        "daily_avg_precip_stats = ee.Dictionary(cumulative_annual_precip_stats).map(lambda key, value: ee.Number(value).divide(365))\n",
        "\n",
        "# Compute cumulative precipitation for wet season\n",
        "wet_season_precip = precip_dataset.filter(ee.Filter.calendarRange(wet_season_1stmonth, wet_season_lastmonth, 'month')).sum().multiply(1000).clip(region)\n",
        "wet_season_precip_stats = wet_season_precip.reduceRegion(\n",
        "    reducer=ee.Reducer.sum(),\n",
        "    geometry=region.geometry(),\n",
        "    scale=1000,\n",
        "    bestEffort=True\n",
        ")\n",
        "\n",
        "# Compute cumulative precipitation for dry season\n",
        "dry_season_precip = precip_dataset.filter(ee.Filter.calendarRange(dry_season_1stmonth, dry_season_lastmonth, 'month')).sum().multiply(1000).clip(region)\n",
        "dry_season_precip_stats = dry_season_precip.reduceRegion(\n",
        "    reducer=ee.Reducer.sum(),\n",
        "    geometry=region.geometry(),\n",
        "    scale=1000,\n",
        "    bestEffort=True\n",
        ")\n",
        "\n",
        "# Extract and print precipitation values\n",
        "cumulative_annual_precip_value = cumulative_annual_precip_stats.get('total_precipitation').getInfo()\n",
        "daily_avg_precip_value = daily_avg_precip_stats.get('total_precipitation').getInfo()\n",
        "wet_season_precip_value = wet_season_precip_stats.get('total_precipitation').getInfo()\n",
        "dry_season_precip_value = dry_season_precip_stats.get('total_precipitation').getInfo()\n",
        "\n",
        "print(f'Cumulative Annual Precipitation (mm): {cumulative_annual_precip_value}')\n",
        "print(f'Daily Average Precipitation (mm): {daily_avg_precip_value}')\n",
        "print(f'Wet Season Cumulative Precipitation (mm): {wet_season_precip_value}')\n",
        "print(f'Dry Season Cumulative Precipitation (mm): {dry_season_precip_value}')\n",
        "\n",
        "#---------------------------\n",
        "#---------FLOODS------------\n",
        "#---------------------------\n",
        "\n",
        "# Define years for flood analysis\n",
        "years = ee.List.sequence(2000, 2018)\n",
        "\n",
        "# Convert flood counts to FeatureCollection\n",
        "flood_counts_fc = ee.FeatureCollection(years.map(count_flood_events))\n",
        "\n",
        "total_floods = flood_counts_fc.aggregate_sum('flood_count').getInfo()\n",
        "\n",
        "if total_floods > 0:\n",
        "    print('Floods detected in the project area')\n",
        "else:\n",
        "    print('No floods detected in the project area')\n",
        "\n",
        "print('Number of flood events per year:', flood_counts_fc.getInfo())\n",
        "\n",
        "\n",
        "#---------------------------\n",
        "#---------DROUGHT-----------\n",
        "#---------------------------\n",
        "\n",
        "# Compute average SPEI indices\n",
        "spei_avg = spei_dataset.reduce(ee.Reducer.mean()).clip(region).select([\n",
        "    \"SPEI_03_month_mean\", \"SPEI_06_month_mean\", \"SPEI_09_month_mean\", \"SPEI_12_month_mean\"\n",
        "])\n",
        "\n",
        "# Compute drought risk based on SPEI-9\n",
        "chart_data = spei_dataset.map(lambda image:\n",
        "    ee.Feature(None, {\n",
        "        \"Date\": image.get(\"system:time_start\"),\n",
        "        \"SPEI_09_month\": image.select(\"SPEI_09_month\").reduceRegion(\n",
        "            reducer=ee.Reducer.mean(),\n",
        "            geometry=region.geometry(),\n",
        "            scale=55660,\n",
        "            maxPixels=1e9\n",
        "        ).get(\"SPEI_09_month\")\n",
        "    })\n",
        ")\n",
        "\n",
        "# Convert to FeatureCollection\n",
        "chart_list = chart_data.toList(chart_data.size())\n",
        "\n",
        "# Filter drought events (SPEI-9 < -1.5)\n",
        "drought_events = chart_list.filter(ee.Filter.lt(\"SPEI_09_month\", -1.5))\n",
        "\n",
        "# Compute drought risk percentage\n",
        "total_features = chart_list.size()\n",
        "num_drought_events = drought_events.size()\n",
        "percentage_drought = ee.Number(num_drought_events).divide(total_features).multiply(100)\n",
        "\n",
        "# Classify drought risk\n",
        "risk_level = ee.Algorithms.If(\n",
        "    percentage_drought.lt(5), \"Low risk\",\n",
        "    ee.Algorithms.If(percentage_drought.lt(15), \"Medium risk\", \"High risk\")\n",
        ")\n",
        "\n",
        "# Print drought risk\n",
        "print(\"Percentage of months with severe drought:\", percentage_drought.getInfo())\n",
        "print(\"Drought Risk Level:\", risk_level.getInfo())\n",
        "\n"
      ],
      "metadata": {
        "colab": {
          "base_uri": "https://localhost:8080/",
          "height": 245
        },
        "id": "YQyeZPLlH6_s",
        "outputId": "8df28980-9e6f-4287-fb54-b88fa7db18cf"
      },
      "execution_count": 19,
      "outputs": [
        {
          "output_type": "display_data",
          "data": {
            "text/plain": [
              "<IPython.core.display.HTML object>"
            ],
            "text/html": [
              "\n",
              "            <style>\n",
              "                .geemap-dark {\n",
              "                    --jp-widgets-color: white;\n",
              "                    --jp-widgets-label-color: white;\n",
              "                    --jp-ui-font-color1: white;\n",
              "                    --jp-layout-color2: #454545;\n",
              "                    background-color: #383838;\n",
              "                }\n",
              "\n",
              "                .geemap-dark .jupyter-button {\n",
              "                    --jp-layout-color3: #383838;\n",
              "                }\n",
              "\n",
              "                .geemap-colab {\n",
              "                    background-color: var(--colab-primary-surface-color, white);\n",
              "                }\n",
              "\n",
              "                .geemap-colab .jupyter-button {\n",
              "                    --jp-layout-color3: var(--colab-primary-surface-color, white);\n",
              "                }\n",
              "            </style>\n",
              "            "
            ]
          },
          "metadata": {}
        },
        {
          "output_type": "stream",
          "name": "stdout",
          "text": [
            "Average Annual Temperature (°C): 27.697347194349774\n",
            "Minimum Annual Temperature (°C): 17.78302917480471\n",
            "Maximum Annual Temperature (°C): 40.22042236328127\n",
            "Total number of days with at least one pixel above 32°C: 68.45833333333333\n",
            "Cumulative Annual Precipitation (mm): 2950147.0467276038\n",
            "Daily Average Precipitation (mm): 8082.594648568777\n",
            "Wet Season Cumulative Precipitation (mm): 2400707.7876665276\n",
            "Dry Season Cumulative Precipitation (mm): 549439.2590610355\n",
            "No floods detected in the project area\n",
            "Number of flood events per year: {'type': 'FeatureCollection', 'columns': {'flood_count': 'Float', 'system:index': 'String', 'year': 'Float'}, 'features': [{'type': 'Feature', 'geometry': None, 'id': '0', 'properties': {'flood_count': 0, 'year': 2000}}, {'type': 'Feature', 'geometry': None, 'id': '1', 'properties': {'flood_count': 0, 'year': 2001}}, {'type': 'Feature', 'geometry': None, 'id': '2', 'properties': {'flood_count': 0, 'year': 2002}}, {'type': 'Feature', 'geometry': None, 'id': '3', 'properties': {'flood_count': 0, 'year': 2003}}, {'type': 'Feature', 'geometry': None, 'id': '4', 'properties': {'flood_count': 0, 'year': 2004}}, {'type': 'Feature', 'geometry': None, 'id': '5', 'properties': {'flood_count': 0, 'year': 2005}}, {'type': 'Feature', 'geometry': None, 'id': '6', 'properties': {'flood_count': 0, 'year': 2006}}, {'type': 'Feature', 'geometry': None, 'id': '7', 'properties': {'flood_count': 0, 'year': 2007}}, {'type': 'Feature', 'geometry': None, 'id': '8', 'properties': {'flood_count': 0, 'year': 2008}}, {'type': 'Feature', 'geometry': None, 'id': '9', 'properties': {'flood_count': 0, 'year': 2009}}, {'type': 'Feature', 'geometry': None, 'id': '10', 'properties': {'flood_count': 0, 'year': 2010}}, {'type': 'Feature', 'geometry': None, 'id': '11', 'properties': {'flood_count': 0, 'year': 2011}}, {'type': 'Feature', 'geometry': None, 'id': '12', 'properties': {'flood_count': 0, 'year': 2012}}, {'type': 'Feature', 'geometry': None, 'id': '13', 'properties': {'flood_count': 0, 'year': 2013}}, {'type': 'Feature', 'geometry': None, 'id': '14', 'properties': {'flood_count': 0, 'year': 2014}}, {'type': 'Feature', 'geometry': None, 'id': '15', 'properties': {'flood_count': 0, 'year': 2015}}, {'type': 'Feature', 'geometry': None, 'id': '16', 'properties': {'flood_count': 0, 'year': 2016}}, {'type': 'Feature', 'geometry': None, 'id': '17', 'properties': {'flood_count': 0, 'year': 2017}}, {'type': 'Feature', 'geometry': None, 'id': '18', 'properties': {'flood_count': 0, 'year': 2018}}]}\n",
            "Percentage of months with severe drought: 9.166666666666666\n",
            "Drought Risk Level: Medium risk\n"
          ]
        }
      ]
    },
    {
      "cell_type": "code",
      "source": [
        "# Load the ERA5-Land dataset (temperature in Kelvin)\n",
        "temp_dataset = (ee.ImageCollection('ECMWF/ERA5_LAND/HOURLY')\n",
        "                .filterDate(start_date, end_date)\n",
        "                .select('temperature_2m'))\n",
        "\n",
        "# Calculate the mean, min, and max annual temperature\n",
        "mean_temp = temp_dataset.mean().clip(region)\n",
        "min_temp = temp_dataset.min().clip(region)\n",
        "max_temp = temp_dataset.max().clip(region)\n",
        "\n",
        "# Convert temperature from Kelvin to Celsius\n",
        "mean_temp_celsius = mean_temp.subtract(273.15)\n",
        "min_temp_celsius = min_temp.subtract(273.15)\n",
        "max_temp_celsius = max_temp.subtract(273.15)\n",
        "\n",
        "# Calculate the average, min, and max temperature over the region\n",
        "temp_stats = mean_temp_celsius.reduceRegion(\n",
        "    reducer=ee.Reducer.mean(),\n",
        "    geometry=region.geometry(),\n",
        "    scale=1000,\n",
        "    bestEffort=True\n",
        ")\n",
        "\n",
        "min_stats = min_temp_celsius.reduceRegion(\n",
        "    reducer=ee.Reducer.min(),\n",
        "    geometry=region.geometry(),\n",
        "    scale=1000,\n",
        "    bestEffort=True\n",
        ")\n",
        "\n",
        "max_stats = max_temp_celsius.reduceRegion(\n",
        "    reducer=ee.Reducer.max(),\n",
        "    geometry=region.geometry(),\n",
        "    scale=1000,\n",
        "    bestEffort=True\n",
        ")\n",
        "\n",
        "# Extract and print temperature values\n",
        "avg_temp = temp_stats.get('temperature_2m').getInfo()\n",
        "min_temp_value = min_stats.get('temperature_2m').getInfo()\n",
        "max_temp_value = max_stats.get('temperature_2m').getInfo()\n",
        "\n",
        "print(f'Average Annual Temperature (°C): {avg_temp}')\n",
        "print(f'Minimum Annual Temperature (°C): {min_temp_value}')\n",
        "print(f'Maximum Annual Temperature (°C): {max_temp_value}')\n",
        "\n",
        "# Define threshold temperature in Celsius\n",
        "threshold = 32\n",
        "threshold_k = threshold + 273.15  # Convert to Kelvin\n",
        "\n",
        "# Apply threshold to identify hot pixels\n",
        "col_threshold = temp_dataset.map(lambda image: image.gt(threshold_k).set('system:time_start', image.get('system:time_start')))\n",
        "\n",
        "# Count the number of days with at least one pixel exceeding the threshold\n",
        "def count_hot_days(image):\n",
        "    mask = image.reduceRegion(\n",
        "        reducer=ee.Reducer.anyNonZero(),\n",
        "        geometry=region,\n",
        "        scale=1000,\n",
        "        maxPixels=1e8\n",
        "    )\n",
        "    is_above = ee.Algorithms.If(mask.get('temperature_2m'), 1, 0)\n",
        "    return ee.Feature(None, {'date': image.get('system:time_start'), 'day_above_32': is_above})\n",
        "\n",
        "# Convert to FeatureCollection\n",
        "days_above_32_fc = ee.FeatureCollection(col_threshold.map(count_hot_days))\n",
        "\n",
        "# Sum the number of hot hours\n",
        "total_hot_hours = days_above_32_fc.aggregate_sum('day_above_32')\n",
        "\n",
        "# Convert hot hours to days\n",
        "total_days_above_32 = ee.Number(total_hot_hours).divide(24).getInfo()\n",
        "\n",
        "# Print the results\n",
        "print(f'Total number of days with at least one pixel above 32°C: {total_days_above_32}')"
      ],
      "metadata": {
        "colab": {
          "base_uri": "https://localhost:8080/",
          "height": 86
        },
        "id": "IzkJ0hUCs2yE",
        "outputId": "cd1c290e-3081-43f6-b610-37b2b7ae66dd"
      },
      "execution_count": 11,
      "outputs": [
        {
          "output_type": "display_data",
          "data": {
            "text/plain": [
              "<IPython.core.display.HTML object>"
            ],
            "text/html": [
              "\n",
              "            <style>\n",
              "                .geemap-dark {\n",
              "                    --jp-widgets-color: white;\n",
              "                    --jp-widgets-label-color: white;\n",
              "                    --jp-ui-font-color1: white;\n",
              "                    --jp-layout-color2: #454545;\n",
              "                    background-color: #383838;\n",
              "                }\n",
              "\n",
              "                .geemap-dark .jupyter-button {\n",
              "                    --jp-layout-color3: #383838;\n",
              "                }\n",
              "\n",
              "                .geemap-colab {\n",
              "                    background-color: var(--colab-primary-surface-color, white);\n",
              "                }\n",
              "\n",
              "                .geemap-colab .jupyter-button {\n",
              "                    --jp-layout-color3: var(--colab-primary-surface-color, white);\n",
              "                }\n",
              "            </style>\n",
              "            "
            ]
          },
          "metadata": {}
        },
        {
          "output_type": "stream",
          "name": "stdout",
          "text": [
            "Average Annual Temperature (°C): 27.697347194349774\n",
            "Minimum Annual Temperature (°C): 17.78302917480471\n",
            "Maximum Annual Temperature (°C): 40.22042236328127\n",
            "Total number of days with at least one pixel above 32°C: 68.45833333333333\n"
          ]
        }
      ]
    },
    {
      "cell_type": "code",
      "source": [
        "# Define the dry and wet seasons\n",
        "dry_season_1stmonth = 11\n",
        "dry_season_lastmonth = 5\n",
        "wet_season_1stmonth = 6\n",
        "wet_season_lastmonth = 10\n",
        "\n",
        "# Load the ERA5-Land dataset (precipitation in meters)\n",
        "precip_dataset = (ee.ImageCollection('ECMWF/ERA5_LAND/HOURLY')\n",
        "                .filterDate(start_date, end_date)\n",
        "                .select('total_precipitation'))\n",
        "\n",
        "# Convert hourly precipitation to daily precipitation (sum over each day)\n",
        "daily_precip = precip_dataset.map(lambda image: image.multiply(1000).set('date', ee.Date(image.date()).format('YYYY-MM-dd')))\n",
        "\n",
        "# Compute cumulative annual precipitation\n",
        "cumulative_annual_precip = daily_precip.sum().clip(region)\n",
        "cumulative_annual_precip_stats = cumulative_annual_precip.reduceRegion(\n",
        "    reducer=ee.Reducer.sum(),\n",
        "    geometry=region.geometry(),\n",
        "    scale=1000,\n",
        "    bestEffort=True\n",
        ")\n",
        "\n",
        "# Compute daily average precipitation\n",
        "daily_avg_precip_stats = ee.Dictionary(cumulative_annual_precip_stats).map(lambda key, value: ee.Number(value).divide(365))\n",
        "\n",
        "# Compute cumulative precipitation for wet season\n",
        "wet_season_precip = precip_dataset.filter(ee.Filter.calendarRange(wet_season_1stmonth, wet_season_lastmonth, 'month')).sum().multiply(1000).clip(region)\n",
        "wet_season_precip_stats = wet_season_precip.reduceRegion(\n",
        "    reducer=ee.Reducer.sum(),\n",
        "    geometry=region.geometry(),\n",
        "    scale=1000,\n",
        "    bestEffort=True\n",
        ")\n",
        "\n",
        "# Compute cumulative precipitation for dry season\n",
        "dry_season_precip = precip_dataset.filter(ee.Filter.calendarRange(dry_season_1stmonth, dry_season_lastmonth, 'month')).sum().multiply(1000).clip(region)\n",
        "dry_season_precip_stats = dry_season_precip.reduceRegion(\n",
        "    reducer=ee.Reducer.sum(),\n",
        "    geometry=region.geometry(),\n",
        "    scale=1000,\n",
        "    bestEffort=True\n",
        ")\n",
        "\n",
        "# Extract and print precipitation values\n",
        "cumulative_annual_precip_value = cumulative_annual_precip_stats.get('total_precipitation').getInfo()\n",
        "daily_avg_precip_value = daily_avg_precip_stats.get('total_precipitation').getInfo()\n",
        "wet_season_precip_value = wet_season_precip_stats.get('total_precipitation').getInfo()\n",
        "dry_season_precip_value = dry_season_precip_stats.get('total_precipitation').getInfo()\n",
        "\n",
        "print(f'Cumulative Annual Precipitation (mm): {cumulative_annual_precip_value}')\n",
        "print(f'Daily Average Precipitation (mm): {daily_avg_precip_value}')\n",
        "print(f'Wet Season Cumulative Precipitation (mm): {wet_season_precip_value}')\n",
        "print(f'Dry Season Cumulative Precipitation (mm): {dry_season_precip_value}')"
      ],
      "metadata": {
        "colab": {
          "base_uri": "https://localhost:8080/",
          "height": 86
        },
        "id": "0DsQ-te1y-_0",
        "outputId": "5c0d4823-c630-49e7-d5a0-4e98e7d0a115"
      },
      "execution_count": 12,
      "outputs": [
        {
          "output_type": "display_data",
          "data": {
            "text/plain": [
              "<IPython.core.display.HTML object>"
            ],
            "text/html": [
              "\n",
              "            <style>\n",
              "                .geemap-dark {\n",
              "                    --jp-widgets-color: white;\n",
              "                    --jp-widgets-label-color: white;\n",
              "                    --jp-ui-font-color1: white;\n",
              "                    --jp-layout-color2: #454545;\n",
              "                    background-color: #383838;\n",
              "                }\n",
              "\n",
              "                .geemap-dark .jupyter-button {\n",
              "                    --jp-layout-color3: #383838;\n",
              "                }\n",
              "\n",
              "                .geemap-colab {\n",
              "                    background-color: var(--colab-primary-surface-color, white);\n",
              "                }\n",
              "\n",
              "                .geemap-colab .jupyter-button {\n",
              "                    --jp-layout-color3: var(--colab-primary-surface-color, white);\n",
              "                }\n",
              "            </style>\n",
              "            "
            ]
          },
          "metadata": {}
        },
        {
          "output_type": "stream",
          "name": "stdout",
          "text": [
            "Cumulative Annual Precipitation (mm): 2950147.0467276038\n",
            "Daily Average Precipitation (mm): 8082.594648568777\n",
            "Wet Season Cumulative Precipitation (mm): 2400707.7876665276\n",
            "Dry Season Cumulative Precipitation (mm): 549439.2590610355\n"
          ]
        }
      ]
    },
    {
      "cell_type": "code",
      "source": [
        "# Load flood event data from the MODIS Global Flood Database (GFD)\n",
        "gfd = ee.ImageCollection('GLOBAL_FLOOD_DB/MODIS_EVENTS/V1')\n",
        "\n",
        "# Load JRC permanent water mask\n",
        "jrc = (ee.ImageCollection('JRC/GSW1_4/YearlyHistory')\n",
        "       .select('waterClass')\n",
        "       .map(lambda img: img.eq(3))  # Permanent water class\n",
        "       .max())\n",
        "\n",
        "# Define years for flood analysis\n",
        "years = ee.List.sequence(2000, 2018)\n",
        "\n",
        "def count_flood_events(year):\n",
        "    start_date = ee.Date.fromYMD(year, 1, 1)\n",
        "    end_date = ee.Date.fromYMD(year, 12, 31)\n",
        "\n",
        "    yearly_floods = (gfd.filterDate(start_date, end_date)\n",
        "                      .select('flooded')\n",
        "                      .map(lambda img: img.gt(0).And(jrc.Not()))\n",
        "                      .sum()\n",
        "                      .gt(0))\n",
        "\n",
        "    clipped_flood = yearly_floods.clip(region)\n",
        "\n",
        "    flood_check = clipped_flood.reduceRegion(\n",
        "        reducer=ee.Reducer.sum(),\n",
        "        geometry=region.geometry(),\n",
        "        scale=500,\n",
        "        maxPixels=1e8\n",
        "    )\n",
        "\n",
        "    return ee.Feature(None, {'year': year, 'flood_count': flood_check.get('flooded')})\n",
        "\n",
        "# Convert flood counts to FeatureCollection\n",
        "flood_counts_fc = ee.FeatureCollection(years.map(count_flood_events))\n",
        "\n",
        "total_floods = flood_counts_fc.aggregate_sum('flood_count').getInfo()\n",
        "\n",
        "if total_floods > 0:\n",
        "    print('Floods detected in the project area')\n",
        "else:\n",
        "    print('No floods detected in the project area')\n",
        "\n",
        "print('Number of flood events per year:', flood_counts_fc.getInfo())\n"
      ],
      "metadata": {
        "colab": {
          "base_uri": "https://localhost:8080/",
          "height": 72
        },
        "id": "vmHoY7C5FHFL",
        "outputId": "22c2596d-9b6f-4ec2-e490-3636e4803fcb"
      },
      "execution_count": 13,
      "outputs": [
        {
          "output_type": "display_data",
          "data": {
            "text/plain": [
              "<IPython.core.display.HTML object>"
            ],
            "text/html": [
              "\n",
              "            <style>\n",
              "                .geemap-dark {\n",
              "                    --jp-widgets-color: white;\n",
              "                    --jp-widgets-label-color: white;\n",
              "                    --jp-ui-font-color1: white;\n",
              "                    --jp-layout-color2: #454545;\n",
              "                    background-color: #383838;\n",
              "                }\n",
              "\n",
              "                .geemap-dark .jupyter-button {\n",
              "                    --jp-layout-color3: #383838;\n",
              "                }\n",
              "\n",
              "                .geemap-colab {\n",
              "                    background-color: var(--colab-primary-surface-color, white);\n",
              "                }\n",
              "\n",
              "                .geemap-colab .jupyter-button {\n",
              "                    --jp-layout-color3: var(--colab-primary-surface-color, white);\n",
              "                }\n",
              "            </style>\n",
              "            "
            ]
          },
          "metadata": {}
        },
        {
          "output_type": "stream",
          "name": "stdout",
          "text": [
            "No floods detected in the project area\n",
            "Number of flood events per year: {'type': 'FeatureCollection', 'columns': {'flood_count': 'Float', 'system:index': 'String', 'year': 'Float'}, 'features': [{'type': 'Feature', 'geometry': None, 'id': '0', 'properties': {'flood_count': 0, 'year': 2000}}, {'type': 'Feature', 'geometry': None, 'id': '1', 'properties': {'flood_count': 0, 'year': 2001}}, {'type': 'Feature', 'geometry': None, 'id': '2', 'properties': {'flood_count': 0, 'year': 2002}}, {'type': 'Feature', 'geometry': None, 'id': '3', 'properties': {'flood_count': 0, 'year': 2003}}, {'type': 'Feature', 'geometry': None, 'id': '4', 'properties': {'flood_count': 0, 'year': 2004}}, {'type': 'Feature', 'geometry': None, 'id': '5', 'properties': {'flood_count': 0, 'year': 2005}}, {'type': 'Feature', 'geometry': None, 'id': '6', 'properties': {'flood_count': 0, 'year': 2006}}, {'type': 'Feature', 'geometry': None, 'id': '7', 'properties': {'flood_count': 0, 'year': 2007}}, {'type': 'Feature', 'geometry': None, 'id': '8', 'properties': {'flood_count': 0, 'year': 2008}}, {'type': 'Feature', 'geometry': None, 'id': '9', 'properties': {'flood_count': 0, 'year': 2009}}, {'type': 'Feature', 'geometry': None, 'id': '10', 'properties': {'flood_count': 0, 'year': 2010}}, {'type': 'Feature', 'geometry': None, 'id': '11', 'properties': {'flood_count': 0, 'year': 2011}}, {'type': 'Feature', 'geometry': None, 'id': '12', 'properties': {'flood_count': 0, 'year': 2012}}, {'type': 'Feature', 'geometry': None, 'id': '13', 'properties': {'flood_count': 0, 'year': 2013}}, {'type': 'Feature', 'geometry': None, 'id': '14', 'properties': {'flood_count': 0, 'year': 2014}}, {'type': 'Feature', 'geometry': None, 'id': '15', 'properties': {'flood_count': 0, 'year': 2015}}, {'type': 'Feature', 'geometry': None, 'id': '16', 'properties': {'flood_count': 0, 'year': 2016}}, {'type': 'Feature', 'geometry': None, 'id': '17', 'properties': {'flood_count': 0, 'year': 2017}}, {'type': 'Feature', 'geometry': None, 'id': '18', 'properties': {'flood_count': 0, 'year': 2018}}]}\n"
          ]
        }
      ]
    },
    {
      "cell_type": "code",
      "source": [
        "# Load SPEI dataset\n",
        "spei_dataset = ee.ImageCollection(\"CSIC/SPEI/2_10\") \\\n",
        "    .filterBounds(region) \\\n",
        "    .filterDate(\"1992-01-01\", \"2022-01-01\")\n",
        "\n",
        "# Compute average SPEI indices\n",
        "spei_avg = spei_dataset.reduce(ee.Reducer.mean()).clip(region).select([\n",
        "    \"SPEI_03_month_mean\", \"SPEI_06_month_mean\", \"SPEI_09_month_mean\", \"SPEI_12_month_mean\"\n",
        "])\n",
        "\n",
        "# Compute drought risk based on SPEI-9\n",
        "chart_data = spei_dataset.map(lambda image:\n",
        "    ee.Feature(None, {\n",
        "        \"Date\": image.get(\"system:time_start\"),\n",
        "        \"SPEI_09_month\": image.select(\"SPEI_09_month\").reduceRegion(\n",
        "            reducer=ee.Reducer.mean(),\n",
        "            geometry=region.geometry(),\n",
        "            scale=55660,\n",
        "            maxPixels=1e9\n",
        "        ).get(\"SPEI_09_month\")\n",
        "    })\n",
        ")\n",
        "\n",
        "# Convert to FeatureCollection\n",
        "chart_list = chart_data.toList(chart_data.size())\n",
        "\n",
        "# Filter drought events (SPEI-9 < -1.5)\n",
        "drought_events = chart_list.filter(ee.Filter.lt(\"SPEI_09_month\", -1.5))\n",
        "\n",
        "# Compute drought risk percentage\n",
        "total_features = chart_list.size()\n",
        "num_drought_events = drought_events.size()\n",
        "percentage_drought = ee.Number(num_drought_events).divide(total_features).multiply(100)\n",
        "\n",
        "# Classify drought risk\n",
        "risk_level = ee.Algorithms.If(\n",
        "    percentage_drought.lt(5), \"Low risk\",\n",
        "    ee.Algorithms.If(percentage_drought.lt(15), \"Medium risk\", \"High risk\")\n",
        ")\n",
        "\n",
        "# Print drought risk\n",
        "print(\"Percentage of months with severe drought:\", percentage_drought.getInfo())\n",
        "print(\"Drought Risk Level:\", risk_level.getInfo())\n"
      ],
      "metadata": {
        "colab": {
          "base_uri": "https://localhost:8080/",
          "height": 52
        },
        "id": "0981v2bXFyHl",
        "outputId": "f7aed600-0563-4ae4-884d-23eda3c3b86f"
      },
      "execution_count": 15,
      "outputs": [
        {
          "output_type": "display_data",
          "data": {
            "text/plain": [
              "<IPython.core.display.HTML object>"
            ],
            "text/html": [
              "\n",
              "            <style>\n",
              "                .geemap-dark {\n",
              "                    --jp-widgets-color: white;\n",
              "                    --jp-widgets-label-color: white;\n",
              "                    --jp-ui-font-color1: white;\n",
              "                    --jp-layout-color2: #454545;\n",
              "                    background-color: #383838;\n",
              "                }\n",
              "\n",
              "                .geemap-dark .jupyter-button {\n",
              "                    --jp-layout-color3: #383838;\n",
              "                }\n",
              "\n",
              "                .geemap-colab {\n",
              "                    background-color: var(--colab-primary-surface-color, white);\n",
              "                }\n",
              "\n",
              "                .geemap-colab .jupyter-button {\n",
              "                    --jp-layout-color3: var(--colab-primary-surface-color, white);\n",
              "                }\n",
              "            </style>\n",
              "            "
            ]
          },
          "metadata": {}
        },
        {
          "output_type": "stream",
          "name": "stdout",
          "text": [
            "Percentage of months with severe drought: 9.166666666666666\n",
            "Drought Risk Level: Medium risk\n"
          ]
        }
      ]
    }
  ]
}