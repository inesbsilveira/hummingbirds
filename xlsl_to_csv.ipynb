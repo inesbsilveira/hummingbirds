{
  "nbformat": 4,
  "nbformat_minor": 0,
  "metadata": {
    "colab": {
      "provenance": [],
      "authorship_tag": "ABX9TyM1Kwmapk8TVa0GG38Kq3yb",
      "include_colab_link": true
    },
    "kernelspec": {
      "name": "python3",
      "display_name": "Python 3"
    },
    "language_info": {
      "name": "python"
    }
  },
  "cells": [
    {
      "cell_type": "markdown",
      "metadata": {
        "id": "view-in-github",
        "colab_type": "text"
      },
      "source": [
        "<a href=\"https://colab.research.google.com/github/inesbsilveira/hummingbirds/blob/main/xlsl_to_csv.ipynb\" target=\"_parent\"><img src=\"https://colab.research.google.com/assets/colab-badge.svg\" alt=\"Open In Colab\"/></a>"
      ]
    },
    {
      "cell_type": "code",
      "source": [
        "import pandas as pd"
      ],
      "metadata": {
        "id": "ZJbBdv-RREfs"
      },
      "execution_count": 1,
      "outputs": []
    },
    {
      "cell_type": "code",
      "execution_count": 2,
      "metadata": {
        "colab": {
          "base_uri": "https://localhost:8080/"
        },
        "id": "nDr_h9ZTQyJL",
        "outputId": "cb6ed6a3-98d9-4058-bcf5-596831a519b6"
      },
      "outputs": [
        {
          "output_type": "stream",
          "name": "stdout",
          "text": [
            "Mounted at /content/drive\n"
          ]
        }
      ],
      "source": [
        "from google.colab import drive\n",
        "drive.mount('/content/drive')"
      ]
    },
    {
      "cell_type": "code",
      "source": [
        "file = '/content/b_01.01.xlsx'\n",
        "\n",
        "# Load the Excel file using openpyxl engine\n",
        "df = pd.read_excel(file, engine='openpyxl')\n",
        "\n",
        "# Define the output CSV path\n",
        "output_csv = file.replace('.xlsx', '.csv')\n",
        "\n",
        "# Save to CSV\n",
        "df.to_csv(output_csv, index=False)\n",
        "\n",
        "print(f\"CSV file saved to: {output_csv}\")"
      ],
      "metadata": {
        "colab": {
          "base_uri": "https://localhost:8080/"
        },
        "id": "2dnbG9A0RPp_",
        "outputId": "ee55a2df-eb74-474a-f899-137045d67734"
      },
      "execution_count": 3,
      "outputs": [
        {
          "output_type": "stream",
          "name": "stdout",
          "text": [
            "CSV file saved to: /content/b_01.01.csv\n"
          ]
        }
      ]
    }
  ]
}