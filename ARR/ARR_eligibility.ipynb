{
  "nbformat": 4,
  "nbformat_minor": 0,
  "metadata": {
    "colab": {
      "provenance": [],
      "authorship_tag": "ABX9TyNjDG/2Px7+l7xA+FqFmCpp",
      "include_colab_link": true
    },
    "kernelspec": {
      "name": "python3",
      "display_name": "Python 3"
    },
    "language_info": {
      "name": "python"
    }
  },
  "cells": [
    {
      "cell_type": "markdown",
      "metadata": {
        "id": "view-in-github",
        "colab_type": "text"
      },
      "source": [
        "<a href=\"https://colab.research.google.com/github/inesbsilveira/hummingbirds/blob/main/ARR/ARR_eligibility.ipynb\" target=\"_parent\"><img src=\"https://colab.research.google.com/assets/colab-badge.svg\" alt=\"Open In Colab\"/></a>"
      ]
    },
    {
      "cell_type": "markdown",
      "source": [
        "### 1.Imports"
      ],
      "metadata": {
        "id": "F0XrdDNPH_5e"
      }
    },
    {
      "cell_type": "code",
      "execution_count": null,
      "metadata": {
        "id": "siet8RrIERB3"
      },
      "outputs": [],
      "source": [
        "!pip install geemap\n",
        "!pip install geojson"
      ]
    },
    {
      "cell_type": "code",
      "source": [
        "import os\n",
        "import csv\n",
        "import pandas as pd\n",
        "import geopandas as gpd\n",
        "from shapely.geometry import Polygon, MultiPolygon\n",
        "from shapely.validation import make_valid\n",
        "import geojson\n",
        "import zipfile\n",
        "import ee\n",
        "import geemap"
      ],
      "metadata": {
        "id": "prT91HmCEV-y"
      },
      "execution_count": null,
      "outputs": []
    },
    {
      "cell_type": "markdown",
      "source": [
        "### 2.Connect to GEE"
      ],
      "metadata": {
        "id": "hW_71UXTIOc0"
      }
    },
    {
      "cell_type": "code",
      "source": [
        "my_project = 'ee-ineshummingbirds'\n",
        "ee.Authenticate()\n",
        "ee.Initialize(project= my_project)"
      ],
      "metadata": {
        "id": "sVZYnzHBEz8N",
        "outputId": "4c68e84d-2037-47e2-c81f-0c0200eef643",
        "colab": {
          "base_uri": "https://localhost:8080/",
          "height": 17
        }
      },
      "execution_count": null,
      "outputs": [
        {
          "output_type": "display_data",
          "data": {
            "text/plain": [
              "<IPython.core.display.HTML object>"
            ],
            "text/html": [
              "\n",
              "            <style>\n",
              "                .geemap-dark {\n",
              "                    --jp-widgets-color: white;\n",
              "                    --jp-widgets-label-color: white;\n",
              "                    --jp-ui-font-color1: white;\n",
              "                    --jp-layout-color2: #454545;\n",
              "                    background-color: #383838;\n",
              "                }\n",
              "\n",
              "                .geemap-dark .jupyter-button {\n",
              "                    --jp-layout-color3: #383838;\n",
              "                }\n",
              "\n",
              "                .geemap-colab {\n",
              "                    background-color: var(--colab-primary-surface-color, white);\n",
              "                }\n",
              "\n",
              "                .geemap-colab .jupyter-button {\n",
              "                    --jp-layout-color3: var(--colab-primary-surface-color, white);\n",
              "                }\n",
              "            </style>\n",
              "            "
            ]
          },
          "metadata": {}
        }
      ]
    },
    {
      "cell_type": "markdown",
      "source": [
        "### 3.Input file\n",
        "\n"
      ],
      "metadata": {
        "id": "jXy2vZnaIoek"
      }
    },
    {
      "cell_type": "code",
      "source": [
        "# if the input is a shapefile\n",
        "input_shp = \"colombia.shp\"\n",
        "gdf = gpd.read_file(input_shp).to_crs('EPSG:4326')\n",
        "# if the input is a geojson\n",
        "#input_geojson = \"NSVK_cleaned_17_35.geojson\"\n",
        "#gdf = gpd.read_file(input_geojson).to_crs('EPSG:4326')\n",
        "File = geemap.geopandas_to_ee(gdf)"
      ],
      "metadata": {
        "colab": {
          "base_uri": "https://localhost:8080/",
          "height": 17
        },
        "id": "-zoWGTkqFDIU",
        "outputId": "902b8887-ab3a-43bd-e6d2-f7aff93cba29"
      },
      "execution_count": null,
      "outputs": [
        {
          "output_type": "display_data",
          "data": {
            "text/plain": [
              "<IPython.core.display.HTML object>"
            ],
            "text/html": [
              "\n",
              "            <style>\n",
              "                .geemap-dark {\n",
              "                    --jp-widgets-color: white;\n",
              "                    --jp-widgets-label-color: white;\n",
              "                    --jp-ui-font-color1: white;\n",
              "                    --jp-layout-color2: #454545;\n",
              "                    background-color: #383838;\n",
              "                }\n",
              "\n",
              "                .geemap-dark .jupyter-button {\n",
              "                    --jp-layout-color3: #383838;\n",
              "                }\n",
              "\n",
              "                .geemap-colab {\n",
              "                    background-color: var(--colab-primary-surface-color, white);\n",
              "                }\n",
              "\n",
              "                .geemap-colab .jupyter-button {\n",
              "                    --jp-layout-color3: var(--colab-primary-surface-color, white);\n",
              "                }\n",
              "            </style>\n",
              "            "
            ]
          },
          "metadata": {}
        }
      ]
    },
    {
      "cell_type": "markdown",
      "source": [
        "### 4.Variables"
      ],
      "metadata": {
        "id": "QTXV1k5SISf_"
      }
    },
    {
      "cell_type": "code",
      "source": [
        "# Project\n",
        "country = 'Colombia'\n",
        "project_area_name = 'Colombia' #region/country/project name\n",
        "\n",
        "#dates for landsat for 2014 and 2024\n",
        "year_0 = 2014    # start year\n",
        "year_10 = 2024  # end year\n",
        "start_date = '-01-01'  # -mm-dd format // beginning of dry season\n",
        "end_date = '-03-30'   # -mm-dd format // end of dry seaosn\n",
        "\n",
        "#dates for landsat for 2020\n",
        "year_0_2020 = 2019\n",
        "year_1_2020 = 2020\n",
        "start_date_2020 = '-12-01' # -mm-dd format\n",
        "end_date_2020 = '-02-01' # -mm-dd format\n",
        "\n",
        "#slope\n",
        "slope_percentage = 30 # in percentage\n",
        "\n",
        "#minimum forest size for eligibility (1ha=11pixels)\n",
        "min_forest_pixels_list = [11, 55, 110] #1ha, 5ha, and 10ha"
      ],
      "metadata": {
        "colab": {
          "base_uri": "https://localhost:8080/",
          "height": 17
        },
        "id": "jpDrrjYeIUq4",
        "outputId": "de294dd1-3a27-40d2-e75e-6736782a391d"
      },
      "execution_count": null,
      "outputs": [
        {
          "output_type": "display_data",
          "data": {
            "text/plain": [
              "<IPython.core.display.HTML object>"
            ],
            "text/html": [
              "\n",
              "            <style>\n",
              "                .geemap-dark {\n",
              "                    --jp-widgets-color: white;\n",
              "                    --jp-widgets-label-color: white;\n",
              "                    --jp-ui-font-color1: white;\n",
              "                    --jp-layout-color2: #454545;\n",
              "                    background-color: #383838;\n",
              "                }\n",
              "\n",
              "                .geemap-dark .jupyter-button {\n",
              "                    --jp-layout-color3: #383838;\n",
              "                }\n",
              "\n",
              "                .geemap-colab {\n",
              "                    background-color: var(--colab-primary-surface-color, white);\n",
              "                }\n",
              "\n",
              "                .geemap-colab .jupyter-button {\n",
              "                    --jp-layout-color3: var(--colab-primary-surface-color, white);\n",
              "                }\n",
              "            </style>\n",
              "            "
            ]
          },
          "metadata": {}
        }
      ]
    },
    {
      "cell_type": "code",
      "source": [
        "#forest variables // The project's country has to be in the excel file 'Countries_Forest_Definition.xlsx'. Add this data if it is not already in the doc\n",
        "df_forest_definition = pd.read_excel('Countries_Forest_Definition.xlsx') #read the excel file\n",
        "country_data = df_forest_definition[df_forest_definition['Country'] == country] #filter the country\n",
        "cover_threshold = country_data['Tree_crown_cover_%'].values[0] #get cover percentage from doc\n",
        "cover_threshold = int(cover_threshold)\n",
        "height_threshold = country_data['Tree_height_m'].values[0] #get tree height from doc\n",
        "height_threshold = int(height_threshold)\n",
        "forest_size_ha = country_data['Area_ha'].values[0] #get minimum forest size from doc\n",
        "\n",
        "#forest size (1ha=11pixels)\n",
        "forest_size_pixels = forest_size_ha * 11"
      ],
      "metadata": {
        "id": "NFrcNUQrdnnL",
        "outputId": "86e8873c-f90b-487e-bf18-ab10955c197e",
        "colab": {
          "base_uri": "https://localhost:8080/",
          "height": 17
        }
      },
      "execution_count": null,
      "outputs": [
        {
          "output_type": "display_data",
          "data": {
            "text/plain": [
              "<IPython.core.display.HTML object>"
            ],
            "text/html": [
              "\n",
              "            <style>\n",
              "                .geemap-dark {\n",
              "                    --jp-widgets-color: white;\n",
              "                    --jp-widgets-label-color: white;\n",
              "                    --jp-ui-font-color1: white;\n",
              "                    --jp-layout-color2: #454545;\n",
              "                    background-color: #383838;\n",
              "                }\n",
              "\n",
              "                .geemap-dark .jupyter-button {\n",
              "                    --jp-layout-color3: #383838;\n",
              "                }\n",
              "\n",
              "                .geemap-colab {\n",
              "                    background-color: var(--colab-primary-surface-color, white);\n",
              "                }\n",
              "\n",
              "                .geemap-colab .jupyter-button {\n",
              "                    --jp-layout-color3: var(--colab-primary-surface-color, white);\n",
              "                }\n",
              "            </style>\n",
              "            "
            ]
          },
          "metadata": {}
        }
      ]
    },
    {
      "cell_type": "markdown",
      "source": [
        "### 5.Functions and Legends"
      ],
      "metadata": {
        "id": "2bJx71PAlVur"
      }
    },
    {
      "cell_type": "markdown",
      "source": [
        "##### Functions"
      ],
      "metadata": {
        "id": "1eKI0e5_qm3P"
      }
    },
    {
      "cell_type": "code",
      "execution_count": null,
      "metadata": {
        "colab": {
          "base_uri": "https://localhost:8080/",
          "height": 17
        },
        "id": "IGF3rpGDhnq1",
        "outputId": "c102c410-f525-4606-f521-2d71744cb311"
      },
      "outputs": [
        {
          "output_type": "display_data",
          "data": {
            "text/plain": [
              "<IPython.core.display.HTML object>"
            ],
            "text/html": [
              "\n",
              "            <style>\n",
              "                .geemap-dark {\n",
              "                    --jp-widgets-color: white;\n",
              "                    --jp-widgets-label-color: white;\n",
              "                    --jp-ui-font-color1: white;\n",
              "                    --jp-layout-color2: #454545;\n",
              "                    background-color: #383838;\n",
              "                }\n",
              "\n",
              "                .geemap-dark .jupyter-button {\n",
              "                    --jp-layout-color3: #383838;\n",
              "                }\n",
              "\n",
              "                .geemap-colab {\n",
              "                    background-color: var(--colab-primary-surface-color, white);\n",
              "                }\n",
              "\n",
              "                .geemap-colab .jupyter-button {\n",
              "                    --jp-layout-color3: var(--colab-primary-surface-color, white);\n",
              "                }\n",
              "            </style>\n",
              "            "
            ]
          },
          "metadata": {}
        }
      ],
      "source": [
        "#Define a function to reclassify the 'tree' class of ESA\n",
        "def reclassify(image):\n",
        "    return image.where(image.eq(10), result)\n",
        "\n",
        "#### Pre-process Landsat\n",
        "def apply_scale_factors (image):\n",
        "    opticalBands = image.select('SR_B.').multiply(0.0000275).add(-0.2)\n",
        "    thermalBands = image.select('ST_B.*').multiply(0.00341802).add(149.0)\n",
        "    return image.addBands(opticalBands, None, True).addBands(thermalBands, None, True)\n",
        "\n",
        "# Mask the clouds (if the image has clouds it will delete the pixel)\n",
        "def maskSrClouds(image):\n",
        "    # Select the QA_PIXEL band and create a mask to exclude cloudy pixels\n",
        "    qa_mask = image.select('QA_PIXEL').bitwiseAnd(int('11111', 2)).eq(0)\n",
        "    # Select the QA_RADSAT band and create a mask to exclude saturated pixels\n",
        "    saturation_mask = image.select('QA_RADSAT').eq(0)\n",
        "    # Apply both masks to the image\n",
        "    masked_image = image.updateMask(qa_mask).updateMask(saturation_mask)\n",
        "    return masked_image\n",
        "\n",
        "## Fill the cloud missing values\n",
        "def fillGap(image):\n",
        "  return image.focalMedian(1.5, 'square', 'pixels', 2).blend(image)\n",
        "\n",
        "## Rename function to consistenty have the same band names among Landsat-7, Landsat-8 and landsat-9\n",
        "def rename(image):\n",
        "  return image.select(\n",
        "      ['SR_B1', 'SR_B2', 'SR_B3', 'SR_B4', 'SR_B5', 'SR_B7'],\n",
        "      ['SR_B2', 'SR_B3', 'SR_B4', 'SR_B5', 'SR_B6', 'SR_B7'])\n",
        "\n",
        "def renamel9(image):\n",
        "  return image.select(\n",
        "      ['SR_B2', 'SR_B3', 'SR_B4', 'SR_B5', 'SR_B6', 'SR_B7'],\n",
        "      ['SR_B2', 'SR_B3', 'SR_B4', 'SR_B5', 'SR_B6', 'SR_B7'])\n",
        "\n",
        "visParams={\n",
        "   'bands': ['SR_B4', 'SR_B3', 'SR_B2'],\n",
        "   'min': 0,\n",
        "   'max': 0.2\n",
        "}\n",
        "\n",
        "# Function to create the Landsat image collection\n",
        "def create_landsat_collection(collection, start_year, end_year, start_date, end_date, region_of_interest, apply_scale_factors, maskSrClouds):\n",
        "    \"\"\"\n",
        "    Creates a Landsat image collection for a specific year, date range, and region of interest.\n",
        "\n",
        "    Args:\n",
        "        year (int): The year for filtering.\n",
        "        start_date (str): The start date for the image collection in \"yyyy-mm-dd\" format.\n",
        "        end_date (str): The end date for the image collection in \"yyyy-mm-dd\" format.\n",
        "        region_of_interest (ee.Geometry): The region to filter the images by.\n",
        "        apply_scale_factors (function): A function to apply scale factors to the images.\n",
        "        mask_sr_clouds (function): A function to mask out cloud-covered pixels.\n",
        "\n",
        "    Returns:\n",
        "        ee.ImageCollection: The filtered Landsat image collection.\n",
        "    \"\"\"\n",
        "    collection = (\n",
        "        ee.ImageCollection(collection)\n",
        "        .filterBounds(region_of_interest)\n",
        "        .filterDate(str(start_year) + start_date, str(end_year) + end_date)\n",
        "        .filter(ee.Filter.lt('CLOUD_COVER', 30))\n",
        "        .map(apply_scale_factors)\n",
        "        .map(maskSrClouds)\n",
        "    )\n",
        "\n",
        "    return collection\n",
        "\n",
        "\n",
        "def create_landsat_collection_with_clouds(collection, start_year, end_year, start_date, end_date, region_of_interest, apply_scale_factors, maskSrClouds, renamel9):\n",
        "  collection_l7 = (\n",
        "    ee.ImageCollection(collection)\n",
        "    .filterBounds(region_of_interest)\n",
        "    .filterDate(str(start_year) + start_date, str(end_year)+ end_date)\n",
        "    .filter(ee.Filter.lt('CLOUD_COVER', 50))\n",
        "    .map(apply_scale_factors)\n",
        "    .map(maskSrClouds)\n",
        "    .map(renamel9))\n",
        "  return collection_l7\n",
        "\n",
        "def create_composite(collection_l7, collection, fillGap, File):\n",
        "    \"\"\"\n",
        "    General function to process Landsat image collections, merge, apply gap filling, and create a composite.\n",
        "\n",
        "    Parameters:\n",
        "    - collection_l7: Landsat image collection with cloud missing values.\n",
        "    - collection: The primary Landsat image collection to use for band selection.\n",
        "    - fillGap: Function to apply gap filling.\n",
        "    - File: Geometry or boundary to clip the output image.\n",
        "\n",
        "    Returns:\n",
        "    - A median composite image clipped to the specified boundary.\n",
        "    \"\"\"\n",
        "    # Merge the collections based on the selected bands\n",
        "    landsat78 = collection_l7.merge(collection.select(\n",
        "        ['SR_B2', 'SR_B3', 'SR_B4', 'SR_B5', 'SR_B6','SR_B7']))\n",
        "\n",
        "    # Apply gap filling and merge the collections again\n",
        "    composite78 = landsat78.map(fillGap).merge(collection.select(\n",
        "        ['SR_B2', 'SR_B3', 'SR_B4', 'SR_B5', 'SR_B6','SR_B7']))\n",
        "\n",
        "    # Compute the median and clip the result\n",
        "    landsat78composite = composite78.median().clip(File)\n",
        "\n",
        "    return landsat78composite\n",
        "\n",
        "\n",
        "def get_shapefile_centroid(gdf):\n",
        "    \"\"\"Ensure CRS is geographic and return the centroid coordinates.\"\"\"\n",
        "    if gdf.crs is None or gdf.crs.is_projected:\n",
        "        gdf = gdf.to_crs(epsg=4326)  # Convert to WGS84 (lat/lon)\n",
        "\n",
        "    centroid = gdf.unary_union.centroid\n",
        "    return centroid.y, centroid.x  # (latitude, longitude)\n",
        "\n",
        "def get_best_crs(latitude, longitude):\n",
        "    \"\"\" Returns the best UTM zone EPSG code based on latitude \"\"\"\n",
        "    utm_zone = int((180 + longitude) / 6) + 1\n",
        "    return f\"EPSG:{32600 + utm_zone if latitude >= 0 else 32700 + utm_zone}\"\n",
        "\n",
        "\n",
        "def calculateTotalPixelArea(image, geometry):\n",
        "    \"\"\"\n",
        "    Calculates the total area in hectares of an image within a given geometry.\n",
        "\n",
        "    Parameters:\n",
        "    - image: ee.Image - The input classified image.\n",
        "    - geometry: ee.Geometry - The region of interest.\n",
        "\n",
        "    Returns:\n",
        "    - Dictionary with area values or None in case of an error.\n",
        "    \"\"\"\n",
        "\n",
        "    # Ensure the image is in a projected CRS (Web Mercator or UTM)\n",
        "    image = image.reproject(best_epsg, None, 30)\n",
        "\n",
        "    # Compute pixel area in hectares\n",
        "    total_area = ee.Image.pixelArea().addBands(image).divide(10_000).reduceRegion(\n",
        "        reducer=ee.Reducer.sum().group(1),  # Sum areas by class\n",
        "        geometry=geometry,\n",
        "        scale=30,\n",
        "        bestEffort=True,\n",
        "        tileScale=16  # Reduce memory usage\n",
        "    )\n",
        "\n",
        "    # Retrieve results\n",
        "    try:\n",
        "        result = total_area.getInfo()\n",
        "        if not result:\n",
        "            print(\"No area data found.\")\n",
        "            return None\n",
        "\n",
        "        # Convert to a DataFrame\n",
        "        df = pd.DataFrame.from_dict(result, orient='columns')\n",
        "        print(df)\n",
        "        return result\n",
        "\n",
        "    except Exception as e:\n",
        "        print(f\"Error encountered: {e}\")\n",
        "        return None\n"
      ]
    },
    {
      "cell_type": "markdown",
      "source": [
        "##### Legends"
      ],
      "metadata": {
        "id": "3Wmws4F3qq9K"
      }
    },
    {
      "cell_type": "code",
      "source": [
        "esa_legend_dict = {\n",
        "    'Forest': '006400',\n",
        "    'Shrubland': 'ffbb22',\n",
        "    'Grassland': 'ffff4c',\n",
        "    'Cropland': 'f096ff',\n",
        "    'Built-up': 'fa0000',\n",
        "    'Bare/sparse vegetation': 'b4b4b4',\n",
        "    'Snow and ice': 'f0f0f0',\n",
        "    'Permanent water bodies': '0064c8',\n",
        "    'Herbaceous wetland': '0096a0',\n",
        "    'Mangroves': '00cf75',\n",
        "    'Moss and lichen': 'fae6a0'\n",
        "}\n",
        "\n",
        "legend_dict = {\n",
        "    'Forest': '006400',\n",
        "    'Non-forest': 'ffff4c',\n",
        "    'Built-up': 'fa0000',\n",
        "    'Permanent water bodies': '0064c8',\n",
        "    'Other land': '0096a0',\n",
        "}"
      ],
      "metadata": {
        "colab": {
          "base_uri": "https://localhost:8080/",
          "height": 17
        },
        "id": "9QEX8DO9nfhg",
        "outputId": "043c2409-fc9d-43e3-ba5b-19a573750c19"
      },
      "execution_count": null,
      "outputs": [
        {
          "output_type": "display_data",
          "data": {
            "text/plain": [
              "<IPython.core.display.HTML object>"
            ],
            "text/html": [
              "\n",
              "            <style>\n",
              "                .geemap-dark {\n",
              "                    --jp-widgets-color: white;\n",
              "                    --jp-widgets-label-color: white;\n",
              "                    --jp-ui-font-color1: white;\n",
              "                    --jp-layout-color2: #454545;\n",
              "                    background-color: #383838;\n",
              "                }\n",
              "\n",
              "                .geemap-dark .jupyter-button {\n",
              "                    --jp-layout-color3: #383838;\n",
              "                }\n",
              "\n",
              "                .geemap-colab {\n",
              "                    background-color: var(--colab-primary-surface-color, white);\n",
              "                }\n",
              "\n",
              "                .geemap-colab .jupyter-button {\n",
              "                    --jp-layout-color3: var(--colab-primary-surface-color, white);\n",
              "                }\n",
              "            </style>\n",
              "            "
            ]
          },
          "metadata": {}
        }
      ]
    },
    {
      "cell_type": "markdown",
      "source": [
        "### 6.Main"
      ],
      "metadata": {
        "id": "Jzmowyo5lZRf"
      }
    },
    {
      "cell_type": "markdown",
      "source": [
        "##### Get ESA WORLD COVER classification"
      ],
      "metadata": {
        "id": "Nge1CxTzn5Jm"
      }
    },
    {
      "cell_type": "code",
      "source": [
        "gfc = ee.Image('UMD/hansen/global_forest_change_2023_v1_11').clip(File);\n",
        "canopyCover = gfc.select(['treecover2000']).clip(File).gte(cover_threshold)\n",
        "\n",
        "# Tree height\n",
        "tree_height = ee.Image('users/nlang/ETH_GlobalCanopyHeight_2020_10m_v1').clip(File.geometry()).gte(height_threshold)\n",
        "\n",
        "# Overlay tree cover and tree height to have a layer presenting the threshold\n",
        "forest_mask = tree_height.multiply(canopyCover)  # Overlay the two layers\n",
        "\n",
        "#Load the ESA WorldCover and clip the area of interest ##IF NOT HAVING FOREST DEFINITION BY THE COUNTRY and small project area <100.000 ha\n",
        "esa = ee.ImageCollection('ESA/WorldCover/v200').first().clip(File.geometry())\n",
        "#Create a binary image from ESA just for tree (10)\n",
        "esa_10 = esa.eq(10)\n",
        "#Overlay ESA forest image and canopy cover\n",
        "result = esa_10.multiply(forest_mask)"
      ],
      "metadata": {
        "colab": {
          "base_uri": "https://localhost:8080/",
          "height": 17
        },
        "id": "3owISgUkKAMp",
        "outputId": "f3ca563c-672a-4bf0-e5a3-c6ffcda2fa5c"
      },
      "execution_count": null,
      "outputs": [
        {
          "output_type": "display_data",
          "data": {
            "text/plain": [
              "<IPython.core.display.HTML object>"
            ],
            "text/html": [
              "\n",
              "            <style>\n",
              "                .geemap-dark {\n",
              "                    --jp-widgets-color: white;\n",
              "                    --jp-widgets-label-color: white;\n",
              "                    --jp-ui-font-color1: white;\n",
              "                    --jp-layout-color2: #454545;\n",
              "                    background-color: #383838;\n",
              "                }\n",
              "\n",
              "                .geemap-dark .jupyter-button {\n",
              "                    --jp-layout-color3: #383838;\n",
              "                }\n",
              "\n",
              "                .geemap-colab {\n",
              "                    background-color: var(--colab-primary-surface-color, white);\n",
              "                }\n",
              "\n",
              "                .geemap-colab .jupyter-button {\n",
              "                    --jp-layout-color3: var(--colab-primary-surface-color, white);\n",
              "                }\n",
              "            </style>\n",
              "            "
            ]
          },
          "metadata": {}
        }
      ]
    },
    {
      "cell_type": "code",
      "source": [
        "reclassify_map = reclassify(esa)\n",
        "# Reclassify the reference land-use map\n",
        "forest = reclassify_map.eq(10).selfMask().multiply(1)\n",
        "non_forest = reclassify_map.eq(0).Or(reclassify_map.eq(20)).Or(reclassify_map.eq(30)).Or(reclassify_map.eq(40)).selfMask().multiply(2)\n",
        "built_up = reclassify_map.eq(50).selfMask().multiply(3)\n",
        "water = reclassify_map.eq(80).selfMask().multiply(4)\n",
        "other_land = reclassify_map.eq(60).Or(reclassify_map.eq(70)).Or(reclassify_map.eq(90)).Or(reclassify_map.eq(95)).Or(reclassify_map.eq(100)).selfMask().multiply(5)\n",
        "\n",
        "new_esa = forest.blend(non_forest).blend(built_up).blend(water).blend(other_land)"
      ],
      "metadata": {
        "colab": {
          "base_uri": "https://localhost:8080/",
          "height": 17
        },
        "id": "OIlwawdzLfNN",
        "outputId": "dc8adda3-a3f8-4a2f-c2fc-eadaa25254fd"
      },
      "execution_count": null,
      "outputs": [
        {
          "output_type": "display_data",
          "data": {
            "text/plain": [
              "<IPython.core.display.HTML object>"
            ],
            "text/html": [
              "\n",
              "            <style>\n",
              "                .geemap-dark {\n",
              "                    --jp-widgets-color: white;\n",
              "                    --jp-widgets-label-color: white;\n",
              "                    --jp-ui-font-color1: white;\n",
              "                    --jp-layout-color2: #454545;\n",
              "                    background-color: #383838;\n",
              "                }\n",
              "\n",
              "                .geemap-dark .jupyter-button {\n",
              "                    --jp-layout-color3: #383838;\n",
              "                }\n",
              "\n",
              "                .geemap-colab {\n",
              "                    background-color: var(--colab-primary-surface-color, white);\n",
              "                }\n",
              "\n",
              "                .geemap-colab .jupyter-button {\n",
              "                    --jp-layout-color3: var(--colab-primary-surface-color, white);\n",
              "                }\n",
              "            </style>\n",
              "            "
            ]
          },
          "metadata": {}
        }
      ]
    },
    {
      "cell_type": "code",
      "source": [
        "###If runing only ESA the code is:\n",
        "Map=geemap.Map()\n",
        "Map.add_basemap('HYBRID')\n",
        "Map.centerObject(File, 10)\n",
        "#Map.addLayer(new_esa, {'min':1, 'max': 5,'palette': ['006400', 'ffff4c', 'fa0000', '0064c8', '0096a0']}, 'ESA')\n",
        "#Map.add_legend(title='Land Cover', legend_dict = legend_dict)\n",
        "Map.addLayer(esa, {'bands':['Map']}, 'ESA')\n",
        "Map"
      ],
      "metadata": {
        "id": "OJ0HzMybMRYa"
      },
      "execution_count": null,
      "outputs": []
    },
    {
      "cell_type": "code",
      "source": [
        "# Save tif to Google Drive\n",
        "geemap.ee_export_image_to_drive(\n",
        "    esa, description=f'{project_area_name}_ESA_map', region=File.geometry(), scale=30\n",
        ")"
      ],
      "metadata": {
        "id": "3exm82P56bKz",
        "outputId": "e0a74039-5e9c-4b5f-8abb-71e999d6db96",
        "colab": {
          "base_uri": "https://localhost:8080/",
          "height": 17
        }
      },
      "execution_count": null,
      "outputs": [
        {
          "output_type": "display_data",
          "data": {
            "text/plain": [
              "<IPython.core.display.HTML object>"
            ],
            "text/html": [
              "\n",
              "            <style>\n",
              "                .geemap-dark {\n",
              "                    --jp-widgets-color: white;\n",
              "                    --jp-widgets-label-color: white;\n",
              "                    --jp-ui-font-color1: white;\n",
              "                    --jp-layout-color2: #454545;\n",
              "                    background-color: #383838;\n",
              "                }\n",
              "\n",
              "                .geemap-dark .jupyter-button {\n",
              "                    --jp-layout-color3: #383838;\n",
              "                }\n",
              "\n",
              "                .geemap-colab {\n",
              "                    background-color: var(--colab-primary-surface-color, white);\n",
              "                }\n",
              "\n",
              "                .geemap-colab .jupyter-button {\n",
              "                    --jp-layout-color3: var(--colab-primary-surface-color, white);\n",
              "                }\n",
              "            </style>\n",
              "            "
            ]
          },
          "metadata": {}
        }
      ]
    },
    {
      "cell_type": "markdown",
      "source": [
        "##### Train the model and get estimated ESA World Cover for 2014 and 2024"
      ],
      "metadata": {
        "id": "CNUE54hXoFST"
      }
    },
    {
      "cell_type": "code",
      "source": [
        "#get sample points for training and validation\n",
        "#Change according to the sampling method\n",
        "points = esa.sample(\n",
        "    **{\n",
        "        \"region\": File.geometry(),\n",
        "        \"scale\": 30,\n",
        "        \"numPixels\": 10000,\n",
        "        \"seed\": 0,\n",
        "        \"geometries\": True,\n",
        "    })"
      ],
      "metadata": {
        "colab": {
          "base_uri": "https://localhost:8080/",
          "height": 17
        },
        "id": "z2AW1lxDNtIT",
        "outputId": "cd16b77a-f1ee-459b-fa8c-7914de75ffee"
      },
      "execution_count": null,
      "outputs": [
        {
          "output_type": "display_data",
          "data": {
            "text/plain": [
              "<IPython.core.display.HTML object>"
            ],
            "text/html": [
              "\n",
              "            <style>\n",
              "                .geemap-dark {\n",
              "                    --jp-widgets-color: white;\n",
              "                    --jp-widgets-label-color: white;\n",
              "                    --jp-ui-font-color1: white;\n",
              "                    --jp-layout-color2: #454545;\n",
              "                    background-color: #383838;\n",
              "                }\n",
              "\n",
              "                .geemap-dark .jupyter-button {\n",
              "                    --jp-layout-color3: #383838;\n",
              "                }\n",
              "\n",
              "                .geemap-colab {\n",
              "                    background-color: var(--colab-primary-surface-color, white);\n",
              "                }\n",
              "\n",
              "                .geemap-colab .jupyter-button {\n",
              "                    --jp-layout-color3: var(--colab-primary-surface-color, white);\n",
              "                }\n",
              "            </style>\n",
              "            "
            ]
          },
          "metadata": {}
        }
      ]
    },
    {
      "cell_type": "code",
      "source": [
        "#Landsat collection for year 0\n",
        "collection_y0 = create_landsat_collection('LANDSAT/LC08/C02/T1_L2',year_0, year_0, start_date, end_date, File, apply_scale_factors, maskSrClouds)\n",
        "collection_l7_y0 = create_landsat_collection_with_clouds('LANDSAT/LE07/C02/T1_L2', year_0, year_0, start_date, end_date, File, apply_scale_factors, maskSrClouds, rename)\n",
        "landsat78composite_y0 = create_composite(collection_l7_y0, collection_y0, fillGap, File)\n",
        "\n",
        "print('Number of Landsat scenes for year 0:', collection_y0.size().getInfo())\n",
        "print('Number of Landsat scenes for year 0:', collection_l7_y0.size().getInfo())"
      ],
      "metadata": {
        "id": "dE0L4zQTPBRK"
      },
      "execution_count": null,
      "outputs": []
    },
    {
      "cell_type": "code",
      "source": [
        "#Landsat collection for year 10\n",
        "collection_y10 = create_landsat_collection('LANDSAT/LC08/C02/T1_L2', year_10, year_10, start_date, end_date, File, apply_scale_factors, maskSrClouds)\n",
        "collection_l7_y10 = create_landsat_collection_with_clouds('LANDSAT/LC09/C02/T1_L2', year_10, year_10, start_date, end_date, File, apply_scale_factors, maskSrClouds, renamel9)\n",
        "landsat78composite_y10 = create_composite(collection_l7_y10, collection_y10, fillGap, File)\n",
        "\n",
        "print('Number of Landsat scenes for year 10:', collection_y10.size().getInfo())\n",
        "print('Number of Landsat scenes for year 10:', collection_l7_y10.size().getInfo())"
      ],
      "metadata": {
        "id": "kjmbl3c8PHgK"
      },
      "execution_count": null,
      "outputs": []
    },
    {
      "cell_type": "code",
      "source": [
        "#Landsat collection for 2020\n",
        "collection_2020 = create_landsat_collection('LANDSAT/LC08/C02/T1_L2', year_0_2020, year_1_2020, start_date_2020, end_date_2020, File, apply_scale_factors, maskSrClouds)\n",
        "collection_l7_2020 = create_landsat_collection_with_clouds('LANDSAT/LE07/C02/T1_L2', year_0_2020, year_1_2020, start_date_2020, end_date_2020, File, apply_scale_factors, maskSrClouds, rename)\n",
        "landsat78composite_2020 = create_composite(collection_l7_2020, collection_2020, fillGap, File)\n",
        "\n",
        "print('Number of Landsat scenes for year 2020:', collection_2020.size().getInfo())\n",
        "#print('Number of Landsat scenes for year 2020:', collection_l7_2020.size().getInfo())"
      ],
      "metadata": {
        "id": "m5AclO_HPN6J"
      },
      "execution_count": null,
      "outputs": []
    },
    {
      "cell_type": "code",
      "source": [
        "#check the cloud cover in the retrieved scenes\n",
        "Map=geemap.Map()\n",
        "Map.add_basemap('HYBRID', False)\n",
        "Map.centerObject(File, 10)\n",
        "Map.addLayer(landsat78composite_y0, visParams, 'Composite year 0')\n",
        "Map.addLayer(landsat78composite_y10, visParams, 'Composite year 10')\n",
        "Map.addLayer(landsat78composite_2020, visParams, 'Composite year 2020')\n",
        "Map"
      ],
      "metadata": {
        "id": "ecdYa2maP4J3"
      },
      "execution_count": null,
      "outputs": []
    },
    {
      "cell_type": "code",
      "execution_count": null,
      "metadata": {
        "id": "09ee1a3a",
        "tags": []
      },
      "outputs": [],
      "source": [
        "bands = ['SR_B2','SR_B3','SR_B4','SR_B5', 'SR_B6', 'SR_B7']\n",
        "label = 'Map'       # Label and bands are staying the same despite the year\n",
        "\n",
        "training_2020 = landsat78composite_2020.select(bands).sampleRegions (**{\n",
        "    'collection' : points,\n",
        "    'properties' : [label],\n",
        "    'scale'      : 30  # 30 m resolution based on the Landsat 8 resolution\n",
        "})\n",
        "\n",
        "# Add a column for the accuracy assessment\n",
        "training_2020 = training_2020.randomColumn()\n",
        "\n",
        "training_2020_new = training_2020.filter(ee.Filter.lt('random', 0.7))\n",
        "validation_2020_new = training_2020.filter(ee.Filter.gte('random', 0.7))\n",
        "\n",
        "# Using the Classifier.smilecart machine learning to predict and classify the land cover\n",
        "trained_2020 = ee.Classifier.smileRandomForest(10).train(training_2020_new, label, bands)# Train the classifier using the trianing data generated\n",
        "\n",
        "# Reclassifying the image classes + values\n",
        "result_y10 = landsat78composite_y10.select(bands).classify(trained_2020) # classify the image/raster\n",
        "result_y0 = landsat78composite_y0.select(bands).classify(trained_2020)\n"
      ]
    },
    {
      "cell_type": "code",
      "execution_count": null,
      "metadata": {
        "id": "d517d9a9-a92c-42ad-8467-51cae3344ecf"
      },
      "outputs": [],
      "source": [
        "##FOR ESA\n",
        "# Recalculate the forest class according to the new stand-size\n",
        "forest_y10 = result_y10.eq(10).selfMask()\n",
        "forest_y0 = result_y0.eq(10).selfMask()\n",
        "\n",
        "contArea_y10 = forest_y10.connectedPixelCount()\n",
        "area_y10 = contArea_y10.gte(forest_size_pixels).selfMask()\n",
        "\n",
        "contArea_y0 = forest_y0.connectedPixelCount()\n",
        "area_y0 = contArea_y0.gte(forest_size_pixels).selfMask()\n",
        "\n",
        "reclassify_y10 = result_y10.where(result_y10.eq(10), area_y10)\n",
        "reclassify_y0 = result_y0.where(result_y0.eq(10), area_y0)\n"
      ]
    },
    {
      "cell_type": "code",
      "source": [
        "left_layer = geemap.ee_tile_layer(forest_y10, {'bands': ['classification']}, 'Landcover year 10')\n",
        "right_layer = geemap.ee_tile_layer(forest_y0, {'bands': ['classification']}, 'Landcover year 0')\n",
        "Map1 = geemap.Map()\n",
        "Map1.centerObject(File,12)\n",
        "Map1.split_map(left_layer, right_layer)\n",
        "Map1.add_legend(title='Land Cover', legend_dict = esa_legend_dict)\n",
        "Map1"
      ],
      "metadata": {
        "id": "jxzRAzGCYhJI"
      },
      "execution_count": null,
      "outputs": []
    },
    {
      "cell_type": "code",
      "source": [
        "###IF USING ESA\n",
        "class_values = esa.get('Map_class_values')#.getInfo()\n",
        "class_palette = esa.get('Map_class_palette')#.getInfo()\n",
        "class_names = esa.get('Map_class_names')\n",
        "# Reclassifying the class using the original class names and class palette\n",
        "landcover_y10 = reclassify_y10.set ('classification_class_values', class_values)\n",
        "landcover_y10 = landcover_y10.set('classification_class_palette', class_palette)\n",
        "landcover_y10 = landcover_y10.set('classification_class_names', class_names)\n",
        "landcover_y0 = reclassify_y0.set ('classification_class_values', class_values)\n",
        "landcover_y0 = landcover_y0.set('classification_class_palette', class_palette)\n",
        "landcover_y0 = landcover_y0.set('classification_class_names', class_names)"
      ],
      "metadata": {
        "id": "g5MGu5vLSIG3"
      },
      "execution_count": null,
      "outputs": []
    },
    {
      "cell_type": "code",
      "source": [
        "left_layer = geemap.ee_tile_layer(landcover_y10, {'bands': ['classification']}, 'Landcover year 10')\n",
        "right_layer = geemap.ee_tile_layer(landcover_y0, {'bands': ['classification']}, 'Landcover year 0')\n",
        "Map1 = geemap.Map()\n",
        "Map1.centerObject(File,12)\n",
        "Map1.split_map(left_layer, right_layer)\n",
        "Map1.add_legend(title='Land Cover', legend_dict = esa_legend_dict)\n",
        "Map1"
      ],
      "metadata": {
        "id": "p-wtHXL6SCyw"
      },
      "execution_count": null,
      "outputs": []
    },
    {
      "cell_type": "code",
      "source": [
        "# Save tif to Google Drive\n",
        "#2014\n",
        "geemap.ee_export_image_to_drive(\n",
        "    landcover_y0, description=f'{project_area_name}_ESA_map_2014', region=File.geometry(), scale=30\n",
        ")"
      ],
      "metadata": {
        "id": "0ZAMev2MAVH8"
      },
      "execution_count": null,
      "outputs": []
    },
    {
      "cell_type": "code",
      "source": [
        "#2024\n",
        "geemap.ee_export_image_to_drive(\n",
        "    landcover_y10, description=f'{project_area_name}_ESA_map_2024', region=File.geometry(), scale=30\n",
        ")"
      ],
      "metadata": {
        "id": "AM7O8GpmbzEH"
      },
      "execution_count": null,
      "outputs": []
    },
    {
      "cell_type": "markdown",
      "source": [
        "##### Accuracy of the model"
      ],
      "metadata": {
        "id": "VyBwJ6raoRy9"
      }
    },
    {
      "cell_type": "code",
      "source": [
        "#Overall accuracy\n",
        "#Training dataset\n",
        "training_accuracy = trained_2020.confusionMatrix()\n",
        "overall_accuracy = training_accuracy.accuracy()\n",
        "print(overall_accuracy.getInfo())\n",
        "\n",
        "# Accuracy on Validation dataset\n",
        "validation = validation_2020_new.classify(trained_2020)\n",
        "validation.first().getInfo()\n",
        "\n",
        "validation_accuracy = validation.errorMatrix('Map', 'classification')\n",
        "\n",
        "#print('The accuracy is:')\n",
        "print(validation_accuracy.accuracy().getInfo())"
      ],
      "metadata": {
        "id": "FoQPxPKuSqmh"
      },
      "execution_count": null,
      "outputs": []
    },
    {
      "cell_type": "markdown",
      "source": [
        "##### Calculate the slope and its eligibility"
      ],
      "metadata": {
        "id": "OtpM5gWZoZLa"
      }
    },
    {
      "cell_type": "code",
      "source": [
        "##FOR ESA ONLY\n",
        "non_forest_y0 = reclassify_y0.eq(20).Or(reclassify_y0.eq(30)).Or(reclassify_y0.eq(40)).Or(reclassify_y0.eq(60))\n",
        "non_forest_y10 = reclassify_y10.eq(20).Or(reclassify_y10.eq(30)).Or(reclassify_y10.eq(40)).Or(reclassify_y10.eq(60))"
      ],
      "metadata": {
        "id": "N12MTeS_LRle"
      },
      "execution_count": null,
      "outputs": []
    },
    {
      "cell_type": "code",
      "execution_count": null,
      "metadata": {
        "id": "f4505f86"
      },
      "outputs": [],
      "source": [
        "## slope\n",
        "\n",
        "dataset = ee.Image('USGS/SRTMGL1_003').select('elevation')\n",
        "slope = ee.Terrain.slope(dataset)                                                    # Getting the slope\n",
        "#possible to change the slope in here (if not consider just change to 0)\n",
        "slope_30 = slope.updateMask(slope.gt(30)).updateMask(slope.lt(100)).gt(30)\n",
        "#### Getting the difference between the land cover in 2023 and 2013 by overlaying those 2 rasters on each other - Multiplication \"Py language\" ####\n",
        "\n",
        "# Overlaying to see the differences between 2023 and 2013\n",
        "#overlayed_10year = reclassify_y0.multiply(reclassify_y10)\n",
        "\n",
        "# Overlaying to see the differences between 2023 and 2013 ONLY FOR ESA\n",
        "overlayed_10year = non_forest_y0.multiply(non_forest_y10)\n",
        "\n",
        "# Overlaying with slope\n",
        "Slope_Mul_Overlayed = slope_30.multiply(overlayed_10year.eq(10))\n",
        "\n",
        "Map2 = geemap.Map()\n",
        "Map2.centerObject(File)\n",
        "Map2.addLayer (File, {}, 'File')\n",
        "Map2.addLayer(overlayed_10year.selfMask(),{'min': 0, 'max':3, 'palette': ['green','green']}, \"Eligible Areas - Green\")\n",
        "Map2.addLayer(Slope_Mul_Overlayed.selfMask(),{'min': 0, 'max':3, 'palette': ['red','red']}, \"non-eligible - slope > 30%\")\n",
        "Map2.centerObject(File, 11)\n",
        "Map2"
      ]
    },
    {
      "cell_type": "markdown",
      "source": [
        "### 7.Results"
      ],
      "metadata": {
        "id": "dhbPNXdSokEc"
      }
    },
    {
      "cell_type": "markdown",
      "source": [
        "##### Areas calculation"
      ],
      "metadata": {
        "id": "ddR9fvUzop2h"
      }
    },
    {
      "cell_type": "code",
      "source": [
        "latitude, longitude = get_shapefile_centroid(gdf)\n",
        "#print(f\"Central Point: ({latitude}, {longitude})\")\n",
        "best_epsg = get_best_crs(latitude, longitude)  # Replace with actual latitude\n",
        "print(best_epsg)"
      ],
      "metadata": {
        "id": "9I0Jyq04Vhss"
      },
      "execution_count": null,
      "outputs": []
    },
    {
      "cell_type": "code",
      "source": [
        "gdf_crs = gdf.to_crs(best_epsg)\n",
        "total_area_ha = (gdf_crs['geometry'].area/10000).sum()\n",
        "print(f\"Total area in hectares: {total_area_ha}\")"
      ],
      "metadata": {
        "id": "fTLJVRVvWAAX"
      },
      "execution_count": null,
      "outputs": []
    },
    {
      "cell_type": "code",
      "source": [
        "#CALCULATE THE FOREST AREA FOR YEAR 0 AND YEAR 10\n",
        "print('Forest year 0:')\n",
        "forest_year0 = calculateTotalPixelArea(forest_y0, File)\n",
        "\n",
        "print('Forest year 10:')\n",
        "forest_year10 = calculateTotalPixelArea(forest_y10, File)"
      ],
      "metadata": {
        "id": "yS1NquE4WCzv"
      },
      "execution_count": null,
      "outputs": []
    },
    {
      "cell_type": "markdown",
      "source": [
        "##### Eligibility"
      ],
      "metadata": {
        "id": "2FU7lpiToybs"
      }
    },
    {
      "cell_type": "code",
      "source": [
        "#Calculate total eligible area\n",
        "print('Non-eligible and eligible area are:')\n",
        "eligible_area = calculateTotalPixelArea(overlayed_10year, File)\n",
        "\n",
        "#Non-eligible slope\n",
        "#print('Slopy area:')\n",
        "#non_eligible_slope = calculateTotalPixelArea(Slope_Mul_Overlayed.selfMask(), File)"
      ],
      "metadata": {
        "id": "BfWvI8faWFJA"
      },
      "execution_count": null,
      "outputs": []
    },
    {
      "cell_type": "code",
      "source": [
        "# If the shapefile is divided into multiple polygons of interest (departments, geopolitical units, etc), use the code below\n",
        "\n",
        "# Create a list to hold the features\n",
        "features = []\n",
        "\n",
        "# Get the size of the File FeatureCollection\n",
        "file_size = File.size().getInfo()\n",
        "\n",
        "# Retrieve the features using a loop\n",
        "for i in range(file_size):\n",
        "    feature = ee.Feature(File.toList(file_size).get(i))\n",
        "    features.append(feature)\n",
        "\n",
        "# Calculate the total pixel area for each feature\n",
        "print('Eligible area:')\n",
        "areas = [calculateTotalPixelArea(overlayed_10year, feature.geometry()) for feature in features]\n",
        "\n",
        "print('Slopy area:')\n",
        "areas_slope = [calculateTotalPixelArea(Slope_Mul_Overlayed.selfMask(), feature.geometry()) for feature in features]"
      ],
      "metadata": {
        "id": "pekDXy533x_Z"
      },
      "execution_count": null,
      "outputs": []
    },
    {
      "cell_type": "code",
      "source": [
        "# Define different min_forest_pixels values\n",
        "# Store results in a list\n",
        "results = []\n",
        "\n",
        "for min_forest_pixels in min_forest_pixels_list:\n",
        "    contArea = overlayed_10year.eq(1).selfMask().connectedPixelCount()\n",
        "    area = contArea.gte(min_forest_pixels).selfMask()\n",
        "    areas_slope = calculateTotalPixelArea(area.selfMask(), File)\n",
        "\n",
        "    # Append results to the list\n",
        "    results.append({\"min_forest_pixels\": min_forest_pixels, \"Total Area (ha)\": areas_slope})\n",
        "\n",
        "# Convert to DataFrame for a structured table\n",
        "df = pd.DataFrame(results)\n",
        "\n",
        "# Print the table\n",
        "print(df)"
      ],
      "metadata": {
        "id": "w3WI-ZUHAsLZ"
      },
      "execution_count": null,
      "outputs": []
    },
    {
      "cell_type": "code",
      "source": [
        "# Save tif to Google Drive\n",
        "geemap.ee_export_image_to_drive(\n",
        "    overlayed_10year, description=f'{project_area_name}_eligible_area', region=File.geometry(), scale=30\n",
        ")"
      ],
      "metadata": {
        "id": "1DmSqyW0XHFf"
      },
      "execution_count": null,
      "outputs": []
    }
  ]
}