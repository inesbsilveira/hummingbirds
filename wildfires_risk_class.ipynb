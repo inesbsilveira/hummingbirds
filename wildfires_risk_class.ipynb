{
  "nbformat": 4,
  "nbformat_minor": 0,
  "metadata": {
    "colab": {
      "provenance": [],
      "authorship_tag": "ABX9TyM6iZenzRzZXjFjSi7nhwjY",
      "include_colab_link": true
    },
    "kernelspec": {
      "name": "python3",
      "display_name": "Python 3"
    },
    "language_info": {
      "name": "python"
    }
  },
  "cells": [
    {
      "cell_type": "markdown",
      "metadata": {
        "id": "view-in-github",
        "colab_type": "text"
      },
      "source": [
        "<a href=\"https://colab.research.google.com/github/inesbsilveira/hummingbirds/blob/main/wildfires_risk_class.ipynb\" target=\"_parent\"><img src=\"https://colab.research.google.com/assets/colab-badge.svg\" alt=\"Open In Colab\"/></a>"
      ]
    },
    {
      "cell_type": "code",
      "source": [
        "!pip install geemap\n",
        "!pip install geojson"
      ],
      "metadata": {
        "id": "1RikvJSycbRf"
      },
      "execution_count": null,
      "outputs": []
    },
    {
      "cell_type": "code",
      "execution_count": 2,
      "metadata": {
        "id": "PKe4URLocO0S"
      },
      "outputs": [],
      "source": [
        "import os\n",
        "import csv\n",
        "import pandas as pd\n",
        "import geopandas as gpd\n",
        "from shapely.geometry import Polygon, MultiPolygon, mapping\n",
        "from shapely.validation import make_valid\n",
        "import geojson\n",
        "import ee\n",
        "import geemap\n",
        "import matplotlib.pyplot as plt\n",
        "import seaborn as sns\n",
        "import numpy as np"
      ]
    },
    {
      "cell_type": "code",
      "source": [
        "my_project = 'ee-ineshummingbirds'\n",
        "ee.Authenticate()\n",
        "ee.Initialize(project= my_project)"
      ],
      "metadata": {
        "colab": {
          "base_uri": "https://localhost:8080/",
          "height": 17
        },
        "id": "0eUvybyWckrt",
        "outputId": "7186525b-4910-449f-a1ac-df3798fc5df3"
      },
      "execution_count": 3,
      "outputs": [
        {
          "output_type": "display_data",
          "data": {
            "text/plain": [
              "<IPython.core.display.HTML object>"
            ],
            "text/html": [
              "\n",
              "            <style>\n",
              "                .geemap-dark {\n",
              "                    --jp-widgets-color: white;\n",
              "                    --jp-widgets-label-color: white;\n",
              "                    --jp-ui-font-color1: white;\n",
              "                    --jp-layout-color2: #454545;\n",
              "                    background-color: #383838;\n",
              "                }\n",
              "\n",
              "                .geemap-dark .jupyter-button {\n",
              "                    --jp-layout-color3: #383838;\n",
              "                }\n",
              "\n",
              "                .geemap-colab {\n",
              "                    background-color: var(--colab-primary-surface-color, white);\n",
              "                }\n",
              "\n",
              "                .geemap-colab .jupyter-button {\n",
              "                    --jp-layout-color3: var(--colab-primary-surface-color, white);\n",
              "                }\n",
              "            </style>\n",
              "            "
            ]
          },
          "metadata": {}
        }
      ]
    },
    {
      "cell_type": "code",
      "source": [
        "# Create a function to process burned area by year\n",
        "def process_year(n):\n",
        "    # Calculate the start and end date for each year\n",
        "    ini = startDate.advance(n, 'year')\n",
        "    end = ini.advance(1, 'year')\n",
        "\n",
        "    # Filter the burned area collection for the given year\n",
        "    result = sst.filterDate(ini, end)\n",
        "    result = result.max().set('system:time_start', ini)\n",
        "\n",
        "    # Get the burned area (where BurnDate is not 0) and mask it\n",
        "    result = ee.Image.pixelArea() \\\n",
        "               .divide(10000) \\\n",
        "               .updateMask(result.neq(0))  # Mask out non-burned areas\n",
        "\n",
        "    # Sum the area of burned forest for the year\n",
        "    result = result.reduceRegion(\n",
        "        reducer=ee.Reducer.sum(),\n",
        "        geometry=File,  # Use the converted region geometry\n",
        "        scale=500,\n",
        "        maxPixels=1e12,\n",
        "        tileScale=4\n",
        "    )\n",
        "\n",
        "    # Extract the area burned in the forest for that year\n",
        "    burnedArea = result.get('area')\n",
        "\n",
        "    # Return the area burned in the forest for that year\n",
        "    return ee.Feature(None, {'burned_area_ha': burnedArea})\n",
        "\n",
        "def get_shapefile_centroid(gdf):\n",
        "    \"\"\"Ensure CRS is geographic and return the centroid coordinates.\"\"\"\n",
        "    if gdf.crs is None or gdf.crs.is_projected:\n",
        "        gdf = gdf.to_crs(epsg=4326)  # Convert to WGS84 (lat/lon)\n",
        "\n",
        "    centroid = gdf.unary_union.centroid\n",
        "    return centroid.y, centroid.x  # (latitude, longitude)\n",
        "\n",
        "def get_best_crs(latitude, longitude):\n",
        "    \"\"\" Returns the best UTM zone EPSG code based on latitude \"\"\"\n",
        "    utm_zone = int((180 + longitude) / 6) + 1\n",
        "    return f\"EPSG:{32600 + utm_zone if latitude >= 0 else 32700 + utm_zone}\""
      ],
      "metadata": {
        "id": "ryrTRa2vqqPo",
        "colab": {
          "base_uri": "https://localhost:8080/",
          "height": 17
        },
        "outputId": "f8b618e0-1497-4adf-da50-8e370389bd9e"
      },
      "execution_count": 4,
      "outputs": [
        {
          "output_type": "display_data",
          "data": {
            "text/plain": [
              "<IPython.core.display.HTML object>"
            ],
            "text/html": [
              "\n",
              "            <style>\n",
              "                .geemap-dark {\n",
              "                    --jp-widgets-color: white;\n",
              "                    --jp-widgets-label-color: white;\n",
              "                    --jp-ui-font-color1: white;\n",
              "                    --jp-layout-color2: #454545;\n",
              "                    background-color: #383838;\n",
              "                }\n",
              "\n",
              "                .geemap-dark .jupyter-button {\n",
              "                    --jp-layout-color3: #383838;\n",
              "                }\n",
              "\n",
              "                .geemap-colab {\n",
              "                    background-color: var(--colab-primary-surface-color, white);\n",
              "                }\n",
              "\n",
              "                .geemap-colab .jupyter-button {\n",
              "                    --jp-layout-color3: var(--colab-primary-surface-color, white);\n",
              "                }\n",
              "            </style>\n",
              "            "
            ]
          },
          "metadata": {}
        }
      ]
    },
    {
      "cell_type": "code",
      "source": [
        "\n",
        "# if the input is a shapefile\n",
        "country = 'Ivory Coast'\n",
        "project_area_name = 'Calao' #region/country/project name\n",
        "input_shp = \"cambodia_shp_joined_dissolved.shp\"\n",
        "gdf = gpd.read_file(input_shp).to_crs('EPSG:4326')\n",
        "File = geemap.geopandas_to_ee(gdf)"
      ],
      "metadata": {
        "colab": {
          "base_uri": "https://localhost:8080/",
          "height": 17
        },
        "id": "ntnGAc5ocuKK",
        "outputId": "57295a9a-595f-41bb-aeb6-c1c249f88472"
      },
      "execution_count": 36,
      "outputs": [
        {
          "output_type": "display_data",
          "data": {
            "text/plain": [
              "<IPython.core.display.HTML object>"
            ],
            "text/html": [
              "\n",
              "            <style>\n",
              "                .geemap-dark {\n",
              "                    --jp-widgets-color: white;\n",
              "                    --jp-widgets-label-color: white;\n",
              "                    --jp-ui-font-color1: white;\n",
              "                    --jp-layout-color2: #454545;\n",
              "                    background-color: #383838;\n",
              "                }\n",
              "\n",
              "                .geemap-dark .jupyter-button {\n",
              "                    --jp-layout-color3: #383838;\n",
              "                }\n",
              "\n",
              "                .geemap-colab {\n",
              "                    background-color: var(--colab-primary-surface-color, white);\n",
              "                }\n",
              "\n",
              "                .geemap-colab .jupyter-button {\n",
              "                    --jp-layout-color3: var(--colab-primary-surface-color, white);\n",
              "                }\n",
              "            </style>\n",
              "            "
            ]
          },
          "metadata": {}
        }
      ]
    },
    {
      "cell_type": "code",
      "source": [
        "# Define the date range\n",
        "start_date = '2000-01-01'\n",
        "end_date = '2024-12-31'\n",
        "startDate = ee.Date(start_date)\n",
        "endDate = ee.Date(end_date)"
      ],
      "metadata": {
        "id": "R8MdKUH55FiI",
        "outputId": "eaf64af2-c128-4d42-8fbc-00f0de1ba747",
        "colab": {
          "base_uri": "https://localhost:8080/",
          "height": 17
        }
      },
      "execution_count": 37,
      "outputs": [
        {
          "output_type": "display_data",
          "data": {
            "text/plain": [
              "<IPython.core.display.HTML object>"
            ],
            "text/html": [
              "\n",
              "            <style>\n",
              "                .geemap-dark {\n",
              "                    --jp-widgets-color: white;\n",
              "                    --jp-widgets-label-color: white;\n",
              "                    --jp-ui-font-color1: white;\n",
              "                    --jp-layout-color2: #454545;\n",
              "                    background-color: #383838;\n",
              "                }\n",
              "\n",
              "                .geemap-dark .jupyter-button {\n",
              "                    --jp-layout-color3: #383838;\n",
              "                }\n",
              "\n",
              "                .geemap-colab {\n",
              "                    background-color: var(--colab-primary-surface-color, white);\n",
              "                }\n",
              "\n",
              "                .geemap-colab .jupyter-button {\n",
              "                    --jp-layout-color3: var(--colab-primary-surface-color, white);\n",
              "                }\n",
              "            </style>\n",
              "            "
            ]
          },
          "metadata": {}
        }
      ]
    },
    {
      "cell_type": "code",
      "source": [
        "# calculate number of years to process\n",
        "nYears = ee.Number(endDate.difference(startDate, 'year')).round().subtract(1)\n",
        "#print(f'Number of years: {nYears.getInfo()}')\n",
        "\n",
        "# MODIS Burned Area dataset\n",
        "sst = ee.ImageCollection(\"MODIS/061/MCD64A1\") \\\n",
        "            .select('BurnDate') \\\n",
        "            .filterDate(startDate, endDate)\n",
        "\n",
        "# processs burned area per year\n",
        "byYear = ee.FeatureCollection(\n",
        "    ee.List.sequence(0, nYears).map(process_year)\n",
        ")"
      ],
      "metadata": {
        "colab": {
          "base_uri": "https://localhost:8080/",
          "height": 17
        },
        "id": "aIMcF59oxGG6",
        "outputId": "81b0cf37-1c9f-42e3-f170-568f57a31d31"
      },
      "execution_count": 38,
      "outputs": [
        {
          "output_type": "display_data",
          "data": {
            "text/plain": [
              "<IPython.core.display.HTML object>"
            ],
            "text/html": [
              "\n",
              "            <style>\n",
              "                .geemap-dark {\n",
              "                    --jp-widgets-color: white;\n",
              "                    --jp-widgets-label-color: white;\n",
              "                    --jp-ui-font-color1: white;\n",
              "                    --jp-layout-color2: #454545;\n",
              "                    background-color: #383838;\n",
              "                }\n",
              "\n",
              "                .geemap-dark .jupyter-button {\n",
              "                    --jp-layout-color3: #383838;\n",
              "                }\n",
              "\n",
              "                .geemap-colab {\n",
              "                    background-color: var(--colab-primary-surface-color, white);\n",
              "                }\n",
              "\n",
              "                .geemap-colab .jupyter-button {\n",
              "                    --jp-layout-color3: var(--colab-primary-surface-color, white);\n",
              "                }\n",
              "            </style>\n",
              "            "
            ]
          },
          "metadata": {}
        }
      ]
    },
    {
      "cell_type": "code",
      "source": [
        "#features from the Earth Engine FeatureCollection\n",
        "features = byYear.getInfo()['features']\n",
        "\n",
        "#'area_ha' values and their corresponding years\n",
        "data = []\n",
        "for feature in features:\n",
        "    year = feature['id']  # The id corresponds to the year index (0-9 in your case)\n",
        "    area_ha = feature['properties']['burned_area_ha']\n",
        "    data.append({'year': int(year), 'burned_area_ha': area_ha})\n",
        "\n",
        "#convert to pandas dataframe\n",
        "df = pd.DataFrame(data)\n",
        "# Display the DataFrame\n",
        "#print(df)\n"
      ],
      "metadata": {
        "colab": {
          "base_uri": "https://localhost:8080/",
          "height": 17
        },
        "id": "eByRsPhe0gj9",
        "outputId": "e9f9ef59-27b9-4019-bf33-18ed962af0f6"
      },
      "execution_count": 39,
      "outputs": [
        {
          "output_type": "display_data",
          "data": {
            "text/plain": [
              "<IPython.core.display.HTML object>"
            ],
            "text/html": [
              "\n",
              "            <style>\n",
              "                .geemap-dark {\n",
              "                    --jp-widgets-color: white;\n",
              "                    --jp-widgets-label-color: white;\n",
              "                    --jp-ui-font-color1: white;\n",
              "                    --jp-layout-color2: #454545;\n",
              "                    background-color: #383838;\n",
              "                }\n",
              "\n",
              "                .geemap-dark .jupyter-button {\n",
              "                    --jp-layout-color3: #383838;\n",
              "                }\n",
              "\n",
              "                .geemap-colab {\n",
              "                    background-color: var(--colab-primary-surface-color, white);\n",
              "                }\n",
              "\n",
              "                .geemap-colab .jupyter-button {\n",
              "                    --jp-layout-color3: var(--colab-primary-surface-color, white);\n",
              "                }\n",
              "            </style>\n",
              "            "
            ]
          },
          "metadata": {}
        }
      ]
    },
    {
      "cell_type": "code",
      "source": [
        "#retrive lat and long to get the adequate CRS for a correct area calculation\n",
        "latitude, longitude = get_shapefile_centroid(gdf)\n",
        "#print(f\"Central Point: ({latitude}, {longitude})\")\n",
        "best_epsg = get_best_crs(latitude, longitude)\n",
        "#print(best_epsg)"
      ],
      "metadata": {
        "colab": {
          "base_uri": "https://localhost:8080/",
          "height": 52
        },
        "id": "ElUp8FY_iy0N",
        "outputId": "eb8750ed-4d85-49b6-ccdf-8963eb4c94e6"
      },
      "execution_count": 40,
      "outputs": [
        {
          "output_type": "display_data",
          "data": {
            "text/plain": [
              "<IPython.core.display.HTML object>"
            ],
            "text/html": [
              "\n",
              "            <style>\n",
              "                .geemap-dark {\n",
              "                    --jp-widgets-color: white;\n",
              "                    --jp-widgets-label-color: white;\n",
              "                    --jp-ui-font-color1: white;\n",
              "                    --jp-layout-color2: #454545;\n",
              "                    background-color: #383838;\n",
              "                }\n",
              "\n",
              "                .geemap-dark .jupyter-button {\n",
              "                    --jp-layout-color3: #383838;\n",
              "                }\n",
              "\n",
              "                .geemap-colab {\n",
              "                    background-color: var(--colab-primary-surface-color, white);\n",
              "                }\n",
              "\n",
              "                .geemap-colab .jupyter-button {\n",
              "                    --jp-layout-color3: var(--colab-primary-surface-color, white);\n",
              "                }\n",
              "            </style>\n",
              "            "
            ]
          },
          "metadata": {}
        },
        {
          "output_type": "stream",
          "name": "stderr",
          "text": [
            "<ipython-input-4-b14001e8e1ae>:36: DeprecationWarning: The 'unary_union' attribute is deprecated, use the 'union_all()' method instead.\n",
            "  centroid = gdf.unary_union.centroid\n"
          ]
        }
      ]
    },
    {
      "cell_type": "code",
      "source": [
        "gdf_crs = gdf.to_crs(best_epsg)\n",
        "total_area_ha = (gdf_crs['geometry'].area/10000).sum()\n",
        "print(f\"Total area in hectares: {total_area_ha}\")"
      ],
      "metadata": {
        "colab": {
          "base_uri": "https://localhost:8080/",
          "height": 34
        },
        "id": "Ub3sHwqhi1yK",
        "outputId": "80d61204-6f47-4e36-960d-9b59062e0cbf"
      },
      "execution_count": 41,
      "outputs": [
        {
          "output_type": "display_data",
          "data": {
            "text/plain": [
              "<IPython.core.display.HTML object>"
            ],
            "text/html": [
              "\n",
              "            <style>\n",
              "                .geemap-dark {\n",
              "                    --jp-widgets-color: white;\n",
              "                    --jp-widgets-label-color: white;\n",
              "                    --jp-ui-font-color1: white;\n",
              "                    --jp-layout-color2: #454545;\n",
              "                    background-color: #383838;\n",
              "                }\n",
              "\n",
              "                .geemap-dark .jupyter-button {\n",
              "                    --jp-layout-color3: #383838;\n",
              "                }\n",
              "\n",
              "                .geemap-colab {\n",
              "                    background-color: var(--colab-primary-surface-color, white);\n",
              "                }\n",
              "\n",
              "                .geemap-colab .jupyter-button {\n",
              "                    --jp-layout-color3: var(--colab-primary-surface-color, white);\n",
              "                }\n",
              "            </style>\n",
              "            "
            ]
          },
          "metadata": {}
        },
        {
          "output_type": "stream",
          "name": "stdout",
          "text": [
            "Total area in hectares: 16063.192346372653\n"
          ]
        }
      ]
    },
    {
      "cell_type": "code",
      "source": [
        "#add new column to the df with the percentage of burned area per year\n",
        "df['burned_area_percentage'] = (df['burned_area_ha'] / total_area_ha) * 100\n",
        "# Display the updated DataFrame\n",
        "print(df)"
      ],
      "metadata": {
        "colab": {
          "base_uri": "https://localhost:8080/",
          "height": 468
        },
        "id": "8YZdbNQzjULD",
        "outputId": "0cf54e88-6279-4ecd-d390-b1b575608fd6"
      },
      "execution_count": 42,
      "outputs": [
        {
          "output_type": "display_data",
          "data": {
            "text/plain": [
              "<IPython.core.display.HTML object>"
            ],
            "text/html": [
              "\n",
              "            <style>\n",
              "                .geemap-dark {\n",
              "                    --jp-widgets-color: white;\n",
              "                    --jp-widgets-label-color: white;\n",
              "                    --jp-ui-font-color1: white;\n",
              "                    --jp-layout-color2: #454545;\n",
              "                    background-color: #383838;\n",
              "                }\n",
              "\n",
              "                .geemap-dark .jupyter-button {\n",
              "                    --jp-layout-color3: #383838;\n",
              "                }\n",
              "\n",
              "                .geemap-colab {\n",
              "                    background-color: var(--colab-primary-surface-color, white);\n",
              "                }\n",
              "\n",
              "                .geemap-colab .jupyter-button {\n",
              "                    --jp-layout-color3: var(--colab-primary-surface-color, white);\n",
              "                }\n",
              "            </style>\n",
              "            "
            ]
          },
          "metadata": {}
        },
        {
          "output_type": "stream",
          "name": "stdout",
          "text": [
            "    year  burned_area_ha  burned_area_percentage\n",
            "0      0      482.573603                3.004220\n",
            "1      1      733.900220                4.568832\n",
            "2      2     5219.064837               32.490832\n",
            "3      3     4439.816291               27.639688\n",
            "4      4     4337.539252               27.002972\n",
            "5      5     3664.798666               22.814884\n",
            "6      6     4512.663041               28.093189\n",
            "7      7     6036.517969               37.579815\n",
            "8      8     6973.930456               43.415595\n",
            "9      9     6857.176544               42.688753\n",
            "10    10     6453.893551               40.178150\n",
            "11    11     5434.327963               33.830934\n",
            "12    12     5550.852045               34.556344\n",
            "13    13     4123.897533               25.672964\n",
            "14    14     5499.687089               34.237821\n",
            "15    15     3759.299711               23.403192\n",
            "16    16     4036.988500               25.131919\n",
            "17    17     4706.492033               29.299855\n",
            "18    18     5898.895369               36.723058\n",
            "19    19     5716.974543               35.590525\n",
            "20    20     5362.859247               33.386012\n",
            "21    21     8311.316671               51.741376\n",
            "22    22     6741.138224               41.966367\n",
            "23    23     2609.302888               16.243987\n",
            "24    24     6994.645649               43.544555\n"
          ]
        }
      ]
    },
    {
      "cell_type": "code",
      "source": [
        "# Calculate mean and standard deviation for area burned in hectares\n",
        "mean_area = df['burned_area_ha'].mean()\n",
        "std_area = df['burned_area_ha'].std()\n",
        "mean_area_percentage = df['burned_area_percentage'].mean()\n",
        "std_area_percentage = df['burned_area_percentage'].std()\n",
        "print(f\"Mean of burned area (ha): {mean_area}\")\n",
        "print(f\"Standard deviation of burned area: {std_area}\")\n",
        "print(f\"Mean of burned area (%): {mean_area_percentage}\")\n",
        "print(f\"Standard deviation of burned area (%): {std_area_percentage}\")"
      ],
      "metadata": {
        "colab": {
          "base_uri": "https://localhost:8080/",
          "height": 86
        },
        "id": "rD8E8s81OOhX",
        "outputId": "f95a6390-d8fd-4e0a-921f-02539339b9b9"
      },
      "execution_count": 43,
      "outputs": [
        {
          "output_type": "display_data",
          "data": {
            "text/plain": [
              "<IPython.core.display.HTML object>"
            ],
            "text/html": [
              "\n",
              "            <style>\n",
              "                .geemap-dark {\n",
              "                    --jp-widgets-color: white;\n",
              "                    --jp-widgets-label-color: white;\n",
              "                    --jp-ui-font-color1: white;\n",
              "                    --jp-layout-color2: #454545;\n",
              "                    background-color: #383838;\n",
              "                }\n",
              "\n",
              "                .geemap-dark .jupyter-button {\n",
              "                    --jp-layout-color3: #383838;\n",
              "                }\n",
              "\n",
              "                .geemap-colab {\n",
              "                    background-color: var(--colab-primary-surface-color, white);\n",
              "                }\n",
              "\n",
              "                .geemap-colab .jupyter-button {\n",
              "                    --jp-layout-color3: var(--colab-primary-surface-color, white);\n",
              "                }\n",
              "            </style>\n",
              "            "
            ]
          },
          "metadata": {}
        },
        {
          "output_type": "stream",
          "name": "stdout",
          "text": [
            "Mean of burned area (ha): 4978.342075852695\n",
            "Standard deviation of burned area: 1838.8851551642447\n",
            "Mean of burned area (%): 30.992233477032922\n",
            "Standard deviation of burned area (%): 11.447818811554583\n"
          ]
        }
      ]
    },
    {
      "cell_type": "code",
      "source": [
        "#TIME SINCE LAST FIRE\n",
        "# Sort data by year (ensure it's sorted)\n",
        "df = df.sort_values('year', ascending=True)\n",
        "big_fire_threshold_area = mean_area\n",
        "low_fire_threshold_area = mean_area - (std_area)\n",
        "\n",
        "# Find the most recent year with a big fire\n",
        "big_fires = df[df['burned_area_ha'] >= big_fire_threshold_area]\n",
        "num_big_fires = len(big_fires)\n",
        "\n",
        "moderate_fires = df[(df['burned_area_ha'] >= low_fire_threshold_area) & (df['burned_area_ha'] < big_fire_threshold_area)]\n",
        "num_moderate_fires = len(moderate_fires)\n",
        "\n",
        "low_fires = df[df['burned_area_ha'] < low_fire_threshold_area]\n",
        "num_low_fires = len(low_fires)\n",
        "\n",
        "if not big_fires.empty:\n",
        "    last_big_fire_year = big_fires['year'].max()\n",
        "else:\n",
        "    last_big_fire_year = None  # No big fire found\n",
        "\n",
        "# current year is the most recent year in the dataset (ascending order)\n",
        "current_year = df['year'].max()\n",
        "\n",
        "# calculate time since last (big)fire\n",
        "if last_big_fire_year:\n",
        "    years_since_last_big_fire = current_year - last_big_fire_year\n",
        "else:\n",
        "    years_since_last_big_fire = float('inf')  # If no fire, treat as very long ago\n",
        "\n",
        "\n",
        "\n",
        "print(f\"Total number of big fires: {num_big_fires}\")\n",
        "print(f\"Total number of moderate fires: {num_moderate_fires}\")\n",
        "print(f\"Total number of low fires: {num_low_fires}\")\n",
        "print(f\"Year of last big fire: 20{last_big_fire_year}\")\n",
        "print(f\"Nr of years since last big fire: {years_since_last_big_fire}\")\n"
      ],
      "metadata": {
        "colab": {
          "base_uri": "https://localhost:8080/",
          "height": 104
        },
        "id": "kHJIpM0hRY9Y",
        "outputId": "714ca78c-867a-4a5a-e5dd-3723b481eff7"
      },
      "execution_count": 44,
      "outputs": [
        {
          "output_type": "display_data",
          "data": {
            "text/plain": [
              "<IPython.core.display.HTML object>"
            ],
            "text/html": [
              "\n",
              "            <style>\n",
              "                .geemap-dark {\n",
              "                    --jp-widgets-color: white;\n",
              "                    --jp-widgets-label-color: white;\n",
              "                    --jp-ui-font-color1: white;\n",
              "                    --jp-layout-color2: #454545;\n",
              "                    background-color: #383838;\n",
              "                }\n",
              "\n",
              "                .geemap-dark .jupyter-button {\n",
              "                    --jp-layout-color3: #383838;\n",
              "                }\n",
              "\n",
              "                .geemap-colab {\n",
              "                    background-color: var(--colab-primary-surface-color, white);\n",
              "                }\n",
              "\n",
              "                .geemap-colab .jupyter-button {\n",
              "                    --jp-layout-color3: var(--colab-primary-surface-color, white);\n",
              "                }\n",
              "            </style>\n",
              "            "
            ]
          },
          "metadata": {}
        },
        {
          "output_type": "stream",
          "name": "stdout",
          "text": [
            "Total number of big fires: 14\n",
            "Total number of moderate fires: 8\n",
            "Total number of low fires: 3\n",
            "Year of last big fire: 2024\n",
            "Nr of years since last big fire: 0\n"
          ]
        }
      ]
    },
    {
      "cell_type": "code",
      "source": [
        "# Filter moderate and low fires that happened after the last big fire\n",
        "# Filter fires that happened after the last big fire\n",
        "if last_big_fire_year:\n",
        "    fires_after_last_big_fire = df[df['year'] > last_big_fire_year]\n",
        "\n",
        "    moderate_fires_after = fires_after_last_big_fire[\n",
        "        (fires_after_last_big_fire['burned_area_ha'] >= low_fire_threshold_area) &\n",
        "        (fires_after_last_big_fire['burned_area_ha'] < big_fire_threshold_area)\n",
        "    ]\n",
        "\n",
        "    low_fires_after = fires_after_last_big_fire[\n",
        "        fires_after_last_big_fire['burned_area_ha'] < low_fire_threshold_area\n",
        "    ]\n",
        "\n",
        "    total_fires_after_last_big_fire = len(fires_after_last_big_fire)\n",
        "else:\n",
        "    moderate_fires_after = df[(df['burned_area_ha'] >= low_fire_threshold_area) &\n",
        "                              (df['burned_area_ha'] < big_fire_threshold_area)]\n",
        "    low_fires_after = df[df['burned_area_ha'] < low_fire_threshold_area]\n",
        "    total_fires_after_last_big_fire = len(df)  # Count all fires if no big fire exists\n",
        "\n",
        "\n",
        "# Count fires\n",
        "num_moderate_fires_after = len(moderate_fires_after)\n",
        "num_low_fires_after = len(low_fires_after)\n",
        "\n",
        "print(f\"Total number of fires after last big fire: {total_fires_after_last_big_fire}\")\n",
        "print(f\"Total number of moderate fires after last big fire: {num_moderate_fires_after}\")\n",
        "print(f\"Total number of low fires after last big fire: {num_low_fires_after}\")"
      ],
      "metadata": {
        "id": "VxVhHo4wxjcF",
        "outputId": "2219cf2b-4483-4764-ce42-c4437f8a4872",
        "colab": {
          "base_uri": "https://localhost:8080/",
          "height": 69
        }
      },
      "execution_count": 45,
      "outputs": [
        {
          "output_type": "display_data",
          "data": {
            "text/plain": [
              "<IPython.core.display.HTML object>"
            ],
            "text/html": [
              "\n",
              "            <style>\n",
              "                .geemap-dark {\n",
              "                    --jp-widgets-color: white;\n",
              "                    --jp-widgets-label-color: white;\n",
              "                    --jp-ui-font-color1: white;\n",
              "                    --jp-layout-color2: #454545;\n",
              "                    background-color: #383838;\n",
              "                }\n",
              "\n",
              "                .geemap-dark .jupyter-button {\n",
              "                    --jp-layout-color3: #383838;\n",
              "                }\n",
              "\n",
              "                .geemap-colab {\n",
              "                    background-color: var(--colab-primary-surface-color, white);\n",
              "                }\n",
              "\n",
              "                .geemap-colab .jupyter-button {\n",
              "                    --jp-layout-color3: var(--colab-primary-surface-color, white);\n",
              "                }\n",
              "            </style>\n",
              "            "
            ]
          },
          "metadata": {}
        },
        {
          "output_type": "stream",
          "name": "stdout",
          "text": [
            "Total number of fires after last big fire: 0\n",
            "Total number of moderate fires after last big fire: 0\n",
            "Total number of low fires after last big fire: 0\n"
          ]
        }
      ]
    },
    {
      "cell_type": "code",
      "source": [
        "import matplotlib.pyplot as plt\n",
        "import seaborn as sns\n",
        "\n",
        "# Calculate thresholds for risk levels\n",
        "mean_area = df['burned_area_percentage'].mean()\n",
        "std_area = df['burned_area_percentage'].std()\n",
        "\n",
        "low_risk_threshold = mean_area - (std_area)\n",
        "high_risk_threshold = mean_area + (std_area)\n",
        "mean_threshold = mean_area\n",
        "# Categorize the point sizes based on the area burned\n",
        "def size_category(burned_area_percentage):\n",
        "    if burned_area_percentage < 10:\n",
        "        return 30  # Small\n",
        "    elif 10 <= burned_area_percentage < 30:\n",
        "        return 100  # Medium\n",
        "    elif 30 <= burned_area_percentage < 50:\n",
        "        return 200  # Medium-large\n",
        "    else:\n",
        "        return 300  # Large\n",
        "\n",
        "# Apply the size category function to the 'burned_area_ha' column\n",
        "df['point_size'] = df['burned_area_percentage'].apply(size_category)\n",
        "\n",
        "# Create the scatter plot\n",
        "plt.figure(figsize=(12, 7))\n",
        "sns.scatterplot(data=df, x='year', y='burned_area_percentage', size='point_size', sizes=(30, 300),\n",
        "                hue='burned_area_percentage', palette='coolwarm', legend=False)\n",
        "\n",
        "# Add horizontal lines for risk thresholds\n",
        "plt.axhline(y=low_risk_threshold, color='green', linestyle='--', label='Low Risk Threshold')\n",
        "plt.axhline(y=high_risk_threshold, color='red', linestyle='--', label='High Risk Threshold')\n",
        "plt.axhline(y=mean_threshold, color='blue', linestyle='-', label='Mean Threshold')\n",
        "\n",
        "# Set labels and title\n",
        "plt.title('Percentage of Burned Area per Year with Risk Thresholds', fontsize=16)\n",
        "plt.xlabel('Year', fontsize=14)\n",
        "plt.ylabel('Burned Area (%)', fontsize=14)\n",
        "#plt.yscale('log')\n",
        "plt.ylim(0, df['burned_area_percentage'].max()*1.1)\n",
        "\n",
        "# Show legend\n",
        "plt.legend()\n",
        "\n",
        "# Show the plot\n",
        "plt.tight_layout()\n",
        "plt.show()\n"
      ],
      "metadata": {
        "colab": {
          "base_uri": "https://localhost:8080/",
          "height": 707
        },
        "id": "a78s6QbTbLfL",
        "outputId": "97328ed2-2dcb-4d04-916f-bb633f642391"
      },
      "execution_count": 46,
      "outputs": [
        {
          "output_type": "display_data",
          "data": {
            "text/plain": [
              "<IPython.core.display.HTML object>"
            ],
            "text/html": [
              "\n",
              "            <style>\n",
              "                .geemap-dark {\n",
              "                    --jp-widgets-color: white;\n",
              "                    --jp-widgets-label-color: white;\n",
              "                    --jp-ui-font-color1: white;\n",
              "                    --jp-layout-color2: #454545;\n",
              "                    background-color: #383838;\n",
              "                }\n",
              "\n",
              "                .geemap-dark .jupyter-button {\n",
              "                    --jp-layout-color3: #383838;\n",
              "                }\n",
              "\n",
              "                .geemap-colab {\n",
              "                    background-color: var(--colab-primary-surface-color, white);\n",
              "                }\n",
              "\n",
              "                .geemap-colab .jupyter-button {\n",
              "                    --jp-layout-color3: var(--colab-primary-surface-color, white);\n",
              "                }\n",
              "            </style>\n",
              "            "
            ]
          },
          "metadata": {}
        },
        {
          "output_type": "display_data",
          "data": {
            "text/plain": [
              "<Figure size 1200x700 with 1 Axes>"
            ],
            "image/png": "[encoded data removed]"
          },
          "metadata": {}
        }
      ]
    }
  ]
}