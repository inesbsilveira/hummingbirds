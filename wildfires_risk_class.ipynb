{
  "nbformat": 4,
  "nbformat_minor": 0,
  "metadata": {
    "colab": {
      "provenance": [],
      "authorship_tag": "ABX9TyP65UzxeARDg/ehefxNJ9Og",
      "include_colab_link": true
    },
    "kernelspec": {
      "name": "python3",
      "display_name": "Python 3"
    },
    "language_info": {
      "name": "python"
    }
  },
  "cells": [
    {
      "cell_type": "markdown",
      "metadata": {
        "id": "view-in-github",
        "colab_type": "text"
      },
      "source": [
        "<a href=\"https://colab.research.google.com/github/inesbsilveira/hummingbirds/blob/main/wildfires_risk_class.ipynb\" target=\"_parent\"><img src=\"https://colab.research.google.com/assets/colab-badge.svg\" alt=\"Open In Colab\"/></a>"
      ]
    },
    {
      "cell_type": "code",
      "source": [
        "!pip install geemap\n",
        "!pip install geojson"
      ],
      "metadata": {
        "id": "1RikvJSycbRf"
      },
      "execution_count": null,
      "outputs": []
    },
    {
      "cell_type": "code",
      "execution_count": 8,
      "metadata": {
        "colab": {
          "base_uri": "https://localhost:8080/",
          "height": 17
        },
        "id": "PKe4URLocO0S",
        "outputId": "6c1db791-c56b-4dec-b53d-915a0bf4c21f"
      },
      "outputs": [
        {
          "output_type": "display_data",
          "data": {
            "text/plain": [
              "<IPython.core.display.HTML object>"
            ],
            "text/html": [
              "\n",
              "            <style>\n",
              "                .geemap-dark {\n",
              "                    --jp-widgets-color: white;\n",
              "                    --jp-widgets-label-color: white;\n",
              "                    --jp-ui-font-color1: white;\n",
              "                    --jp-layout-color2: #454545;\n",
              "                    background-color: #383838;\n",
              "                }\n",
              "\n",
              "                .geemap-dark .jupyter-button {\n",
              "                    --jp-layout-color3: #383838;\n",
              "                }\n",
              "\n",
              "                .geemap-colab {\n",
              "                    background-color: var(--colab-primary-surface-color, white);\n",
              "                }\n",
              "\n",
              "                .geemap-colab .jupyter-button {\n",
              "                    --jp-layout-color3: var(--colab-primary-surface-color, white);\n",
              "                }\n",
              "            </style>\n",
              "            "
            ]
          },
          "metadata": {}
        }
      ],
      "source": [
        "import os\n",
        "import csv\n",
        "import pandas as pd\n",
        "import geopandas as gpd\n",
        "from shapely.geometry import Polygon, MultiPolygon\n",
        "from shapely.validation import make_valid\n",
        "import geojson\n",
        "import zipfile\n",
        "import ee\n",
        "import geemap\n",
        "from shapely.geometry import mapping\n",
        "import time"
      ]
    },
    {
      "cell_type": "code",
      "source": [
        "my_project = 'ee-ineshummingbirds'\n",
        "ee.Authenticate()\n",
        "ee.Initialize(project= my_project)"
      ],
      "metadata": {
        "colab": {
          "base_uri": "https://localhost:8080/",
          "height": 17
        },
        "id": "0eUvybyWckrt",
        "outputId": "64752302-6fd9-4925-b19c-fe7d005ac3dd"
      },
      "execution_count": 3,
      "outputs": [
        {
          "output_type": "display_data",
          "data": {
            "text/plain": [
              "<IPython.core.display.HTML object>"
            ],
            "text/html": [
              "\n",
              "            <style>\n",
              "                .geemap-dark {\n",
              "                    --jp-widgets-color: white;\n",
              "                    --jp-widgets-label-color: white;\n",
              "                    --jp-ui-font-color1: white;\n",
              "                    --jp-layout-color2: #454545;\n",
              "                    background-color: #383838;\n",
              "                }\n",
              "\n",
              "                .geemap-dark .jupyter-button {\n",
              "                    --jp-layout-color3: #383838;\n",
              "                }\n",
              "\n",
              "                .geemap-colab {\n",
              "                    background-color: var(--colab-primary-surface-color, white);\n",
              "                }\n",
              "\n",
              "                .geemap-colab .jupyter-button {\n",
              "                    --jp-layout-color3: var(--colab-primary-surface-color, white);\n",
              "                }\n",
              "            </style>\n",
              "            "
            ]
          },
          "metadata": {}
        }
      ]
    },
    {
      "cell_type": "code",
      "source": [
        "\n",
        "# if the input is a shapefile\n",
        "country = 'Ivory Coast'\n",
        "project_area_name = 'Calao' #region/country/project name\n",
        "input_shp = \"calao_buffer.shp\"\n",
        "gdf = gpd.read_file(input_shp).to_crs('EPSG:4326')\n",
        "File = geemap.geopandas_to_ee(gdf)"
      ],
      "metadata": {
        "colab": {
          "base_uri": "https://localhost:8080/",
          "height": 17
        },
        "id": "ntnGAc5ocuKK",
        "outputId": "d6127fbb-c4bf-4299-ec89-f90d695381aa"
      },
      "execution_count": 80,
      "outputs": [
        {
          "output_type": "display_data",
          "data": {
            "text/plain": [
              "<IPython.core.display.HTML object>"
            ],
            "text/html": [
              "\n",
              "            <style>\n",
              "                .geemap-dark {\n",
              "                    --jp-widgets-color: white;\n",
              "                    --jp-widgets-label-color: white;\n",
              "                    --jp-ui-font-color1: white;\n",
              "                    --jp-layout-color2: #454545;\n",
              "                    background-color: #383838;\n",
              "                }\n",
              "\n",
              "                .geemap-dark .jupyter-button {\n",
              "                    --jp-layout-color3: #383838;\n",
              "                }\n",
              "\n",
              "                .geemap-colab {\n",
              "                    background-color: var(--colab-primary-surface-color, white);\n",
              "                }\n",
              "\n",
              "                .geemap-colab .jupyter-button {\n",
              "                    --jp-layout-color3: var(--colab-primary-surface-color, white);\n",
              "                }\n",
              "            </style>\n",
              "            "
            ]
          },
          "metadata": {}
        }
      ]
    },
    {
      "cell_type": "code",
      "source": [
        "\n",
        "# Define the date range\n",
        "start_date = '2000-01-01'\n",
        "end_date = '2022-12-31'\n",
        "startDate = ee.Date(start_date)\n",
        "endDate = ee.Date(end_date)\n",
        "\n",
        "# Calculate the number of years to process\n",
        "nYears = ee.Number(endDate.difference(startDate, 'year')).round().subtract(1)\n",
        "print(f'Number of years: {nYears.getInfo()}')\n",
        "\n",
        "# Load MODIS Burned Area dataset\n",
        "sst = ee.ImageCollection(\"MODIS/006/MCD64A1\") \\\n",
        "            .select('BurnDate') \\\n",
        "            .filterDate(startDate, endDate)\n",
        "\n",
        "# Create a function to process burned area by year\n",
        "def process_year(n):\n",
        "    # Calculate the start and end date for each year\n",
        "    ini = startDate.advance(n, 'year')\n",
        "    end = ini.advance(1, 'year')\n",
        "\n",
        "    # Filter the burned area collection for the given year\n",
        "    result = sst.filterDate(ini, end)\n",
        "    result = result.max().set('system:time_start', ini)\n",
        "\n",
        "    # Get the burned area (where BurnDate is not 0) and mask it\n",
        "    result = ee.Image.pixelArea() \\\n",
        "               .divide(10000) \\\n",
        "               .updateMask(result.neq(0))  # Mask out non-burned areas\n",
        "\n",
        "    # Sum the area of burned forest for the year\n",
        "    result = result.reduceRegion(\n",
        "        reducer=ee.Reducer.sum(),\n",
        "        geometry=File,  # Use the converted region geometry\n",
        "        scale=500,\n",
        "        maxPixels=1e12,\n",
        "        tileScale=4\n",
        "    )\n",
        "\n",
        "    # Extract the area burned in the forest for that year\n",
        "    burnedArea = result.get('area')\n",
        "\n",
        "    # Return the area burned in the forest for that year\n",
        "    return ee.Feature(None, {'burned_area_ha': burnedArea})\n",
        "\n",
        "# Map over each year and process the burned area\n",
        "byYear = ee.FeatureCollection(\n",
        "    ee.List.sequence(0, nYears).map(process_year)\n",
        ")\n",
        "\n",
        "# Print the results\n",
        "print('Area (ha) burned forest by year:')\n",
        "print(byYear.getInfo())\n"
      ],
      "metadata": {
        "colab": {
          "base_uri": "https://localhost:8080/",
          "height": 89
        },
        "id": "aIMcF59oxGG6",
        "outputId": "d1af823c-77a7-4dd6-d5c3-bdfac15b5ad4"
      },
      "execution_count": 81,
      "outputs": [
        {
          "output_type": "display_data",
          "data": {
            "text/plain": [
              "<IPython.core.display.HTML object>"
            ],
            "text/html": [
              "\n",
              "            <style>\n",
              "                .geemap-dark {\n",
              "                    --jp-widgets-color: white;\n",
              "                    --jp-widgets-label-color: white;\n",
              "                    --jp-ui-font-color1: white;\n",
              "                    --jp-layout-color2: #454545;\n",
              "                    background-color: #383838;\n",
              "                }\n",
              "\n",
              "                .geemap-dark .jupyter-button {\n",
              "                    --jp-layout-color3: #383838;\n",
              "                }\n",
              "\n",
              "                .geemap-colab {\n",
              "                    background-color: var(--colab-primary-surface-color, white);\n",
              "                }\n",
              "\n",
              "                .geemap-colab .jupyter-button {\n",
              "                    --jp-layout-color3: var(--colab-primary-surface-color, white);\n",
              "                }\n",
              "            </style>\n",
              "            "
            ]
          },
          "metadata": {}
        },
        {
          "output_type": "stream",
          "name": "stdout",
          "text": [
            "Number of years: 22\n",
            "Area (ha) burned forest by year:\n",
            "{'type': 'FeatureCollection', 'columns': {'burned_area_ha': 'Float', 'system:index': 'String'}, 'features': [{'type': 'Feature', 'geometry': None, 'id': '0', 'properties': {'burned_area_ha': 15993.940422395815}}, {'type': 'Feature', 'geometry': None, 'id': '1', 'properties': {'burned_area_ha': 17682.933688088255}}, {'type': 'Feature', 'geometry': None, 'id': '2', 'properties': {'burned_area_ha': 51375.511239362866}}, {'type': 'Feature', 'geometry': None, 'id': '3', 'properties': {'burned_area_ha': 43786.661843756265}}, {'type': 'Feature', 'geometry': None, 'id': '4', 'properties': {'burned_area_ha': 11065.035490245098}}, {'type': 'Feature', 'geometry': None, 'id': '5', 'properties': {'burned_area_ha': 54372.177072628634}}, {'type': 'Feature', 'geometry': None, 'id': '6', 'properties': {'burned_area_ha': 44827.918427273224}}, {'type': 'Feature', 'geometry': None, 'id': '7', 'properties': {'burned_area_ha': 58118.53200267161}}, {'type': 'Feature', 'geometry': None, 'id': '8', 'properties': {'burned_area_ha': 33747.36006574757}}, {'type': 'Feature', 'geometry': None, 'id': '9', 'properties': {'burned_area_ha': 48892.31908121321}}, {'type': 'Feature', 'geometry': None, 'id': '10', 'properties': {'burned_area_ha': 35779.97395753668}}, {'type': 'Feature', 'geometry': None, 'id': '11', 'properties': {'burned_area_ha': 35116.49323457714}}, {'type': 'Feature', 'geometry': None, 'id': '12', 'properties': {'burned_area_ha': 28134.077429332174}}, {'type': 'Feature', 'geometry': None, 'id': '13', 'properties': {'burned_area_ha': 54513.92952532493}}, {'type': 'Feature', 'geometry': None, 'id': '14', 'properties': {'burned_area_ha': 23391.04410043509}}, {'type': 'Feature', 'geometry': None, 'id': '15', 'properties': {'burned_area_ha': 15052.857428639712}}, {'type': 'Feature', 'geometry': None, 'id': '16', 'properties': {'burned_area_ha': 23782.446443406927}}, {'type': 'Feature', 'geometry': None, 'id': '17', 'properties': {'burned_area_ha': 24987.765914123862}}, {'type': 'Feature', 'geometry': None, 'id': '18', 'properties': {'burned_area_ha': 30902.88717267158}}, {'type': 'Feature', 'geometry': None, 'id': '19', 'properties': {'burned_area_ha': 10283.217639191185}}, {'type': 'Feature', 'geometry': None, 'id': '20', 'properties': {'burned_area_ha': 17339.66536750002}}, {'type': 'Feature', 'geometry': None, 'id': '21', 'properties': {'burned_area_ha': 15409.99446171568}}, {'type': 'Feature', 'geometry': None, 'id': '22', 'properties': {'burned_area_ha': 18153.531554736528}}]}\n"
          ]
        }
      ]
    },
    {
      "cell_type": "code",
      "source": [
        "# Extract the features from the Earth Engine FeatureCollection\n",
        "features = byYear.getInfo()['features']\n",
        "\n",
        "# Extract 'area_ha' values and their corresponding years\n",
        "data = []\n",
        "for feature in features:\n",
        "    year = feature['id']  # The id corresponds to the year index (0-9 in your case)\n",
        "    area_ha = feature['properties']['burned_area_ha']\n",
        "    data.append({'year': int(year), 'burned_area_ha': area_ha})\n",
        "\n",
        "# Convert to a Pandas DataFrame\n",
        "df = pd.DataFrame(data)\n",
        "\n",
        "# Display the DataFrame\n",
        "print(df)\n"
      ],
      "metadata": {
        "colab": {
          "base_uri": "https://localhost:8080/",
          "height": 434
        },
        "id": "eByRsPhe0gj9",
        "outputId": "bb414690-1ffa-414d-913c-a5192f276de0"
      },
      "execution_count": 82,
      "outputs": [
        {
          "output_type": "display_data",
          "data": {
            "text/plain": [
              "<IPython.core.display.HTML object>"
            ],
            "text/html": [
              "\n",
              "            <style>\n",
              "                .geemap-dark {\n",
              "                    --jp-widgets-color: white;\n",
              "                    --jp-widgets-label-color: white;\n",
              "                    --jp-ui-font-color1: white;\n",
              "                    --jp-layout-color2: #454545;\n",
              "                    background-color: #383838;\n",
              "                }\n",
              "\n",
              "                .geemap-dark .jupyter-button {\n",
              "                    --jp-layout-color3: #383838;\n",
              "                }\n",
              "\n",
              "                .geemap-colab {\n",
              "                    background-color: var(--colab-primary-surface-color, white);\n",
              "                }\n",
              "\n",
              "                .geemap-colab .jupyter-button {\n",
              "                    --jp-layout-color3: var(--colab-primary-surface-color, white);\n",
              "                }\n",
              "            </style>\n",
              "            "
            ]
          },
          "metadata": {}
        },
        {
          "output_type": "stream",
          "name": "stdout",
          "text": [
            "    year  burned_area_ha\n",
            "0      0    15993.940422\n",
            "1      1    17682.933688\n",
            "2      2    51375.511239\n",
            "3      3    43786.661844\n",
            "4      4    11065.035490\n",
            "5      5    54372.177073\n",
            "6      6    44827.918427\n",
            "7      7    58118.532003\n",
            "8      8    33747.360066\n",
            "9      9    48892.319081\n",
            "10    10    35779.973958\n",
            "11    11    35116.493235\n",
            "12    12    28134.077429\n",
            "13    13    54513.929525\n",
            "14    14    23391.044100\n",
            "15    15    15052.857429\n",
            "16    16    23782.446443\n",
            "17    17    24987.765914\n",
            "18    18    30902.887173\n",
            "19    19    10283.217639\n",
            "20    20    17339.665368\n",
            "21    21    15409.994462\n",
            "22    22    18153.531555\n"
          ]
        }
      ]
    },
    {
      "cell_type": "code",
      "source": [
        "def get_shapefile_centroid(gdf):\n",
        "    \"\"\"Ensure CRS is geographic and return the centroid coordinates.\"\"\"\n",
        "    if gdf.crs is None or gdf.crs.is_projected:\n",
        "        gdf = gdf.to_crs(epsg=4326)  # Convert to WGS84 (lat/lon)\n",
        "\n",
        "    centroid = gdf.unary_union.centroid\n",
        "    return centroid.y, centroid.x  # (latitude, longitude)\n",
        "\n",
        "def get_best_crs(latitude, longitude):\n",
        "    \"\"\" Returns the best UTM zone EPSG code based on latitude \"\"\"\n",
        "    utm_zone = int((180 + longitude) / 6) + 1\n",
        "    return f\"EPSG:{32600 + utm_zone if latitude >= 0 else 32700 + utm_zone}\""
      ],
      "metadata": {
        "id": "ryrTRa2vqqPo",
        "colab": {
          "base_uri": "https://localhost:8080/",
          "height": 17
        },
        "outputId": "24e55d53-aba7-4c1c-f645-113823da1f26"
      },
      "execution_count": 47,
      "outputs": [
        {
          "output_type": "display_data",
          "data": {
            "text/plain": [
              "<IPython.core.display.HTML object>"
            ],
            "text/html": [
              "\n",
              "            <style>\n",
              "                .geemap-dark {\n",
              "                    --jp-widgets-color: white;\n",
              "                    --jp-widgets-label-color: white;\n",
              "                    --jp-ui-font-color1: white;\n",
              "                    --jp-layout-color2: #454545;\n",
              "                    background-color: #383838;\n",
              "                }\n",
              "\n",
              "                .geemap-dark .jupyter-button {\n",
              "                    --jp-layout-color3: #383838;\n",
              "                }\n",
              "\n",
              "                .geemap-colab {\n",
              "                    background-color: var(--colab-primary-surface-color, white);\n",
              "                }\n",
              "\n",
              "                .geemap-colab .jupyter-button {\n",
              "                    --jp-layout-color3: var(--colab-primary-surface-color, white);\n",
              "                }\n",
              "            </style>\n",
              "            "
            ]
          },
          "metadata": {}
        }
      ]
    },
    {
      "cell_type": "code",
      "source": [
        "latitude, longitude = get_shapefile_centroid(gdf)\n",
        "#print(f\"Central Point: ({latitude}, {longitude})\")\n",
        "best_epsg = get_best_crs(latitude, longitude)  # Replace with actual latitude\n",
        "print(best_epsg)"
      ],
      "metadata": {
        "colab": {
          "base_uri": "https://localhost:8080/",
          "height": 69
        },
        "id": "ElUp8FY_iy0N",
        "outputId": "f47f926c-f0e6-4330-9fc0-b12f99c11580"
      },
      "execution_count": 84,
      "outputs": [
        {
          "output_type": "display_data",
          "data": {
            "text/plain": [
              "<IPython.core.display.HTML object>"
            ],
            "text/html": [
              "\n",
              "            <style>\n",
              "                .geemap-dark {\n",
              "                    --jp-widgets-color: white;\n",
              "                    --jp-widgets-label-color: white;\n",
              "                    --jp-ui-font-color1: white;\n",
              "                    --jp-layout-color2: #454545;\n",
              "                    background-color: #383838;\n",
              "                }\n",
              "\n",
              "                .geemap-dark .jupyter-button {\n",
              "                    --jp-layout-color3: #383838;\n",
              "                }\n",
              "\n",
              "                .geemap-colab {\n",
              "                    background-color: var(--colab-primary-surface-color, white);\n",
              "                }\n",
              "\n",
              "                .geemap-colab .jupyter-button {\n",
              "                    --jp-layout-color3: var(--colab-primary-surface-color, white);\n",
              "                }\n",
              "            </style>\n",
              "            "
            ]
          },
          "metadata": {}
        },
        {
          "output_type": "stream",
          "name": "stdout",
          "text": [
            "EPSG:32630\n"
          ]
        },
        {
          "output_type": "stream",
          "name": "stderr",
          "text": [
            "<ipython-input-47-8622922bd85d>:6: DeprecationWarning: The 'unary_union' attribute is deprecated, use the 'union_all()' method instead.\n",
            "  centroid = gdf.unary_union.centroid\n"
          ]
        }
      ]
    },
    {
      "cell_type": "code",
      "source": [
        "gdf_crs = gdf.to_crs(best_epsg)\n",
        "total_area_ha = (gdf_crs['geometry'].area/10000).sum()\n",
        "print(f\"Total area in hectares: {total_area_ha}\")"
      ],
      "metadata": {
        "colab": {
          "base_uri": "https://localhost:8080/",
          "height": 34
        },
        "id": "Ub3sHwqhi1yK",
        "outputId": "3b541f86-ba94-4d62-b85f-c5f4c586ec42"
      },
      "execution_count": 85,
      "outputs": [
        {
          "output_type": "display_data",
          "data": {
            "text/plain": [
              "<IPython.core.display.HTML object>"
            ],
            "text/html": [
              "\n",
              "            <style>\n",
              "                .geemap-dark {\n",
              "                    --jp-widgets-color: white;\n",
              "                    --jp-widgets-label-color: white;\n",
              "                    --jp-ui-font-color1: white;\n",
              "                    --jp-layout-color2: #454545;\n",
              "                    background-color: #383838;\n",
              "                }\n",
              "\n",
              "                .geemap-dark .jupyter-button {\n",
              "                    --jp-layout-color3: #383838;\n",
              "                }\n",
              "\n",
              "                .geemap-colab {\n",
              "                    background-color: var(--colab-primary-surface-color, white);\n",
              "                }\n",
              "\n",
              "                .geemap-colab .jupyter-button {\n",
              "                    --jp-layout-color3: var(--colab-primary-surface-color, white);\n",
              "                }\n",
              "            </style>\n",
              "            "
            ]
          },
          "metadata": {}
        },
        {
          "output_type": "stream",
          "name": "stdout",
          "text": [
            "Total area in hectares: 165545.93989969188\n"
          ]
        }
      ]
    },
    {
      "cell_type": "code",
      "source": [
        "# Add a new column to the DataFrame that represents the percentage of burned area\n",
        "df['burned_area_percentage'] = (df['burned_area_ha'] / total_area_ha) * 100\n",
        "\n",
        "# Display the updated DataFrame\n",
        "print(df)"
      ],
      "metadata": {
        "colab": {
          "base_uri": "https://localhost:8080/",
          "height": 434
        },
        "id": "8YZdbNQzjULD",
        "outputId": "7e672235-bab1-492e-981f-7aa1da0e431a"
      },
      "execution_count": 86,
      "outputs": [
        {
          "output_type": "display_data",
          "data": {
            "text/plain": [
              "<IPython.core.display.HTML object>"
            ],
            "text/html": [
              "\n",
              "            <style>\n",
              "                .geemap-dark {\n",
              "                    --jp-widgets-color: white;\n",
              "                    --jp-widgets-label-color: white;\n",
              "                    --jp-ui-font-color1: white;\n",
              "                    --jp-layout-color2: #454545;\n",
              "                    background-color: #383838;\n",
              "                }\n",
              "\n",
              "                .geemap-dark .jupyter-button {\n",
              "                    --jp-layout-color3: #383838;\n",
              "                }\n",
              "\n",
              "                .geemap-colab {\n",
              "                    background-color: var(--colab-primary-surface-color, white);\n",
              "                }\n",
              "\n",
              "                .geemap-colab .jupyter-button {\n",
              "                    --jp-layout-color3: var(--colab-primary-surface-color, white);\n",
              "                }\n",
              "            </style>\n",
              "            "
            ]
          },
          "metadata": {}
        },
        {
          "output_type": "stream",
          "name": "stdout",
          "text": [
            "    year  burned_area_ha  burned_area_percentage\n",
            "0      0    15993.940422                9.661331\n",
            "1      1    17682.933688               10.681587\n",
            "2      2    51375.511239               31.033990\n",
            "3      3    43786.661844               26.449855\n",
            "4      4    11065.035490                6.683967\n",
            "5      5    54372.177073               32.844162\n",
            "6      6    44827.918427               27.078839\n",
            "7      7    58118.532003               35.107193\n",
            "8      8    33747.360066               20.385495\n",
            "9      9    48892.319081               29.533989\n",
            "10    10    35779.973958               21.613320\n",
            "11    11    35116.493235               21.212537\n",
            "12    12    28134.077429               16.994725\n",
            "13    13    54513.929525               32.929789\n",
            "14    14    23391.044100               14.129639\n",
            "15    15    15052.857429                9.092858\n",
            "16    16    23782.446443               14.366071\n",
            "17    17    24987.765914               15.094158\n",
            "18    18    30902.887173               18.667258\n",
            "19    19    10283.217639                6.211700\n",
            "20    20    17339.665368               10.474232\n",
            "21    21    15409.994462                9.308591\n",
            "22    22    18153.531555               10.965857\n"
          ]
        }
      ]
    },
    {
      "cell_type": "code",
      "source": [
        "import matplotlib.pyplot as plt\n",
        "import seaborn as sns\n",
        "\n",
        "# Assuming 'df' contains the 'year', 'percentage_burned', and 'area_burned(ha)' columns\n",
        "# Categorize the point sizes based on the area burned\n",
        "def size_category(area):\n",
        "    if area < 300:\n",
        "        return 30  # Small\n",
        "    elif 300 <= area < 500:\n",
        "        return 100  # Medium\n",
        "    elif 500 <= area < 1000:\n",
        "        return 200  # Medium-large\n",
        "    else:\n",
        "        return 300  # Large\n",
        "\n",
        "# Apply the size category function to the 'area_burned(ha)' column\n",
        "df['point_size'] = df['burned_area_ha'].apply(size_category)\n",
        "\n",
        "# Create the plot\n",
        "plt.figure(figsize=(10, 6))\n",
        "sns.scatterplot(data=df, x='year', y='burned_area_percentage', size='point_size', sizes=(30, 300), hue='burned_area_percentage', palette='coolwarm', legend=False)\n",
        "\n",
        "# Set the labels and title\n",
        "plt.title('Percentage of Burned Area per Year', fontsize=16)\n",
        "plt.xlabel('Year', fontsize=14)\n",
        "plt.ylabel('Percentage of Burned Area (%)', fontsize=14)\n",
        "\n",
        "# Show the plot\n",
        "plt.tight_layout()\n",
        "plt.show()\n"
      ],
      "metadata": {
        "colab": {
          "base_uri": "https://localhost:8080/",
          "height": 607
        },
        "id": "zOlCmCGAkE8p",
        "outputId": "ec0af534-efe2-43fc-b23c-b6a76f09463a"
      },
      "execution_count": 78,
      "outputs": [
        {
          "output_type": "display_data",
          "data": {
            "text/plain": [
              "<IPython.core.display.HTML object>"
            ],
            "text/html": [
              "\n",
              "            <style>\n",
              "                .geemap-dark {\n",
              "                    --jp-widgets-color: white;\n",
              "                    --jp-widgets-label-color: white;\n",
              "                    --jp-ui-font-color1: white;\n",
              "                    --jp-layout-color2: #454545;\n",
              "                    background-color: #383838;\n",
              "                }\n",
              "\n",
              "                .geemap-dark .jupyter-button {\n",
              "                    --jp-layout-color3: #383838;\n",
              "                }\n",
              "\n",
              "                .geemap-colab {\n",
              "                    background-color: var(--colab-primary-surface-color, white);\n",
              "                }\n",
              "\n",
              "                .geemap-colab .jupyter-button {\n",
              "                    --jp-layout-color3: var(--colab-primary-surface-color, white);\n",
              "                }\n",
              "            </style>\n",
              "            "
            ]
          },
          "metadata": {}
        },
        {
          "output_type": "display_data",
          "data": {
            "text/plain": [
              "<Figure size 1000x600 with 1 Axes>"
            ],
            "image/png": "[encoded data removed]"
          },
          "metadata": {}
        }
      ]
    }
  ]
}