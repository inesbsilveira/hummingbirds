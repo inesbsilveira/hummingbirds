{
  "nbformat": 4,
  "nbformat_minor": 0,
  "metadata": {
    "colab": {
      "provenance": [],
      "authorship_tag": "ABX9TyMsctaJ6XzHG+C4w10dvw7L",
      "include_colab_link": true
    },
    "kernelspec": {
      "name": "python3",
      "display_name": "Python 3"
    },
    "language_info": {
      "name": "python"
    }
  },
  "cells": [
    {
      "cell_type": "markdown",
      "metadata": {
        "id": "view-in-github",
        "colab_type": "text"
      },
      "source": [
        "<a href=\"https://colab.research.google.com/github/inesbsilveira/hummingbirds/blob/main/wildfires_risk_class.ipynb\" target=\"_parent\"><img src=\"https://colab.research.google.com/assets/colab-badge.svg\" alt=\"Open In Colab\"/></a>"
      ]
    },
    {
      "cell_type": "code",
      "source": [
        "!pip install geemap\n",
        "!pip install geojson"
      ],
      "metadata": {
        "id": "1RikvJSycbRf"
      },
      "execution_count": null,
      "outputs": []
    },
    {
      "cell_type": "code",
      "execution_count": 8,
      "metadata": {
        "colab": {
          "base_uri": "https://localhost:8080/",
          "height": 17
        },
        "id": "PKe4URLocO0S",
        "outputId": "6c1db791-c56b-4dec-b53d-915a0bf4c21f"
      },
      "outputs": [
        {
          "output_type": "display_data",
          "data": {
            "text/plain": [
              "<IPython.core.display.HTML object>"
            ],
            "text/html": [
              "\n",
              "            <style>\n",
              "                .geemap-dark {\n",
              "                    --jp-widgets-color: white;\n",
              "                    --jp-widgets-label-color: white;\n",
              "                    --jp-ui-font-color1: white;\n",
              "                    --jp-layout-color2: #454545;\n",
              "                    background-color: #383838;\n",
              "                }\n",
              "\n",
              "                .geemap-dark .jupyter-button {\n",
              "                    --jp-layout-color3: #383838;\n",
              "                }\n",
              "\n",
              "                .geemap-colab {\n",
              "                    background-color: var(--colab-primary-surface-color, white);\n",
              "                }\n",
              "\n",
              "                .geemap-colab .jupyter-button {\n",
              "                    --jp-layout-color3: var(--colab-primary-surface-color, white);\n",
              "                }\n",
              "            </style>\n",
              "            "
            ]
          },
          "metadata": {}
        }
      ],
      "source": [
        "import os\n",
        "import csv\n",
        "import pandas as pd\n",
        "import geopandas as gpd\n",
        "from shapely.geometry import Polygon, MultiPolygon\n",
        "from shapely.validation import make_valid\n",
        "import geojson\n",
        "import zipfile\n",
        "import ee\n",
        "import geemap\n",
        "from shapely.geometry import mapping\n",
        "import time"
      ]
    },
    {
      "cell_type": "code",
      "source": [
        "my_project = 'ee-ineshummingbirds'\n",
        "ee.Authenticate()\n",
        "ee.Initialize(project= my_project)"
      ],
      "metadata": {
        "colab": {
          "base_uri": "https://localhost:8080/",
          "height": 17
        },
        "id": "0eUvybyWckrt",
        "outputId": "64752302-6fd9-4925-b19c-fe7d005ac3dd"
      },
      "execution_count": 3,
      "outputs": [
        {
          "output_type": "display_data",
          "data": {
            "text/plain": [
              "<IPython.core.display.HTML object>"
            ],
            "text/html": [
              "\n",
              "            <style>\n",
              "                .geemap-dark {\n",
              "                    --jp-widgets-color: white;\n",
              "                    --jp-widgets-label-color: white;\n",
              "                    --jp-ui-font-color1: white;\n",
              "                    --jp-layout-color2: #454545;\n",
              "                    background-color: #383838;\n",
              "                }\n",
              "\n",
              "                .geemap-dark .jupyter-button {\n",
              "                    --jp-layout-color3: #383838;\n",
              "                }\n",
              "\n",
              "                .geemap-colab {\n",
              "                    background-color: var(--colab-primary-surface-color, white);\n",
              "                }\n",
              "\n",
              "                .geemap-colab .jupyter-button {\n",
              "                    --jp-layout-color3: var(--colab-primary-surface-color, white);\n",
              "                }\n",
              "            </style>\n",
              "            "
            ]
          },
          "metadata": {}
        }
      ]
    },
    {
      "cell_type": "code",
      "source": [
        "\n",
        "# if the input is a shapefile\n",
        "country = 'Ivory Coast'\n",
        "project_area_name = 'Calao' #region/country/project name\n",
        "input_shp = \"calao_buffer.shp\"\n",
        "gdf = gpd.read_file(input_shp).to_crs('EPSG:4326')\n",
        "File = geemap.geopandas_to_ee(gdf)"
      ],
      "metadata": {
        "colab": {
          "base_uri": "https://localhost:8080/",
          "height": 17
        },
        "id": "ntnGAc5ocuKK",
        "outputId": "cc7656b2-f52a-42e1-a3b4-7013fb40298e"
      },
      "execution_count": 112,
      "outputs": [
        {
          "output_type": "display_data",
          "data": {
            "text/plain": [
              "<IPython.core.display.HTML object>"
            ],
            "text/html": [
              "\n",
              "            <style>\n",
              "                .geemap-dark {\n",
              "                    --jp-widgets-color: white;\n",
              "                    --jp-widgets-label-color: white;\n",
              "                    --jp-ui-font-color1: white;\n",
              "                    --jp-layout-color2: #454545;\n",
              "                    background-color: #383838;\n",
              "                }\n",
              "\n",
              "                .geemap-dark .jupyter-button {\n",
              "                    --jp-layout-color3: #383838;\n",
              "                }\n",
              "\n",
              "                .geemap-colab {\n",
              "                    background-color: var(--colab-primary-surface-color, white);\n",
              "                }\n",
              "\n",
              "                .geemap-colab .jupyter-button {\n",
              "                    --jp-layout-color3: var(--colab-primary-surface-color, white);\n",
              "                }\n",
              "            </style>\n",
              "            "
            ]
          },
          "metadata": {}
        }
      ]
    },
    {
      "cell_type": "code",
      "source": [
        "\n",
        "# Define the date range\n",
        "start_date = '2000-01-01'\n",
        "end_date = '2022-12-31'\n",
        "startDate = ee.Date(start_date)\n",
        "endDate = ee.Date(end_date)\n",
        "\n",
        "# Calculate the number of years to process\n",
        "nYears = ee.Number(endDate.difference(startDate, 'year')).round().subtract(1)\n",
        "print(f'Number of years: {nYears.getInfo()}')\n",
        "\n",
        "# Load MODIS Burned Area dataset\n",
        "sst = ee.ImageCollection(\"MODIS/006/MCD64A1\") \\\n",
        "            .select('BurnDate') \\\n",
        "            .filterDate(startDate, endDate)\n",
        "\n",
        "# Create a function to process burned area by year\n",
        "def process_year(n):\n",
        "    # Calculate the start and end date for each year\n",
        "    ini = startDate.advance(n, 'year')\n",
        "    end = ini.advance(1, 'year')\n",
        "\n",
        "    # Filter the burned area collection for the given year\n",
        "    result = sst.filterDate(ini, end)\n",
        "    result = result.max().set('system:time_start', ini)\n",
        "\n",
        "    # Get the burned area (where BurnDate is not 0) and mask it\n",
        "    result = ee.Image.pixelArea() \\\n",
        "               .divide(10000) \\\n",
        "               .updateMask(result.neq(0))  # Mask out non-burned areas\n",
        "\n",
        "    # Sum the area of burned forest for the year\n",
        "    result = result.reduceRegion(\n",
        "        reducer=ee.Reducer.sum(),\n",
        "        geometry=File,  # Use the converted region geometry\n",
        "        scale=500,\n",
        "        maxPixels=1e12,\n",
        "        tileScale=4\n",
        "    )\n",
        "\n",
        "    # Extract the area burned in the forest for that year\n",
        "    burnedArea = result.get('area')\n",
        "\n",
        "    # Return the area burned in the forest for that year\n",
        "    return ee.Feature(None, {'burned_area_ha': burnedArea})\n",
        "\n",
        "# Map over each year and process the burned area\n",
        "byYear = ee.FeatureCollection(\n",
        "    ee.List.sequence(0, nYears).map(process_year)\n",
        ")\n",
        "\n",
        "# Print the results\n",
        "print('Area (ha) burned forest by year:')\n",
        "print(byYear.getInfo())\n"
      ],
      "metadata": {
        "colab": {
          "base_uri": "https://localhost:8080/",
          "height": 89
        },
        "id": "aIMcF59oxGG6",
        "outputId": "76c13497-1221-495a-8dd8-2605432ec44d"
      },
      "execution_count": 113,
      "outputs": [
        {
          "output_type": "display_data",
          "data": {
            "text/plain": [
              "<IPython.core.display.HTML object>"
            ],
            "text/html": [
              "\n",
              "            <style>\n",
              "                .geemap-dark {\n",
              "                    --jp-widgets-color: white;\n",
              "                    --jp-widgets-label-color: white;\n",
              "                    --jp-ui-font-color1: white;\n",
              "                    --jp-layout-color2: #454545;\n",
              "                    background-color: #383838;\n",
              "                }\n",
              "\n",
              "                .geemap-dark .jupyter-button {\n",
              "                    --jp-layout-color3: #383838;\n",
              "                }\n",
              "\n",
              "                .geemap-colab {\n",
              "                    background-color: var(--colab-primary-surface-color, white);\n",
              "                }\n",
              "\n",
              "                .geemap-colab .jupyter-button {\n",
              "                    --jp-layout-color3: var(--colab-primary-surface-color, white);\n",
              "                }\n",
              "            </style>\n",
              "            "
            ]
          },
          "metadata": {}
        },
        {
          "output_type": "stream",
          "name": "stdout",
          "text": [
            "Number of years: 22\n",
            "Area (ha) burned forest by year:\n",
            "{'type': 'FeatureCollection', 'columns': {'burned_area_ha': 'Float', 'system:index': 'String'}, 'features': [{'type': 'Feature', 'geometry': None, 'id': '0', 'properties': {'burned_area_ha': 15993.940422395815}}, {'type': 'Feature', 'geometry': None, 'id': '1', 'properties': {'burned_area_ha': 17682.933688088255}}, {'type': 'Feature', 'geometry': None, 'id': '2', 'properties': {'burned_area_ha': 51375.511239362866}}, {'type': 'Feature', 'geometry': None, 'id': '3', 'properties': {'burned_area_ha': 43786.661843756265}}, {'type': 'Feature', 'geometry': None, 'id': '4', 'properties': {'burned_area_ha': 11065.035490245098}}, {'type': 'Feature', 'geometry': None, 'id': '5', 'properties': {'burned_area_ha': 54372.177072628634}}, {'type': 'Feature', 'geometry': None, 'id': '6', 'properties': {'burned_area_ha': 44827.918427273224}}, {'type': 'Feature', 'geometry': None, 'id': '7', 'properties': {'burned_area_ha': 58118.53200267161}}, {'type': 'Feature', 'geometry': None, 'id': '8', 'properties': {'burned_area_ha': 33747.36006574757}}, {'type': 'Feature', 'geometry': None, 'id': '9', 'properties': {'burned_area_ha': 48892.31908121321}}, {'type': 'Feature', 'geometry': None, 'id': '10', 'properties': {'burned_area_ha': 35779.97395753668}}, {'type': 'Feature', 'geometry': None, 'id': '11', 'properties': {'burned_area_ha': 35116.49323457714}}, {'type': 'Feature', 'geometry': None, 'id': '12', 'properties': {'burned_area_ha': 28134.077429332174}}, {'type': 'Feature', 'geometry': None, 'id': '13', 'properties': {'burned_area_ha': 54513.92952532493}}, {'type': 'Feature', 'geometry': None, 'id': '14', 'properties': {'burned_area_ha': 23391.04410043509}}, {'type': 'Feature', 'geometry': None, 'id': '15', 'properties': {'burned_area_ha': 15052.857428639712}}, {'type': 'Feature', 'geometry': None, 'id': '16', 'properties': {'burned_area_ha': 23782.446443406927}}, {'type': 'Feature', 'geometry': None, 'id': '17', 'properties': {'burned_area_ha': 24987.765914123862}}, {'type': 'Feature', 'geometry': None, 'id': '18', 'properties': {'burned_area_ha': 30902.88717267158}}, {'type': 'Feature', 'geometry': None, 'id': '19', 'properties': {'burned_area_ha': 10283.217639191185}}, {'type': 'Feature', 'geometry': None, 'id': '20', 'properties': {'burned_area_ha': 17339.66536750002}}, {'type': 'Feature', 'geometry': None, 'id': '21', 'properties': {'burned_area_ha': 15409.99446171568}}, {'type': 'Feature', 'geometry': None, 'id': '22', 'properties': {'burned_area_ha': 18153.531554736528}}]}\n"
          ]
        }
      ]
    },
    {
      "cell_type": "code",
      "source": [
        "# Extract the features from the Earth Engine FeatureCollection\n",
        "features = byYear.getInfo()['features']\n",
        "\n",
        "# Extract 'area_ha' values and their corresponding years\n",
        "data = []\n",
        "for feature in features:\n",
        "    year = feature['id']  # The id corresponds to the year index (0-9 in your case)\n",
        "    area_ha = feature['properties']['burned_area_ha']\n",
        "    data.append({'year': int(year), 'burned_area_ha': area_ha})\n",
        "\n",
        "# Convert to a Pandas DataFrame\n",
        "df = pd.DataFrame(data)\n",
        "\n",
        "# Display the DataFrame\n",
        "print(df)\n"
      ],
      "metadata": {
        "colab": {
          "base_uri": "https://localhost:8080/",
          "height": 434
        },
        "id": "eByRsPhe0gj9",
        "outputId": "147a774e-2ebc-4ca9-d024-cacfd5945358"
      },
      "execution_count": 114,
      "outputs": [
        {
          "output_type": "display_data",
          "data": {
            "text/plain": [
              "<IPython.core.display.HTML object>"
            ],
            "text/html": [
              "\n",
              "            <style>\n",
              "                .geemap-dark {\n",
              "                    --jp-widgets-color: white;\n",
              "                    --jp-widgets-label-color: white;\n",
              "                    --jp-ui-font-color1: white;\n",
              "                    --jp-layout-color2: #454545;\n",
              "                    background-color: #383838;\n",
              "                }\n",
              "\n",
              "                .geemap-dark .jupyter-button {\n",
              "                    --jp-layout-color3: #383838;\n",
              "                }\n",
              "\n",
              "                .geemap-colab {\n",
              "                    background-color: var(--colab-primary-surface-color, white);\n",
              "                }\n",
              "\n",
              "                .geemap-colab .jupyter-button {\n",
              "                    --jp-layout-color3: var(--colab-primary-surface-color, white);\n",
              "                }\n",
              "            </style>\n",
              "            "
            ]
          },
          "metadata": {}
        },
        {
          "output_type": "stream",
          "name": "stdout",
          "text": [
            "    year  burned_area_ha\n",
            "0      0    15993.940422\n",
            "1      1    17682.933688\n",
            "2      2    51375.511239\n",
            "3      3    43786.661844\n",
            "4      4    11065.035490\n",
            "5      5    54372.177073\n",
            "6      6    44827.918427\n",
            "7      7    58118.532003\n",
            "8      8    33747.360066\n",
            "9      9    48892.319081\n",
            "10    10    35779.973958\n",
            "11    11    35116.493235\n",
            "12    12    28134.077429\n",
            "13    13    54513.929525\n",
            "14    14    23391.044100\n",
            "15    15    15052.857429\n",
            "16    16    23782.446443\n",
            "17    17    24987.765914\n",
            "18    18    30902.887173\n",
            "19    19    10283.217639\n",
            "20    20    17339.665368\n",
            "21    21    15409.994462\n",
            "22    22    18153.531555\n"
          ]
        }
      ]
    },
    {
      "cell_type": "code",
      "source": [
        "def get_shapefile_centroid(gdf):\n",
        "    \"\"\"Ensure CRS is geographic and return the centroid coordinates.\"\"\"\n",
        "    if gdf.crs is None or gdf.crs.is_projected:\n",
        "        gdf = gdf.to_crs(epsg=4326)  # Convert to WGS84 (lat/lon)\n",
        "\n",
        "    centroid = gdf.unary_union.centroid\n",
        "    return centroid.y, centroid.x  # (latitude, longitude)\n",
        "\n",
        "def get_best_crs(latitude, longitude):\n",
        "    \"\"\" Returns the best UTM zone EPSG code based on latitude \"\"\"\n",
        "    utm_zone = int((180 + longitude) / 6) + 1\n",
        "    return f\"EPSG:{32600 + utm_zone if latitude >= 0 else 32700 + utm_zone}\""
      ],
      "metadata": {
        "id": "ryrTRa2vqqPo",
        "colab": {
          "base_uri": "https://localhost:8080/",
          "height": 17
        },
        "outputId": "5f1442f4-90be-4e75-d16d-8dc1288b8998"
      },
      "execution_count": 105,
      "outputs": [
        {
          "output_type": "display_data",
          "data": {
            "text/plain": [
              "<IPython.core.display.HTML object>"
            ],
            "text/html": [
              "\n",
              "            <style>\n",
              "                .geemap-dark {\n",
              "                    --jp-widgets-color: white;\n",
              "                    --jp-widgets-label-color: white;\n",
              "                    --jp-ui-font-color1: white;\n",
              "                    --jp-layout-color2: #454545;\n",
              "                    background-color: #383838;\n",
              "                }\n",
              "\n",
              "                .geemap-dark .jupyter-button {\n",
              "                    --jp-layout-color3: #383838;\n",
              "                }\n",
              "\n",
              "                .geemap-colab {\n",
              "                    background-color: var(--colab-primary-surface-color, white);\n",
              "                }\n",
              "\n",
              "                .geemap-colab .jupyter-button {\n",
              "                    --jp-layout-color3: var(--colab-primary-surface-color, white);\n",
              "                }\n",
              "            </style>\n",
              "            "
            ]
          },
          "metadata": {}
        }
      ]
    },
    {
      "cell_type": "code",
      "source": [
        "latitude, longitude = get_shapefile_centroid(gdf)\n",
        "#print(f\"Central Point: ({latitude}, {longitude})\")\n",
        "best_epsg = get_best_crs(latitude, longitude)  # Replace with actual latitude\n",
        "print(best_epsg)"
      ],
      "metadata": {
        "colab": {
          "base_uri": "https://localhost:8080/",
          "height": 69
        },
        "id": "ElUp8FY_iy0N",
        "outputId": "1448fcdc-e843-48d7-e8ad-4b53a8178cc8"
      },
      "execution_count": 115,
      "outputs": [
        {
          "output_type": "display_data",
          "data": {
            "text/plain": [
              "<IPython.core.display.HTML object>"
            ],
            "text/html": [
              "\n",
              "            <style>\n",
              "                .geemap-dark {\n",
              "                    --jp-widgets-color: white;\n",
              "                    --jp-widgets-label-color: white;\n",
              "                    --jp-ui-font-color1: white;\n",
              "                    --jp-layout-color2: #454545;\n",
              "                    background-color: #383838;\n",
              "                }\n",
              "\n",
              "                .geemap-dark .jupyter-button {\n",
              "                    --jp-layout-color3: #383838;\n",
              "                }\n",
              "\n",
              "                .geemap-colab {\n",
              "                    background-color: var(--colab-primary-surface-color, white);\n",
              "                }\n",
              "\n",
              "                .geemap-colab .jupyter-button {\n",
              "                    --jp-layout-color3: var(--colab-primary-surface-color, white);\n",
              "                }\n",
              "            </style>\n",
              "            "
            ]
          },
          "metadata": {}
        },
        {
          "output_type": "stream",
          "name": "stdout",
          "text": [
            "EPSG:32630\n"
          ]
        },
        {
          "output_type": "stream",
          "name": "stderr",
          "text": [
            "<ipython-input-105-8622922bd85d>:6: DeprecationWarning: The 'unary_union' attribute is deprecated, use the 'union_all()' method instead.\n",
            "  centroid = gdf.unary_union.centroid\n"
          ]
        }
      ]
    },
    {
      "cell_type": "code",
      "source": [
        "gdf_crs = gdf.to_crs(best_epsg)\n",
        "total_area_ha = (gdf_crs['geometry'].area/10000).sum()\n",
        "print(f\"Total area in hectares: {total_area_ha}\")"
      ],
      "metadata": {
        "colab": {
          "base_uri": "https://localhost:8080/",
          "height": 34
        },
        "id": "Ub3sHwqhi1yK",
        "outputId": "31ca51b5-4ffe-48ef-c213-3a2edb54a216"
      },
      "execution_count": 116,
      "outputs": [
        {
          "output_type": "display_data",
          "data": {
            "text/plain": [
              "<IPython.core.display.HTML object>"
            ],
            "text/html": [
              "\n",
              "            <style>\n",
              "                .geemap-dark {\n",
              "                    --jp-widgets-color: white;\n",
              "                    --jp-widgets-label-color: white;\n",
              "                    --jp-ui-font-color1: white;\n",
              "                    --jp-layout-color2: #454545;\n",
              "                    background-color: #383838;\n",
              "                }\n",
              "\n",
              "                .geemap-dark .jupyter-button {\n",
              "                    --jp-layout-color3: #383838;\n",
              "                }\n",
              "\n",
              "                .geemap-colab {\n",
              "                    background-color: var(--colab-primary-surface-color, white);\n",
              "                }\n",
              "\n",
              "                .geemap-colab .jupyter-button {\n",
              "                    --jp-layout-color3: var(--colab-primary-surface-color, white);\n",
              "                }\n",
              "            </style>\n",
              "            "
            ]
          },
          "metadata": {}
        },
        {
          "output_type": "stream",
          "name": "stdout",
          "text": [
            "Total area in hectares: 165545.93989969188\n"
          ]
        }
      ]
    },
    {
      "cell_type": "code",
      "source": [
        "# Add a new column to the DataFrame that represents the percentage of burned area\n",
        "df['burned_area_percentage'] = (df['burned_area_ha'] / total_area_ha) * 100\n",
        "\n",
        "# Display the updated DataFrame\n",
        "print(df)"
      ],
      "metadata": {
        "colab": {
          "base_uri": "https://localhost:8080/",
          "height": 434
        },
        "id": "8YZdbNQzjULD",
        "outputId": "275ad0bd-874b-4c4e-e691-933afa2fa2a7"
      },
      "execution_count": 117,
      "outputs": [
        {
          "output_type": "display_data",
          "data": {
            "text/plain": [
              "<IPython.core.display.HTML object>"
            ],
            "text/html": [
              "\n",
              "            <style>\n",
              "                .geemap-dark {\n",
              "                    --jp-widgets-color: white;\n",
              "                    --jp-widgets-label-color: white;\n",
              "                    --jp-ui-font-color1: white;\n",
              "                    --jp-layout-color2: #454545;\n",
              "                    background-color: #383838;\n",
              "                }\n",
              "\n",
              "                .geemap-dark .jupyter-button {\n",
              "                    --jp-layout-color3: #383838;\n",
              "                }\n",
              "\n",
              "                .geemap-colab {\n",
              "                    background-color: var(--colab-primary-surface-color, white);\n",
              "                }\n",
              "\n",
              "                .geemap-colab .jupyter-button {\n",
              "                    --jp-layout-color3: var(--colab-primary-surface-color, white);\n",
              "                }\n",
              "            </style>\n",
              "            "
            ]
          },
          "metadata": {}
        },
        {
          "output_type": "stream",
          "name": "stdout",
          "text": [
            "    year  burned_area_ha  burned_area_percentage\n",
            "0      0    15993.940422                9.661331\n",
            "1      1    17682.933688               10.681587\n",
            "2      2    51375.511239               31.033990\n",
            "3      3    43786.661844               26.449855\n",
            "4      4    11065.035490                6.683967\n",
            "5      5    54372.177073               32.844162\n",
            "6      6    44827.918427               27.078839\n",
            "7      7    58118.532003               35.107193\n",
            "8      8    33747.360066               20.385495\n",
            "9      9    48892.319081               29.533989\n",
            "10    10    35779.973958               21.613320\n",
            "11    11    35116.493235               21.212537\n",
            "12    12    28134.077429               16.994725\n",
            "13    13    54513.929525               32.929789\n",
            "14    14    23391.044100               14.129639\n",
            "15    15    15052.857429                9.092858\n",
            "16    16    23782.446443               14.366071\n",
            "17    17    24987.765914               15.094158\n",
            "18    18    30902.887173               18.667258\n",
            "19    19    10283.217639                6.211700\n",
            "20    20    17339.665368               10.474232\n",
            "21    21    15409.994462                9.308591\n",
            "22    22    18153.531555               10.965857\n"
          ]
        }
      ]
    },
    {
      "cell_type": "code",
      "source": [
        "# Calculate mean and standard deviation for area burned in hectares\n",
        "mean_area = df['burned_area_ha'].mean()\n",
        "std_area = df['burned_area_ha'].std()\n",
        "print(mean_area)\n",
        "print(std_area)\n",
        "\n",
        "mean_area_percentage = df['burned_area_percentage'].mean()\n",
        "std_area_percentage = df['burned_area_percentage'].std()\n",
        "print(mean_area_percentage)\n",
        "print(std_area_percentage)"
      ],
      "metadata": {
        "id": "rD8E8s81OOhX",
        "outputId": "5ef64d9d-ca10-44d8-a84a-66055aa6fadc",
        "colab": {
          "base_uri": "https://localhost:8080/",
          "height": 86
        }
      },
      "execution_count": 118,
      "outputs": [
        {
          "output_type": "display_data",
          "data": {
            "text/plain": [
              "<IPython.core.display.HTML object>"
            ],
            "text/html": [
              "\n",
              "            <style>\n",
              "                .geemap-dark {\n",
              "                    --jp-widgets-color: white;\n",
              "                    --jp-widgets-label-color: white;\n",
              "                    --jp-ui-font-color1: white;\n",
              "                    --jp-layout-color2: #454545;\n",
              "                    background-color: #383838;\n",
              "                }\n",
              "\n",
              "                .geemap-dark .jupyter-button {\n",
              "                    --jp-layout-color3: #383838;\n",
              "                }\n",
              "\n",
              "                .geemap-colab {\n",
              "                    background-color: var(--colab-primary-surface-color, white);\n",
              "                }\n",
              "\n",
              "                .geemap-colab .jupyter-button {\n",
              "                    --jp-layout-color3: var(--colab-primary-surface-color, white);\n",
              "                }\n",
              "            </style>\n",
              "            "
            ]
          },
          "metadata": {}
        },
        {
          "output_type": "stream",
          "name": "stdout",
          "text": [
            "30987.403198372784\n",
            "15380.613816036524\n",
            "18.718310589283416\n",
            "9.290843270065093\n"
          ]
        }
      ]
    },
    {
      "cell_type": "code",
      "source": [
        "#TIME SINCE LAST FIRE\n",
        "# Sort data by year (ensure it's sorted)\n",
        "df = df.sort_values('year', ascending=True)\n",
        "big_fire_threshold = mean_area + (std_area)\n",
        "\n",
        "# Find the most recent year with a big fire\n",
        "big_fires = df[df['burned_area_ha'] >= big_fire_threshold]\n",
        "if not big_fires.empty:\n",
        "    last_big_fire_year = big_fires['year'].max()\n",
        "else:\n",
        "    last_big_fire_year = None  # No big fire found\n",
        "\n",
        "# Get the current year (assuming the latest year in the dataset is the most recent)\n",
        "current_year = df['year'].max()\n",
        "\n",
        "# Calculate how many years ago the last big fire occurred\n",
        "if last_big_fire_year:\n",
        "    years_since_last_big_fire = current_year - last_big_fire_year\n",
        "else:\n",
        "    years_since_last_big_fire = float('inf')  # If no fire, treat as very long ago\n",
        "\n",
        "# Determine risk level\n",
        "if years_since_last_big_fire <= 5:\n",
        "    risk_level = \"High risk\"\n",
        "elif 5 < years_since_last_big_fire <= 10:\n",
        "    risk_level = \"Medium risk\"\n",
        "else:\n",
        "    risk_level = \"Low risk\"\n",
        "\n",
        "\n",
        "# Filter the dataframe to get only the big fires\n",
        "big_fires = df[df['burned_area_ha'] >= big_fire_threshold]\n",
        "\n",
        "# Count the number of big fires\n",
        "num_big_fires = len(big_fires)\n",
        "\n",
        "print(f\"Total number of big fires: {num_big_fires}\")\n",
        "print(f\"Year of last big fire: 20{last_big_fire_year}\")\n",
        "print(f\"Nr of years since last big fire: {years_since_last_big_fire}\")\n",
        "print(f\"Fire risk: {risk_level}\")"
      ],
      "metadata": {
        "id": "kHJIpM0hRY9Y",
        "outputId": "2906cc85-edd0-4044-9a59-f87e9e047269",
        "colab": {
          "base_uri": "https://localhost:8080/",
          "height": 86
        }
      },
      "execution_count": 120,
      "outputs": [
        {
          "output_type": "display_data",
          "data": {
            "text/plain": [
              "<IPython.core.display.HTML object>"
            ],
            "text/html": [
              "\n",
              "            <style>\n",
              "                .geemap-dark {\n",
              "                    --jp-widgets-color: white;\n",
              "                    --jp-widgets-label-color: white;\n",
              "                    --jp-ui-font-color1: white;\n",
              "                    --jp-layout-color2: #454545;\n",
              "                    background-color: #383838;\n",
              "                }\n",
              "\n",
              "                .geemap-dark .jupyter-button {\n",
              "                    --jp-layout-color3: #383838;\n",
              "                }\n",
              "\n",
              "                .geemap-colab {\n",
              "                    background-color: var(--colab-primary-surface-color, white);\n",
              "                }\n",
              "\n",
              "                .geemap-colab .jupyter-button {\n",
              "                    --jp-layout-color3: var(--colab-primary-surface-color, white);\n",
              "                }\n",
              "            </style>\n",
              "            "
            ]
          },
          "metadata": {}
        },
        {
          "output_type": "stream",
          "name": "stdout",
          "text": [
            "Total number of big fires: 5\n",
            "Year of last big fire: 2013\n",
            "Nr of years since last big fire: 9\n",
            "Fire risk: Medium risk\n"
          ]
        }
      ]
    },
    {
      "cell_type": "code",
      "source": [
        "import matplotlib.pyplot as plt\n",
        "import seaborn as sns\n",
        "\n",
        "# Calculate thresholds for risk levels\n",
        "mean_area = df['burned_area_percentage'].mean()\n",
        "std_area = df['burned_area_percentage'].std()\n",
        "\n",
        "low_risk_threshold = mean_area - (1.5*std_area)\n",
        "high_risk_threshold = mean_area + (1.5*std_area)\n",
        "mean_threshold = mean_area\n",
        "# Categorize the point sizes based on the area burned\n",
        "def size_category(burned_area_percentage):\n",
        "    if burned_area_percentage < 10:\n",
        "        return 30  # Small\n",
        "    elif 10 <= burned_area_percentage < 30:\n",
        "        return 100  # Medium\n",
        "    elif 30 <= burned_area_percentage < 50:\n",
        "        return 200  # Medium-large\n",
        "    else:\n",
        "        return 300  # Large\n",
        "\n",
        "# Apply the size category function to the 'burned_area_ha' column\n",
        "df['point_size'] = df['burned_area_percentage'].apply(size_category)\n",
        "\n",
        "# Create the scatter plot\n",
        "plt.figure(figsize=(12, 7))\n",
        "sns.scatterplot(data=df, x='year', y='burned_area_percentage', size='point_size', sizes=(30, 300),\n",
        "                hue='burned_area_percentage', palette='coolwarm', legend=False)\n",
        "\n",
        "# Add horizontal lines for risk thresholds\n",
        "plt.axhline(y=low_risk_threshold, color='green', linestyle='--', label='Low Risk Threshold')\n",
        "plt.axhline(y=high_risk_threshold, color='red', linestyle='--', label='High Risk Threshold')\n",
        "plt.axhline(y=mean_threshold, color='blue', linestyle='--', label='Mean Threshold')\n",
        "\n",
        "# Set labels and title\n",
        "plt.title('Percentage of Burned Area per Year with Risk Thresholds', fontsize=16)\n",
        "plt.xlabel('Year', fontsize=14)\n",
        "plt.ylabel('Burned Area (%)', fontsize=14)\n",
        "plt.yscale('log')\n",
        "\n",
        "# Show legend\n",
        "plt.legend()\n",
        "\n",
        "# Show the plot\n",
        "plt.tight_layout()\n",
        "plt.show()\n"
      ],
      "metadata": {
        "id": "a78s6QbTbLfL",
        "outputId": "60c1e04c-92ac-42d3-e01b-ef42ecaa8f65",
        "colab": {
          "base_uri": "https://localhost:8080/",
          "height": 707
        }
      },
      "execution_count": 133,
      "outputs": [
        {
          "output_type": "display_data",
          "data": {
            "text/plain": [
              "<IPython.core.display.HTML object>"
            ],
            "text/html": [
              "\n",
              "            <style>\n",
              "                .geemap-dark {\n",
              "                    --jp-widgets-color: white;\n",
              "                    --jp-widgets-label-color: white;\n",
              "                    --jp-ui-font-color1: white;\n",
              "                    --jp-layout-color2: #454545;\n",
              "                    background-color: #383838;\n",
              "                }\n",
              "\n",
              "                .geemap-dark .jupyter-button {\n",
              "                    --jp-layout-color3: #383838;\n",
              "                }\n",
              "\n",
              "                .geemap-colab {\n",
              "                    background-color: var(--colab-primary-surface-color, white);\n",
              "                }\n",
              "\n",
              "                .geemap-colab .jupyter-button {\n",
              "                    --jp-layout-color3: var(--colab-primary-surface-color, white);\n",
              "                }\n",
              "            </style>\n",
              "            "
            ]
          },
          "metadata": {}
        },
        {
          "output_type": "display_data",
          "data": {
            "text/plain": [
              "<Figure size 1200x700 with 1 Axes>"
            ],
            "image/png": "[encoded data removed]"
          },
          "metadata": {}
        }
      ]
    },
    {
      "cell_type": "code",
      "source": [
        "import matplotlib.pyplot as plt\n",
        "import seaborn as sns\n",
        "\n",
        "# Assuming 'df' contains the 'year', 'percentage_burned', and 'area_burned(ha)' columns\n",
        "# Categorize the point sizes based on the area burned\n",
        "def size_category(area):\n",
        "    if area < 300:\n",
        "        return 30  # Small\n",
        "    elif 300 <= area < 500:\n",
        "        return 100  # Medium\n",
        "    elif 500 <= area < 1000:\n",
        "        return 200  # Medium-large\n",
        "    else:\n",
        "        return 300  # Large\n",
        "\n",
        "# Apply the size category function to the 'area_burned(ha)' column\n",
        "df['point_size'] = df['burned_area_ha'].apply(size_category)\n",
        "\n",
        "# Create the plot\n",
        "plt.figure(figsize=(10, 6))\n",
        "sns.scatterplot(data=df, x='year', y='burned_area_percentage', size='point_size', sizes=(30, 300), hue='burned_area_percentage', palette='coolwarm', legend=False)\n",
        "\n",
        "# Set the labels and title\n",
        "plt.title('Percentage of Burned Area per Year', fontsize=16)\n",
        "plt.xlabel('Year', fontsize=14)\n",
        "plt.ylabel('Percentage of Burned Area (%)', fontsize=14)\n",
        "\n",
        "# Show the plot\n",
        "plt.tight_layout()\n",
        "plt.show()\n"
      ],
      "metadata": {
        "colab": {
          "base_uri": "https://localhost:8080/",
          "height": 607
        },
        "id": "zOlCmCGAkE8p",
        "outputId": "ec0af534-efe2-43fc-b23c-b6a76f09463a"
      },
      "execution_count": 78,
      "outputs": [
        {
          "output_type": "display_data",
          "data": {
            "text/plain": [
              "<IPython.core.display.HTML object>"
            ],
            "text/html": [
              "\n",
              "            <style>\n",
              "                .geemap-dark {\n",
              "                    --jp-widgets-color: white;\n",
              "                    --jp-widgets-label-color: white;\n",
              "                    --jp-ui-font-color1: white;\n",
              "                    --jp-layout-color2: #454545;\n",
              "                    background-color: #383838;\n",
              "                }\n",
              "\n",
              "                .geemap-dark .jupyter-button {\n",
              "                    --jp-layout-color3: #383838;\n",
              "                }\n",
              "\n",
              "                .geemap-colab {\n",
              "                    background-color: var(--colab-primary-surface-color, white);\n",
              "                }\n",
              "\n",
              "                .geemap-colab .jupyter-button {\n",
              "                    --jp-layout-color3: var(--colab-primary-surface-color, white);\n",
              "                }\n",
              "            </style>\n",
              "            "
            ]
          },
          "metadata": {}
        },
        {
          "output_type": "display_data",
          "data": {
            "text/plain": [
              "<Figure size 1000x600 with 1 Axes>"
            ],
            "image/png": "[encoded data removed]"
          },
          "metadata": {}
        }
      ]
    }
  ]
}